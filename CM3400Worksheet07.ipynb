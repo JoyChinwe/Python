{
 "cells": [
  {
   "cell_type": "raw",
   "metadata": {},
   "source": [
    "## CM3400 Worksheet 07 - Classification - Sample Solutions"
   ]
  },
  {
   "cell_type": "code",
   "execution_count": 42,
   "metadata": {},
   "outputs": [],
   "source": [
    "import pandas as pd\n",
    "import seaborn\n",
    "import numpy as np\n",
    "import matplotlib.pyplot as plt"
   ]
  },
  {
   "cell_type": "markdown",
   "metadata": {},
   "source": [
    "### Task 1 - Classification using the iris dataset\n",
    "\n",
    "The iris dataset is a 'classic' machine learning sample dataset."
   ]
  },
  {
   "cell_type": "code",
   "execution_count": null,
   "metadata": {},
   "outputs": [],
   "source": []
  },
  {
   "cell_type": "code",
   "execution_count": 43,
   "metadata": {
    "scrolled": true
   },
   "outputs": [
    {
     "data": {
      "text/html": [
       "<div>\n",
       "<style scoped>\n",
       "    .dataframe tbody tr th:only-of-type {\n",
       "        vertical-align: middle;\n",
       "    }\n",
       "\n",
       "    .dataframe tbody tr th {\n",
       "        vertical-align: top;\n",
       "    }\n",
       "\n",
       "    .dataframe thead th {\n",
       "        text-align: right;\n",
       "    }\n",
       "</style>\n",
       "<table border=\"1\" class=\"dataframe\">\n",
       "  <thead>\n",
       "    <tr style=\"text-align: right;\">\n",
       "      <th></th>\n",
       "      <th>sepal_length</th>\n",
       "      <th>sepal_width</th>\n",
       "      <th>petal_length</th>\n",
       "      <th>petal_width</th>\n",
       "      <th>species</th>\n",
       "    </tr>\n",
       "  </thead>\n",
       "  <tbody>\n",
       "    <tr>\n",
       "      <th>0</th>\n",
       "      <td>5.1</td>\n",
       "      <td>3.5</td>\n",
       "      <td>1.4</td>\n",
       "      <td>0.2</td>\n",
       "      <td>setosa</td>\n",
       "    </tr>\n",
       "    <tr>\n",
       "      <th>1</th>\n",
       "      <td>4.9</td>\n",
       "      <td>3.0</td>\n",
       "      <td>1.4</td>\n",
       "      <td>0.2</td>\n",
       "      <td>setosa</td>\n",
       "    </tr>\n",
       "    <tr>\n",
       "      <th>2</th>\n",
       "      <td>4.7</td>\n",
       "      <td>3.2</td>\n",
       "      <td>1.3</td>\n",
       "      <td>0.2</td>\n",
       "      <td>setosa</td>\n",
       "    </tr>\n",
       "    <tr>\n",
       "      <th>3</th>\n",
       "      <td>4.6</td>\n",
       "      <td>3.1</td>\n",
       "      <td>1.5</td>\n",
       "      <td>0.2</td>\n",
       "      <td>setosa</td>\n",
       "    </tr>\n",
       "    <tr>\n",
       "      <th>4</th>\n",
       "      <td>5.0</td>\n",
       "      <td>3.6</td>\n",
       "      <td>1.4</td>\n",
       "      <td>0.2</td>\n",
       "      <td>setosa</td>\n",
       "    </tr>\n",
       "  </tbody>\n",
       "</table>\n",
       "</div>"
      ],
      "text/plain": [
       "   sepal_length  sepal_width  petal_length  petal_width species\n",
       "0           5.1          3.5           1.4          0.2  setosa\n",
       "1           4.9          3.0           1.4          0.2  setosa\n",
       "2           4.7          3.2           1.3          0.2  setosa\n",
       "3           4.6          3.1           1.5          0.2  setosa\n",
       "4           5.0          3.6           1.4          0.2  setosa"
      ]
     },
     "execution_count": 43,
     "metadata": {},
     "output_type": "execute_result"
    }
   ],
   "source": [
    "## Load the dataset from the seaborn library\n",
    "\n",
    "import pandas as pd\n",
    "import seaborn\n",
    "df = seaborn.load_dataset(\"iris\")\n",
    "df.head()"
   ]
  },
  {
   "cell_type": "code",
   "execution_count": 44,
   "metadata": {},
   "outputs": [
    {
     "data": {
      "text/html": [
       "<div>\n",
       "<style scoped>\n",
       "    .dataframe tbody tr th:only-of-type {\n",
       "        vertical-align: middle;\n",
       "    }\n",
       "\n",
       "    .dataframe tbody tr th {\n",
       "        vertical-align: top;\n",
       "    }\n",
       "\n",
       "    .dataframe thead th {\n",
       "        text-align: right;\n",
       "    }\n",
       "</style>\n",
       "<table border=\"1\" class=\"dataframe\">\n",
       "  <thead>\n",
       "    <tr style=\"text-align: right;\">\n",
       "      <th></th>\n",
       "      <th>sepal_length</th>\n",
       "      <th>sepal_width</th>\n",
       "      <th>petal_length</th>\n",
       "      <th>petal_width</th>\n",
       "    </tr>\n",
       "  </thead>\n",
       "  <tbody>\n",
       "    <tr>\n",
       "      <th>count</th>\n",
       "      <td>150.000000</td>\n",
       "      <td>150.000000</td>\n",
       "      <td>150.000000</td>\n",
       "      <td>150.000000</td>\n",
       "    </tr>\n",
       "    <tr>\n",
       "      <th>mean</th>\n",
       "      <td>5.843333</td>\n",
       "      <td>3.057333</td>\n",
       "      <td>3.758000</td>\n",
       "      <td>1.199333</td>\n",
       "    </tr>\n",
       "    <tr>\n",
       "      <th>std</th>\n",
       "      <td>0.828066</td>\n",
       "      <td>0.435866</td>\n",
       "      <td>1.765298</td>\n",
       "      <td>0.762238</td>\n",
       "    </tr>\n",
       "    <tr>\n",
       "      <th>min</th>\n",
       "      <td>4.300000</td>\n",
       "      <td>2.000000</td>\n",
       "      <td>1.000000</td>\n",
       "      <td>0.100000</td>\n",
       "    </tr>\n",
       "    <tr>\n",
       "      <th>25%</th>\n",
       "      <td>5.100000</td>\n",
       "      <td>2.800000</td>\n",
       "      <td>1.600000</td>\n",
       "      <td>0.300000</td>\n",
       "    </tr>\n",
       "    <tr>\n",
       "      <th>50%</th>\n",
       "      <td>5.800000</td>\n",
       "      <td>3.000000</td>\n",
       "      <td>4.350000</td>\n",
       "      <td>1.300000</td>\n",
       "    </tr>\n",
       "    <tr>\n",
       "      <th>75%</th>\n",
       "      <td>6.400000</td>\n",
       "      <td>3.300000</td>\n",
       "      <td>5.100000</td>\n",
       "      <td>1.800000</td>\n",
       "    </tr>\n",
       "    <tr>\n",
       "      <th>max</th>\n",
       "      <td>7.900000</td>\n",
       "      <td>4.400000</td>\n",
       "      <td>6.900000</td>\n",
       "      <td>2.500000</td>\n",
       "    </tr>\n",
       "  </tbody>\n",
       "</table>\n",
       "</div>"
      ],
      "text/plain": [
       "       sepal_length  sepal_width  petal_length  petal_width\n",
       "count    150.000000   150.000000    150.000000   150.000000\n",
       "mean       5.843333     3.057333      3.758000     1.199333\n",
       "std        0.828066     0.435866      1.765298     0.762238\n",
       "min        4.300000     2.000000      1.000000     0.100000\n",
       "25%        5.100000     2.800000      1.600000     0.300000\n",
       "50%        5.800000     3.000000      4.350000     1.300000\n",
       "75%        6.400000     3.300000      5.100000     1.800000\n",
       "max        7.900000     4.400000      6.900000     2.500000"
      ]
     },
     "execution_count": 44,
     "metadata": {},
     "output_type": "execute_result"
    }
   ],
   "source": [
    "df.describe()"
   ]
  },
  {
   "cell_type": "code",
   "execution_count": 45,
   "metadata": {},
   "outputs": [
    {
     "name": "stdout",
     "output_type": "stream",
     "text": [
      "The distibution of the three values is very similar, so no issues with ill-balance in the target\n"
     ]
    },
    {
     "data": {
      "image/png": "[encoded data removed]",
      "text/plain": [
       "<Figure size 432x288 with 1 Axes>"
      ]
     },
     "metadata": {
      "needs_background": "light"
     },
     "output_type": "display_data"
    }
   ],
   "source": [
    "## Examine the distribution of the target variable, which is species\n",
    "df['species'].value_counts().plot.bar()\n",
    "print(\"The distibution of the three values is very similar, so no issues with ill-balance in the target\")"
   ]
  },
  {
   "cell_type": "code",
   "execution_count": 46,
   "metadata": {},
   "outputs": [
    {
     "data": {
      "image/png": "[encoded data removed]",
      "text/plain": [
       "<Figure size 720x288 with 2 Axes>"
      ]
     },
     "metadata": {
      "needs_background": "light"
     },
     "output_type": "display_data"
    },
    {
     "name": "stdout",
     "output_type": "stream",
     "text": [
      "The distibution of the sepal_length is fairly symmetric, and roughly normally distributed\n"
     ]
    },
    {
     "data": {
      "image/png": "[encoded data removed]",
      "text/plain": [
       "<Figure size 720x288 with 2 Axes>"
      ]
     },
     "metadata": {
      "needs_background": "light"
     },
     "output_type": "display_data"
    },
    {
     "name": "stdout",
     "output_type": "stream",
     "text": [
      "The distibution of the sepal_width is fairly symmetric, and roughly normally distributed\n"
     ]
    },
    {
     "data": {
      "image/png": "[encoded data removed]",
      "text/plain": [
       "<Figure size 720x288 with 2 Axes>"
      ]
     },
     "metadata": {
      "needs_background": "light"
     },
     "output_type": "display_data"
    },
    {
     "name": "stdout",
     "output_type": "stream",
     "text": [
      "The distibution of the petal_length shows a skew, perhaps due to different types having different means\n"
     ]
    },
    {
     "data": {
      "image/png": "[encoded data removed]",
      "text/plain": [
       "<Figure size 720x288 with 2 Axes>"
      ]
     },
     "metadata": {
      "needs_background": "light"
     },
     "output_type": "display_data"
    },
    {
     "name": "stdout",
     "output_type": "stream",
     "text": [
      "The distibution of the petal_width shows a skew, perhaps due to different types having different means\n"
     ]
    }
   ],
   "source": [
    "## Examine the distribution of the predictor variables\n",
    "fig, ax = plt.subplots(1, 2, figsize=(10, 4))\n",
    "df['sepal_length'].hist(bins = 20, ax = ax[0])\n",
    "df['sepal_length'].plot.box(ax = ax[1])\n",
    "plt.show()\n",
    "print(\"The distibution of the sepal_length is fairly symmetric, and roughly normally distributed\")\n",
    "\n",
    "fig, ax = plt.subplots(1, 2, figsize=(10, 4))\n",
    "df['sepal_width'].hist(bins = 20, ax = ax[0])\n",
    "df['sepal_width'].plot.box(ax = ax[1])\n",
    "plt.show()\n",
    "print(\"The distibution of the sepal_width is fairly symmetric, and roughly normally distributed\")\n",
    "\n",
    "fig, ax = plt.subplots(1, 2, figsize=(10, 4))\n",
    "df['petal_length'].hist(bins = 20, ax = ax[0])\n",
    "df['petal_length'].plot.box(ax = ax[1])\n",
    "plt.show()\n",
    "print(\"The distibution of the petal_length shows a skew, perhaps due to different types having different means\")\n",
    "\n",
    "fig, ax = plt.subplots(1, 2, figsize=(10, 4))\n",
    "df['petal_width'].hist(bins = 20, ax = ax[0])\n",
    "df['petal_width'].plot.box(ax = ax[1])\n",
    "plt.show()\n",
    "print(\"The distibution of the petal_width shows a skew, perhaps due to different types having different means\")\n"
   ]
  },
  {
   "cell_type": "markdown",
   "metadata": {},
   "source": [
    "Because of the difference in ranges and means of the numerical data, some normalisation or standardisation is recommended when applying techniques such as k-NN (which are distance based)."
   ]
  },
  {
   "cell_type": "code",
   "execution_count": 47,
   "metadata": {},
   "outputs": [
    {
     "data": {
      "image/png": "[encoded data removed]",
      "text/plain": [
       "<Figure size 432x288 with 1 Axes>"
      ]
     },
     "metadata": {
      "needs_background": "light"
     },
     "output_type": "display_data"
    },
    {
     "data": {
      "image/png": "[encoded data removed]",
      "text/plain": [
       "<Figure size 432x288 with 1 Axes>"
      ]
     },
     "metadata": {
      "needs_background": "light"
     },
     "output_type": "display_data"
    },
    {
     "data": {
      "image/png": "[encoded data removed]",
      "text/plain": [
       "<Figure size 432x288 with 1 Axes>"
      ]
     },
     "metadata": {
      "needs_background": "light"
     },
     "output_type": "display_data"
    },
    {
     "data": {
      "image/png": "[encoded data removed]",
      "text/plain": [
       "<Figure size 432x288 with 1 Axes>"
      ]
     },
     "metadata": {
      "needs_background": "light"
     },
     "output_type": "display_data"
    },
    {
     "name": "stdout",
     "output_type": "stream",
     "text": [
      "Physical measurements do seem to be influenced by the species\n"
     ]
    }
   ],
   "source": [
    "df.boxplot('sepal_length', by = 'species')\n",
    "plt.show()\n",
    "df.boxplot('sepal_width', by = 'species')\n",
    "plt.show()\n",
    "df.boxplot('petal_length', by = 'species')\n",
    "plt.show()\n",
    "df.boxplot('petal_width', by = 'species')\n",
    "plt.show()\n",
    "print(\"Physical measurements do seem to be influenced by the species\")"
   ]
  },
  {
   "cell_type": "code",
   "execution_count": 48,
   "metadata": {},
   "outputs": [
    {
     "name": "stdout",
     "output_type": "stream",
     "text": [
      "decision tree\n",
      "accuracy(test) =  0.9466666666666667\n",
      "CM(test) = \n",
      " [[29  0  0]\n",
      " [ 0 23  0]\n",
      " [ 0  4 19]]\n"
     ]
    }
   ],
   "source": [
    "import pandas as pd\n",
    "import seaborn\n",
    "df = seaborn.load_dataset(\"iris\")\n",
    "from sklearn.tree import DecisionTreeClassifier\n",
    "from sklearn.model_selection import train_test_split\n",
    "\n",
    "tree = DecisionTreeClassifier(max_depth = 3, criterion = 'entropy')\n",
    "tree = DecisionTreeClassifier(max_depth = 4, criterion = 'gini')\n",
    "# tree = DecisionTreeClassifier()\n",
    "\n",
    "y = df['species']\n",
    "X = df.drop(columns = ['species'])\n",
    "X = pd.get_dummies(X)\n",
    "\n",
    "Xtrain, Xtest, ytrain, ytest = train_test_split(X, y, test_size=0.5, random_state=42)\n",
    "\n",
    "model = tree.fit(Xtrain,ytrain)\n",
    "\n",
    "## Test on the test-set which model has not seen\n",
    "y_pred = model.predict(Xtest)\n",
    "\n",
    "import sklearn.metrics as metrics\n",
    "print(\"decision tree\")\n",
    "print(\"accuracy(test) = \", metrics.accuracy_score(ytest, y_pred))\n",
    "print(\"CM(test) = \\n\", metrics.confusion_matrix(ytest, y_pred))"
   ]
  },
  {
   "cell_type": "markdown",
   "metadata": {},
   "source": [
    "training:testing : Accuracy (gini) : Accuracy (entropy) \n",
    "90:10 : 100% : 100%\n",
    "\n",
    "70:30 : 100% : 100%\n",
    "\n",
    "60:40 : 96.7% : 98.3%\n",
    "\n",
    "50:50 : 90.7% : 92%\n",
    "\n",
    "40:60 : 96.7% : 96.7%\n",
    "\n",
    "30:70 : 92.3% : 92.4%\n",
    "\n",
    "More training data generally leads to better (i.e. more accurate) models. \n",
    "But it's important to reserve a large enough test set of unseen data.\n",
    "In this dataset (where there are n=150 rows) it's hard to achieve a perfect balance, and more sophisticated approaches such as cross-validation might be advised (See topic 8)\n",
    "\n",
    "Limiting the max_depth in this example to 2 or 3 will reduce the complexity of the model, and limit the accuracy achievable on the training set, but with the benefit of not overfitting to the random variations in the training set. e.g. At a 50:50 train:test split, max_depth =2 gave 86.7% accuracy, but max_depth = 3 gave 97.3% or 98.7% accuracy accuracy on the test set (depending on criteria used). So limiting tree depth can be of benefit (max_depth to use will depend on the dataset, so is a matter of experimentation)"
   ]
  },
  {
   "cell_type": "code",
   "execution_count": 49,
   "metadata": {
    "scrolled": false
   },
   "outputs": [
    {
     "data": {
      "image/png": "[encoded data removed]",
      "text/plain": [
       "<Figure size 1440x576 with 1 Axes>"
      ]
     },
     "metadata": {
      "needs_background": "light"
     },
     "output_type": "display_data"
    }
   ],
   "source": [
    "from sklearn import tree\n",
    "plt.figure(figsize = (20,8))\n",
    "tree.plot_tree(model, feature_names = X.columns, class_names = y.unique() )\n",
    "plt.show()"
   ]
  },
  {
   "cell_type": "code",
   "execution_count": 50,
   "metadata": {
    "scrolled": true
   },
   "outputs": [
    {
     "name": "stdout",
     "output_type": "stream",
     "text": [
      "kNN\n",
      "accuracy(test) =  0.9466666666666667\n",
      "Confusion Matrix(test) = \n",
      " [[29  0  0]\n",
      " [ 0 23  0]\n",
      " [ 0  4 19]]\n"
     ]
    }
   ],
   "source": [
    "## Apply k-Nearest Neighbours model with no preprocessing\n",
    "df = seaborn.load_dataset(\"iris\")\n",
    "from sklearn.neighbors import KNeighborsClassifier\n",
    "from sklearn.model_selection import train_test_split\n",
    "knn = KNeighborsClassifier()\n",
    "\n",
    "y = df['species']\n",
    "X = df.drop(columns = ['species'])\n",
    "\n",
    "Xtrain, Xtest, ytrain, ytest = train_test_split(X, y, test_size=0.5, random_state=42)\n",
    "\n",
    "kNNmodel = knn.fit(Xtrain,ytrain)\n",
    "y_pred = kNNmodel.predict(Xtest)\n",
    "\n",
    "print(\"kNN\")\n",
    "print(\"accuracy(test) = \", metrics.accuracy_score(ytest, y_pred))\n",
    "print(\"Confusion Matrix(test) = \\n\", metrics.confusion_matrix(ytest, y_pred))"
   ]
  },
  {
   "cell_type": "code",
   "execution_count": 51,
   "metadata": {},
   "outputs": [
    {
     "name": "stdout",
     "output_type": "stream",
     "text": [
      "kNN with normalised predictors\n",
      "accuracy(test) =  0.9866666666666667\n",
      "Confusion Matrix(test) = \n",
      " [[29  0  0]\n",
      " [ 0 23  0]\n",
      " [ 0  1 22]]\n",
      "kNN with standardised predictors\n",
      "accuracy(test) =  0.9733333333333334\n",
      "Confusion Matrix(test) = \n",
      " [[29  0  0]\n",
      " [ 0 23  0]\n",
      " [ 0  2 21]]\n"
     ]
    }
   ],
   "source": [
    "## Apply k-Nearest Neighbours model with normalisation as preprocessing\n",
    "df = seaborn.load_dataset(\"iris\")\n",
    "from sklearn.neighbors import KNeighborsClassifier\n",
    "from sklearn.model_selection import train_test_split\n",
    "\n",
    "# knn = KNeighborsClassifier() ### default is 5 neighbours \n",
    "knn = KNeighborsClassifier(n_neighbors = 3) ### trying a few values of n_neighbors n = 3 seems best\n",
    "\n",
    "y = df['species']\n",
    "X = df.drop(columns = ['species'])\n",
    "\n",
    "from sklearn import preprocessing\n",
    "scaler = preprocessing.MinMaxScaler()\n",
    "Xnorm = scaler.fit_transform(X)\n",
    "\n",
    "Xtrain, Xtest, ytrain, ytest = train_test_split(Xnorm, y, test_size=0.5, random_state=42)\n",
    "\n",
    "kNNmodel = knn.fit(Xtrain,ytrain)\n",
    "y_pred = kNNmodel.predict(Xtest)\n",
    "\n",
    "print(\"kNN with normalised predictors\")\n",
    "print(\"accuracy(test) = \", metrics.accuracy_score(ytest, y_pred))\n",
    "print(\"Confusion Matrix(test) = \\n\", metrics.confusion_matrix(ytest, y_pred))\n",
    "\n",
    "from sklearn import preprocessing\n",
    "scaler = preprocessing.StandardScaler()\n",
    "Xstd = scaler.fit_transform(X)\n",
    "\n",
    "Xtrain, Xtest, ytrain, ytest = train_test_split(Xstd, y, test_size=0.5, random_state=42)\n",
    "\n",
    "kNNmodel = knn.fit(Xtrain,ytrain)\n",
    "y_pred = kNNmodel.predict(Xtest)\n",
    "\n",
    "print(\"kNN with standardised predictors\")\n",
    "print(\"accuracy(test) = \", metrics.accuracy_score(ytest, y_pred))\n",
    "print(\"Confusion Matrix(test) = \\n\", metrics.confusion_matrix(ytest, y_pred))"
   ]
  },
  {
   "cell_type": "markdown",
   "metadata": {},
   "source": [
    "Same data, same train-test split, will have higher accuracy when either standardised or normalised. In this case normalising seems to have the greatest benefit"
   ]
  },
  {
   "cell_type": "code",
   "execution_count": null,
   "metadata": {},
   "outputs": [],
   "source": []
  },
  {
   "cell_type": "markdown",
   "metadata": {},
   "source": [
    "### Task 2 - Classification using the heart.csv dataset\n",
    "\n",
    "The heart dataset has a binary target names disease. It has a combination of categorical and numerical predictors.\n",
    "It also has some missing data which we will have to remove befor performing analysis"
   ]
  },
  {
   "cell_type": "code",
   "execution_count": 52,
   "metadata": {},
   "outputs": [
    {
     "data": {
      "text/plain": [
       "age    sex    cp     trestbps  chol   fbs    restecg  thalach  exang  oldpeak  slope  ca     thal   disease\n",
       "False  False  False  False     False  False  False    False    False  False    False  False  False  False      296\n",
       "                                                                                      True   False  False        5\n",
       "                                                                                      False  True   False        2\n",
       "dtype: int64"
      ]
     },
     "execution_count": 52,
     "metadata": {},
     "output_type": "execute_result"
    }
   ],
   "source": [
    "### Load the dataset (change path to match file location on your own machine)\n",
    "heart = pd.read_csv(\"C:/Data/heart.csv\")\n",
    "\n",
    "heart.isna().value_counts() ### may not work if you hve an older version of pandas installed\n",
    "\n",
    "## we can see missing data in ca, thal and disease columns"
   ]
  },
  {
   "cell_type": "code",
   "execution_count": 53,
   "metadata": {},
   "outputs": [
    {
     "data": {
      "text/plain": [
       "age    sex    cp     trestbps  chol   fbs    restecg  thalach  exang  oldpeak  slope  ca     thal   disease\n",
       "False  False  False  False     False  False  False    False    False  False    False  False  False  False      296\n",
       "dtype: int64"
      ]
     },
     "execution_count": 53,
     "metadata": {},
     "output_type": "execute_result"
    }
   ],
   "source": [
    "heart = heart.dropna() ## remove rows with missing data\n",
    "\n",
    "heart.isna().value_counts() ### may not work if you hve an older version of pandas installed\n",
    "\n",
    "## check now shows no missing data"
   ]
  },
  {
   "cell_type": "code",
   "execution_count": 54,
   "metadata": {},
   "outputs": [
    {
     "name": "stdout",
     "output_type": "stream",
     "text": [
      "decision tree\n",
      "accuracy (on training set) =  1.0\n",
      "Confusion Matrix = \n",
      " [[160   0]\n",
      " [  0 136]]\n",
      "kNN\n",
      "accuracy (on training set) =  0.8817567567567568\n",
      "Confusion Matrix = \n",
      " [[145  15]\n",
      " [ 20 116]]\n",
      "RF\n",
      "accuracy (on training set) =  1.0\n",
      "Confusion Matrix = \n",
      " [[160   0]\n",
      " [  0 136]]\n",
      "\n",
      "\n",
      "As expected models perform very well on data on which they were trained, but thats not a fair evaluation\n"
     ]
    }
   ],
   "source": [
    "### Train and test on entire dataset: this will likely appear to give very good results\n",
    "\n",
    "from sklearn.tree import DecisionTreeClassifier\n",
    "from sklearn.neighbors import KNeighborsClassifier\n",
    "from sklearn.ensemble import RandomForestClassifier\n",
    "import sklearn.metrics as metrics\n",
    "from sklearn import preprocessing\n",
    "\n",
    "y = heart['disease']\n",
    "X = heart.drop(columns = ['disease'])\n",
    "\n",
    "## One-hot encode the categorical predictors\n",
    "X = pd.get_dummies(X, drop_first = True)\n",
    "X = pd.get_dummies(X)\n",
    "\n",
    "tree = DecisionTreeClassifier()\n",
    "Treemodel = tree.fit(X,y) ; \n",
    "y_pred = Treemodel.predict(X)\n",
    "print(\"decision tree\")\n",
    "print(\"accuracy (on training set) = \", metrics.accuracy_score(y, y_pred))\n",
    "print(\"Confusion Matrix = \\n\", metrics.confusion_matrix(y, y_pred))\n",
    "\n",
    "knn = KNeighborsClassifier()\n",
    "scaler = preprocessing.StandardScaler() ### kNN likes standardised or nornmalised data\n",
    "Xstd = scaler.fit_transform(X)\n",
    "kNNmodel = knn.fit(Xstd,y)\n",
    "y_pred = kNNmodel.predict(Xstd)\n",
    "print(\"kNN\")\n",
    "print(\"accuracy (on training set) = \", metrics.accuracy_score(y, y_pred))\n",
    "print(\"Confusion Matrix = \\n\", metrics.confusion_matrix(y, y_pred))\n",
    "\n",
    "rf = RandomForestClassifier()\n",
    "rfmodel = rf.fit(X,y)\n",
    "y_pred = rfmodel.predict(X)\n",
    "print(\"RF\")\n",
    "print(\"accuracy (on training set) = \", metrics.accuracy_score(y, y_pred))\n",
    "print(\"Confusion Matrix = \\n\", metrics.confusion_matrix(y, y_pred))\n",
    "\n",
    "print(\"\\n\\nAs expected models perform very well on data on which they were trained, but thats not a fair evaluation\")"
   ]
  },
  {
   "cell_type": "code",
   "execution_count": 55,
   "metadata": {},
   "outputs": [
    {
     "name": "stdout",
     "output_type": "stream",
     "text": [
      "decision tree\n",
      "accuracy (on test set) =  0.7567567567567568\n",
      "Confusion Matrix = \n",
      " [[33 11]\n",
      " [ 7 23]]\n",
      "kNN\n",
      "accuracy (on test set) =  0.8648648648648649\n",
      "Confusion Matrix = \n",
      " [[38  6]\n",
      " [ 4 26]]\n",
      "RF\n",
      "accuracy (on test set) =  0.7972972972972973\n",
      "Confusion Matrix = \n",
      " [[36  8]\n",
      " [ 7 23]]\n",
      "\n",
      "\n",
      "Less accurate when tested on test set (i.e. unseen data) but acmore realistic measure of accuracy\n"
     ]
    }
   ],
   "source": [
    "### Train on one subset of data, test on another to provide fair evaluation\n",
    "\n",
    "y = heart['disease']\n",
    "X = heart.drop(columns = ['disease'])\n",
    "\n",
    "X = pd.get_dummies(X, drop_first = True)\n",
    "X = pd.get_dummies(X)\n",
    "\n",
    "from sklearn.model_selection import train_test_split\n",
    "Xtrain, Xtest, ytrain, ytest = train_test_split(X, y, test_size=0.25, random_state=42)\n",
    "\n",
    "## One-hot encode the categorical predictors\n",
    "X = pd.get_dummies(X, drop_first = True)\n",
    "X = pd.get_dummies(X)\n",
    "\n",
    "tree = DecisionTreeClassifier()\n",
    "Treemodel = tree.fit(Xtrain,ytrain) ; \n",
    "y_pred = Treemodel.predict(Xtest)\n",
    "print(\"decision tree\")\n",
    "print(\"accuracy (on test set) = \", metrics.accuracy_score(ytest, y_pred))\n",
    "print(\"Confusion Matrix = \\n\", metrics.confusion_matrix(ytest, y_pred))\n",
    "\n",
    "knn = KNeighborsClassifier()\n",
    "scaler = preprocessing.StandardScaler() ### kNN likes standardised or nornmalised data\n",
    "Xtrain_std = scaler.fit_transform(Xtrain)\n",
    "Xtest_std = scaler.fit_transform(Xtest)\n",
    "kNNmodel = knn.fit(Xtrain_std,ytrain)\n",
    "y_pred = kNNmodel.predict(Xtest_std)\n",
    "print(\"kNN\")\n",
    "print(\"accuracy (on test set) = \", metrics.accuracy_score(ytest, y_pred))\n",
    "print(\"Confusion Matrix = \\n\", metrics.confusion_matrix(ytest, y_pred))\n",
    "\n",
    "rf = RandomForestClassifier()\n",
    "rfmodel = rf.fit(Xtrain,ytrain)\n",
    "y_pred = rfmodel.predict(Xtest)\n",
    "print(\"RF\")\n",
    "print(\"accuracy (on test set) = \", metrics.accuracy_score(ytest, y_pred))\n",
    "print(\"Confusion Matrix = \\n\", metrics.confusion_matrix(ytest, y_pred))\n",
    "\n",
    "print(\"\\n\\nLess accurate when tested on test set (i.e. unseen data) but acmore realistic measure of accuracy\")"
   ]
  },
  {
   "cell_type": "code",
   "execution_count": null,
   "metadata": {},
   "outputs": [],
   "source": []
  },
  {
   "cell_type": "markdown",
   "metadata": {},
   "source": [
    "### Task 3 - Classification using the fifa.csv dataset\n",
    "\n",
    "Our old favorite data, the fifa dataset. This time we shall have to be selective about how many variables to use."
   ]
  },
  {
   "cell_type": "code",
   "execution_count": 58,
   "metadata": {},
   "outputs": [
    {
     "data": {
      "text/html": [
       "<div>\n",
       "<style scoped>\n",
       "    .dataframe tbody tr th:only-of-type {\n",
       "        vertical-align: middle;\n",
       "    }\n",
       "\n",
       "    .dataframe tbody tr th {\n",
       "        vertical-align: top;\n",
       "    }\n",
       "\n",
       "    .dataframe thead th {\n",
       "        text-align: right;\n",
       "    }\n",
       "</style>\n",
       "<table border=\"1\" class=\"dataframe\">\n",
       "  <thead>\n",
       "    <tr style=\"text-align: right;\">\n",
       "      <th></th>\n",
       "      <th>ID</th>\n",
       "      <th>Name</th>\n",
       "      <th>Nationality</th>\n",
       "      <th>Age</th>\n",
       "      <th>OverallRating</th>\n",
       "      <th>Club</th>\n",
       "      <th>HeightCM</th>\n",
       "      <th>HeightFtIn</th>\n",
       "      <th>WeightKg</th>\n",
       "      <th>WeightSt</th>\n",
       "      <th>...</th>\n",
       "      <th>LongShots</th>\n",
       "      <th>Aggression</th>\n",
       "      <th>Interceptions</th>\n",
       "      <th>Positioning</th>\n",
       "      <th>Vision</th>\n",
       "      <th>Penalties</th>\n",
       "      <th>Composure</th>\n",
       "      <th>Marking</th>\n",
       "      <th>StandingTackle</th>\n",
       "      <th>Sliding Tackle</th>\n",
       "    </tr>\n",
       "  </thead>\n",
       "  <tbody>\n",
       "    <tr>\n",
       "      <th>0</th>\n",
       "      <td>230212</td>\n",
       "      <td>A. Benjamin Chiamuloira Paes</td>\n",
       "      <td>Brazil</td>\n",
       "      <td>31</td>\n",
       "      <td>79</td>\n",
       "      <td>Internacional</td>\n",
       "      <td>182</td>\n",
       "      <td>6'0\"</td>\n",
       "      <td>79.4</td>\n",
       "      <td>12st 6lb</td>\n",
       "      <td>...</td>\n",
       "      <td>51</td>\n",
       "      <td>88</td>\n",
       "      <td>77</td>\n",
       "      <td>24</td>\n",
       "      <td>47</td>\n",
       "      <td>66</td>\n",
       "      <td>70</td>\n",
       "      <td>81</td>\n",
       "      <td>78</td>\n",
       "      <td>81</td>\n",
       "    </tr>\n",
       "    <tr>\n",
       "      <th>1</th>\n",
       "      <td>248767</td>\n",
       "      <td>A. Pimenta Flora Pimenta</td>\n",
       "      <td>Portugal</td>\n",
       "      <td>20</td>\n",
       "      <td>53</td>\n",
       "      <td>Venezia FC</td>\n",
       "      <td>184</td>\n",
       "      <td>6'0\"</td>\n",
       "      <td>75.3</td>\n",
       "      <td>11st 11lb</td>\n",
       "      <td>...</td>\n",
       "      <td>42</td>\n",
       "      <td>40</td>\n",
       "      <td>23</td>\n",
       "      <td>43</td>\n",
       "      <td>51</td>\n",
       "      <td>53</td>\n",
       "      <td>50</td>\n",
       "      <td>22</td>\n",
       "      <td>25</td>\n",
       "      <td>28</td>\n",
       "    </tr>\n",
       "    <tr>\n",
       "      <th>2</th>\n",
       "      <td>190883</td>\n",
       "      <td>A.J. DeLaGarza</td>\n",
       "      <td>Guam</td>\n",
       "      <td>31</td>\n",
       "      <td>66</td>\n",
       "      <td>Houston Dynamo</td>\n",
       "      <td>174</td>\n",
       "      <td>5'9\"</td>\n",
       "      <td>68.1</td>\n",
       "      <td>10st 10lb</td>\n",
       "      <td>...</td>\n",
       "      <td>36</td>\n",
       "      <td>71</td>\n",
       "      <td>66</td>\n",
       "      <td>55</td>\n",
       "      <td>56</td>\n",
       "      <td>52</td>\n",
       "      <td>64</td>\n",
       "      <td>64</td>\n",
       "      <td>62</td>\n",
       "      <td>63</td>\n",
       "    </tr>\n",
       "    <tr>\n",
       "      <th>3</th>\n",
       "      <td>234290</td>\n",
       "      <td>Aapo Halme</td>\n",
       "      <td>Finland</td>\n",
       "      <td>21</td>\n",
       "      <td>63</td>\n",
       "      <td>Barnsley</td>\n",
       "      <td>197</td>\n",
       "      <td>6'5\"</td>\n",
       "      <td>77.7</td>\n",
       "      <td>12st 4lb</td>\n",
       "      <td>...</td>\n",
       "      <td>18</td>\n",
       "      <td>62</td>\n",
       "      <td>57</td>\n",
       "      <td>27</td>\n",
       "      <td>32</td>\n",
       "      <td>31</td>\n",
       "      <td>62</td>\n",
       "      <td>58</td>\n",
       "      <td>61</td>\n",
       "      <td>57</td>\n",
       "    </tr>\n",
       "    <tr>\n",
       "      <th>4</th>\n",
       "      <td>203504</td>\n",
       "      <td>Aaron Amadi-Holloway</td>\n",
       "      <td>Wales</td>\n",
       "      <td>26</td>\n",
       "      <td>61</td>\n",
       "      <td>Brisbane Roar</td>\n",
       "      <td>189</td>\n",
       "      <td>6'2\"</td>\n",
       "      <td>83.3</td>\n",
       "      <td>13st 1lb</td>\n",
       "      <td>...</td>\n",
       "      <td>49</td>\n",
       "      <td>58</td>\n",
       "      <td>48</td>\n",
       "      <td>56</td>\n",
       "      <td>46</td>\n",
       "      <td>59</td>\n",
       "      <td>51</td>\n",
       "      <td>32</td>\n",
       "      <td>52</td>\n",
       "      <td>48</td>\n",
       "    </tr>\n",
       "  </tbody>\n",
       "</table>\n",
       "<p>5 rows × 48 columns</p>\n",
       "</div>"
      ],
      "text/plain": [
       "       ID                          Name Nationality  Age  OverallRating  \\\n",
       "0  230212  A. Benjamin Chiamuloira Paes      Brazil   31             79   \n",
       "1  248767      A. Pimenta Flora Pimenta    Portugal   20             53   \n",
       "2  190883                A.J. DeLaGarza        Guam   31             66   \n",
       "3  234290                    Aapo Halme     Finland   21             63   \n",
       "4  203504          Aaron Amadi-Holloway       Wales   26             61   \n",
       "\n",
       "             Club  HeightCM HeightFtIn  WeightKg   WeightSt  ... LongShots  \\\n",
       "0   Internacional       182       6'0\"      79.4   12st 6lb  ...        51   \n",
       "1      Venezia FC       184       6'0\"      75.3  11st 11lb  ...        42   \n",
       "2  Houston Dynamo       174       5'9\"      68.1  10st 10lb  ...        36   \n",
       "3        Barnsley       197       6'5\"      77.7   12st 4lb  ...        18   \n",
       "4   Brisbane Roar       189       6'2\"      83.3   13st 1lb  ...        49   \n",
       "\n",
       "  Aggression Interceptions  Positioning Vision Penalties  Composure  Marking  \\\n",
       "0         88            77           24     47        66         70       81   \n",
       "1         40            23           43     51        53         50       22   \n",
       "2         71            66           55     56        52         64       64   \n",
       "3         62            57           27     32        31         62       58   \n",
       "4         58            48           56     46        59         51       32   \n",
       "\n",
       "   StandingTackle  Sliding Tackle  \n",
       "0              78              81  \n",
       "1              25              28  \n",
       "2              62              63  \n",
       "3              61              57  \n",
       "4              52              48  \n",
       "\n",
       "[5 rows x 48 columns]"
      ]
     },
     "execution_count": 58,
     "metadata": {},
     "output_type": "execute_result"
    }
   ],
   "source": [
    "fifa = pd.read_csv(\"C:/Data/fifa.csv\")\n",
    "fifa = fifa.dropna()\n",
    "fifa.head()"
   ]
  },
  {
   "cell_type": "code",
   "execution_count": 59,
   "metadata": {},
   "outputs": [
    {
     "data": {
      "text/plain": [
       "ID                 -0.359828\n",
       "SprintSpeed         0.027418\n",
       "Acceleration        0.029857\n",
       "HeightCM            0.033666\n",
       "Balance             0.045638\n",
       "Sliding Tackle      0.075945\n",
       "Stamina             0.080963\n",
       "Agility             0.089311\n",
       "StandingTackle      0.089717\n",
       "WeightKg            0.090624\n",
       "Jumping             0.115086\n",
       "Marking             0.116400\n",
       "Strength            0.125567\n",
       "Interceptions       0.126196\n",
       "WeakFoot            0.127218\n",
       "HeadingAccuracy     0.153117\n",
       "Dribbling           0.170144\n",
       "Finishing           0.172327\n",
       "Aggression          0.173350\n",
       "Positioning         0.175953\n",
       "Crossing            0.183517\n",
       "LongShots           0.205947\n",
       "BallControl         0.210021\n",
       "Penalties           0.210929\n",
       "FreeKickAccuracy    0.214659\n",
       "Curve               0.222234\n",
       "LongPassing         0.235110\n",
       "Volleys             0.235188\n",
       "ShortPassing        0.236334\n",
       "Age                 0.256816\n",
       "Vision              0.280475\n",
       "ShotPower           0.283326\n",
       "Composure           0.374329\n",
       "Reactions           0.426362\n",
       "OverallRating       0.472652\n",
       "valueEuro           0.610905\n",
       "wageEuro            0.652992\n",
       "IntlRep             1.000000\n",
       "dtype: float64"
      ]
     },
     "execution_count": 59,
     "metadata": {},
     "output_type": "execute_result"
    }
   ],
   "source": [
    "### If planning to predict IntRep, which factors influence it most strongly\n",
    "fifa.corrwith(fifa['IntlRep']).sort_values()"
   ]
  },
  {
   "cell_type": "markdown",
   "metadata": {},
   "source": [
    "wageEuro and valueEuro are srongly correlated with IntlRep, but we would probably judge that these were consequences rather than predictors of reputation. So ignore tham, and assume that OverallRating, Reactions,Compusure, ShotPower and Vision might be the best predictors, as these have the strongest correleation to IntlRep"
   ]
  },
  {
   "cell_type": "code",
   "execution_count": 60,
   "metadata": {},
   "outputs": [
    {
     "name": "stdout",
     "output_type": "stream",
     "text": [
      "decision tree\n",
      "accuracy(on test set) =  0.8947799945340257\n",
      "Confusion Matrix = \n",
      "  [[3190  163   13    2    0]\n",
      " [ 143   61   16    1    0]\n",
      " [  15   22   18    0    0]\n",
      " [   0    2    6    4    1]\n",
      " [   0    0    1    0    1]]\n",
      "kNN\n",
      "accuracy(on test set) =  0.9177370866356929\n",
      "Confusion Matrix = \n",
      " [[3311   55    2    0    0]\n",
      " [ 175   34   12    0    0]\n",
      " [  20   23   12    0    0]\n",
      " [   1    4    7    1    0]\n",
      " [   0    0    1    1    0]]\n",
      "Random Forest\n",
      "accuracy(on test set) =  0.9253894506695819\n",
      "Confusion Matrix = \n",
      " [[3319   45    4    0    0]\n",
      " [ 165   46   10    0    0]\n",
      " [  18   19   18    0    0]\n",
      " [   0    1    8    3    1]\n",
      " [   0    0    0    2    0]]\n"
     ]
    }
   ],
   "source": [
    "from sklearn.tree import DecisionTreeClassifier\n",
    "from sklearn.neighbors import KNeighborsClassifier\n",
    "from sklearn.ensemble import RandomForestClassifier\n",
    "import sklearn.metrics as metrics\n",
    "\n",
    "y = fifa['IntlRep']##.astype('str')\n",
    "X = fifa[['Composure','Finishing','Vision','ShotPower','OverallRating','Reactions']]\n",
    "\n",
    "from sklearn.model_selection import train_test_split\n",
    "Xtrain, Xtest, ytrain, ytest = train_test_split(X, y, test_size=0.2, random_state=42)\n",
    "\n",
    "tree = DecisionTreeClassifier()\n",
    "model = tree.fit(Xtrain,ytrain) ; \n",
    "y_pred = model.predict(Xtest)\n",
    "print(\"decision tree\")\n",
    "print(\"accuracy(on test set) = \", metrics.accuracy_score(ytest, y_pred))\n",
    "print(\"Confusion Matrix = \\n \", metrics.confusion_matrix(ytest, y_pred))\n",
    "\n",
    "knn = KNeighborsClassifier()\n",
    "kNNmodel = knn.fit(Xtrain,ytrain)\n",
    "y_pred = kNNmodel.predict(Xtest)\n",
    "print(\"kNN\")\n",
    "print(\"accuracy(on test set) = \", metrics.accuracy_score(ytest, y_pred))\n",
    "print(\"Confusion Matrix = \\n\", metrics.confusion_matrix(ytest, y_pred))\n",
    "\n",
    "rf = RandomForestClassifier()\n",
    "rfmodel = rf.fit(Xtrain,ytrain)\n",
    "y_pred = rfmodel.predict(Xtest)\n",
    "print(\"Random Forest\")\n",
    "print(\"accuracy(on test set) = \", metrics.accuracy_score(ytest, y_pred))\n",
    "print(\"Confusion Matrix = \\n\", metrics.confusion_matrix(ytest, y_pred))\n"
   ]
  },
  {
   "cell_type": "markdown",
   "metadata": {},
   "source": [
    "Quite good predictions if judging on overall prediction accuracy. But that is misleading!\n",
    "\n",
    "But note that there are much larger error rates in higher IntlRep levels.\n",
    "This is because most players are IntlRep level 1, so the model is trained in data that is mostly of that class so has increasingly limited experience of what to look for at higher levels (since they are rarer).\n",
    "\n",
    "This is a common problem wih balanced datasets. We can see the imbalance referred to. A model needs sufficient examples to train on. A solution to this would be more advanced sampling techniques, where we could over-sample the rare cases, or under-sample the majority case, so that there was a balance between numbers in each classification level.\n"
   ]
  },
  {
   "cell_type": "code",
   "execution_count": 64,
   "metadata": {},
   "outputs": [
    {
     "name": "stdout",
     "output_type": "stream",
     "text": [
      "1    0.920835\n",
      "2    0.060576\n",
      "3    0.015636\n",
      "4    0.002624\n",
      "5    0.000328\n",
      "Name: IntlRep, dtype: float64\n"
     ]
    },
    {
     "data": {
      "text/plain": [
       "<AxesSubplot:>"
      ]
     },
     "execution_count": 64,
     "metadata": {},
     "output_type": "execute_result"
    },
    {
     "data": {
      "image/png": "[encoded data removed]",
      "text/plain": [
       "<Figure size 432x288 with 1 Axes>"
      ]
     },
     "metadata": {
      "needs_background": "light"
     },
     "output_type": "display_data"
    }
   ],
   "source": [
    "print(fifa['IntlRep'].value_counts() / len(fifa))\n",
    "print(\"92% of players are IntlRep = 1, so classifier could achieve 92% accuracy just by saying all players were Rep level 1\")\n",
    "fifa['IntlRep'].value_counts().plot.bar()"
   ]
  }
 ],
 "metadata": {
  "kernelspec": {
   "display_name": "Python 3",
   "language": "python",
   "name": "python3"
  },
  "language_info": {
   "codemirror_mode": {
    "name": "ipython",
    "version": 3
   },
   "file_extension": ".py",
   "mimetype": "text/x-python",
   "name": "python",
   "nbconvert_exporter": "python",
   "pygments_lexer": "ipython3",
   "version": "3.8.8"
  }
 },
 "nbformat": 4,
 "nbformat_minor": 4
}
