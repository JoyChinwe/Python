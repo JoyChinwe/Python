{
 "cells": [
  {
   "cell_type": "code",
   "execution_count": 21,
   "metadata": {},
   "outputs": [
    {
     "name": "stdout",
     "output_type": "stream",
     "text": [
      "y    379.4\n",
      "dtype: float64\n",
      "y    366.5\n",
      "dtype: float64\n"
     ]
    }
   ],
   "source": [
    "import pandas as pd\n",
    "df = pd.DataFrame({'y': [273, 318, 331, 349, 361, 372, 398, 408, 415, 569]})\n",
    "print(df.mean())\n",
    "print(df.median())"
   ]
  },
  {
   "cell_type": "code",
   "execution_count": 14,
   "metadata": {},
   "outputs": [
    {
     "name": "stdout",
     "output_type": "stream",
     "text": [
      "y    296\n",
      "dtype: int64\n"
     ]
    }
   ],
   "source": [
    "import pandas as pd\n",
    "df = pd.DataFrame({'y': [273, 318, 331, 349, 361, 372, 398, 408, 415, 569]})\n",
    "#for x in range(len(df)):\n",
    " #   print(x)\n",
    "print(df.max() - df.min())"
   ]
  },
  {
   "cell_type": "code",
   "execution_count": 19,
   "metadata": {},
   "outputs": [
    {
     "name": "stdout",
     "output_type": "stream",
     "text": [
      "331\n",
      "398\n"
     ]
    },
    {
     "data": {
      "text/plain": [
       "67"
      ]
     },
     "execution_count": 19,
     "metadata": {},
     "output_type": "execute_result"
    }
   ],
   "source": [
    "import pandas as pd\n",
    "df = pd.DataFrame({'y': [273, 318, 331, 349, 361, 372, 398, 408, 415, 569]})\n",
    "\n",
    "def get_percentile(df, percentile_rank):\n",
    "    \n",
    "    # First, sort by ascending y, reset the indices\n",
    "    df = df.sort_values(by='y').reset_index()\n",
    "    \n",
    "    # Rule of three to get the index of the y\n",
    "    index = (len(df.index)-1) * percentile_rank / 100.0\n",
    "    index = int(index)\n",
    "    \n",
    "    # Return the y corresponding to the percentile rank\n",
    "    return df.at[index, 'y']\n",
    "\n",
    "print(get_percentile(df, 25))\n",
    "\n",
    "print(get_percentile(df, 75))\n",
    "\n",
    "def interquartile_range(df):\n",
    "    \n",
    "    p75 = get_percentile(df, 75)  # 75th percentile\n",
    "    p25 = get_percentile(df, 25)  # 25th percentile\n",
    "    iqr = p75 - p25  # Interquartile Range\n",
    "    return iqr\n",
    "\n",
    "interquartile_range(df)"
   ]
  },
  {
   "cell_type": "code",
   "execution_count": 20,
   "metadata": {},
   "outputs": [
    {
     "name": "stdout",
     "output_type": "stream",
     "text": [
      "y    79.673221\n",
      "dtype: float64\n"
     ]
    }
   ],
   "source": [
    "import pandas as pd\n",
    "df = pd.DataFrame({'y': [273, 318, 331, 349, 361, 372, 398, 408, 415, 569]})\n",
    "print(df.std())"
   ]
  },
  {
   "cell_type": "code",
   "execution_count": 22,
   "metadata": {},
   "outputs": [
    {
     "name": "stdout",
     "output_type": "stream",
     "text": [
      "y    1.457288\n",
      "dtype: float64\n"
     ]
    }
   ],
   "source": [
    "import pandas as pd\n",
    "df = pd.DataFrame({'y': [273, 318, 331, 349, 361, 372, 398, 408, 415, 569]})\n",
    "print(df.skew())"
   ]
  },
  {
   "cell_type": "code",
   "execution_count": 23,
   "metadata": {},
   "outputs": [
    {
     "name": "stdout",
     "output_type": "stream",
     "text": [
      "y    3.479328\n",
      "dtype: float64\n"
     ]
    }
   ],
   "source": [
    "import pandas as pd\n",
    "df = pd.DataFrame({'y': [273, 318, 331, 349, 361, 372, 398, 408, 415, 569]})\n",
    "print(df.kurtosis())"
   ]
  },
  {
   "cell_type": "code",
   "execution_count": null,
   "metadata": {},
   "outputs": [],
   "source": []
  }
 ],
 "metadata": {
  "kernelspec": {
   "display_name": "Python 3",
   "language": "python",
   "name": "python3"
  },
  "language_info": {
   "codemirror_mode": {
    "name": "ipython",
    "version": 3
   },
   "file_extension": ".py",
   "mimetype": "text/x-python",
   "name": "python",
   "nbconvert_exporter": "python",
   "pygments_lexer": "ipython3",
   "version": "3.8.5"
  }
 },
 "nbformat": 4,
 "nbformat_minor": 4
}
