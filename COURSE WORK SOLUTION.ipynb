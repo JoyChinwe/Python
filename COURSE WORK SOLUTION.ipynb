{
 "cells": [
  {
   "cell_type": "markdown",
   "metadata": {},
   "source": [
    "# CM3400 COURSEWORK"
   ]
  },
  {
   "cell_type": "markdown",
   "metadata": {},
   "source": [
    "# OBIAGERI JOY CHINWE -1810990"
   ]
  },
  {
   "cell_type": "markdown",
   "metadata": {},
   "source": [
    "To start the exercise, I need to laod the data into a pandas DataFrame. The analysis will use different python libraries which i will import below.\n",
    "\n",
    "import pandas as pd"
   ]
  },
  {
   "cell_type": "code",
   "execution_count": 1,
   "metadata": {},
   "outputs": [
    {
     "data": {
      "text/html": [
       "<div>\n",
       "<style scoped>\n",
       "    .dataframe tbody tr th:only-of-type {\n",
       "        vertical-align: middle;\n",
       "    }\n",
       "\n",
       "    .dataframe tbody tr th {\n",
       "        vertical-align: top;\n",
       "    }\n",
       "\n",
       "    .dataframe thead th {\n",
       "        text-align: right;\n",
       "    }\n",
       "</style>\n",
       "<table border=\"1\" class=\"dataframe\">\n",
       "  <thead>\n",
       "    <tr style=\"text-align: right;\">\n",
       "      <th></th>\n",
       "      <th>location</th>\n",
       "      <th>continent</th>\n",
       "      <th>date</th>\n",
       "      <th>cases_per_M</th>\n",
       "      <th>deaths_per_M</th>\n",
       "      <th>stringency_index</th>\n",
       "      <th>population_density</th>\n",
       "      <th>median_age</th>\n",
       "      <th>aged_65_older</th>\n",
       "      <th>aged_70_older</th>\n",
       "      <th>...</th>\n",
       "      <th>med_R</th>\n",
       "      <th>max_R</th>\n",
       "      <th>workplace_closures</th>\n",
       "      <th>contact_tracing</th>\n",
       "      <th>testing_policy</th>\n",
       "      <th>cancel_public_events</th>\n",
       "      <th>facial_coverings</th>\n",
       "      <th>international_travel_controls</th>\n",
       "      <th>school_closures</th>\n",
       "      <th>mortality</th>\n",
       "    </tr>\n",
       "  </thead>\n",
       "  <tbody>\n",
       "    <tr>\n",
       "      <th>0</th>\n",
       "      <td>Afghanistan</td>\n",
       "      <td>Asia</td>\n",
       "      <td>May-20</td>\n",
       "      <td>390.641</td>\n",
       "      <td>6.602</td>\n",
       "      <td>84.26</td>\n",
       "      <td>54.422</td>\n",
       "      <td>18.6</td>\n",
       "      <td>2.581</td>\n",
       "      <td>1.337</td>\n",
       "      <td>...</td>\n",
       "      <td>1.405</td>\n",
       "      <td>1.50</td>\n",
       "      <td>None</td>\n",
       "      <td>Limited</td>\n",
       "      <td>IfSymptomatic</td>\n",
       "      <td>NoMeasures</td>\n",
       "      <td>Strict</td>\n",
       "      <td>Screening</td>\n",
       "      <td>Minimal</td>\n",
       "      <td>Low</td>\n",
       "    </tr>\n",
       "    <tr>\n",
       "      <th>1</th>\n",
       "      <td>Albania</td>\n",
       "      <td>Europe</td>\n",
       "      <td>May-20</td>\n",
       "      <td>394.398</td>\n",
       "      <td>11.120</td>\n",
       "      <td>86.11</td>\n",
       "      <td>104.871</td>\n",
       "      <td>38.0</td>\n",
       "      <td>13.188</td>\n",
       "      <td>8.643</td>\n",
       "      <td>...</td>\n",
       "      <td>1.040</td>\n",
       "      <td>1.45</td>\n",
       "      <td>Strict</td>\n",
       "      <td>Comprehensive</td>\n",
       "      <td>IfSymptomatic</td>\n",
       "      <td>Ban</td>\n",
       "      <td>Strict</td>\n",
       "      <td>Quarantine</td>\n",
       "      <td>Some</td>\n",
       "      <td>Low</td>\n",
       "    </tr>\n",
       "    <tr>\n",
       "      <th>2</th>\n",
       "      <td>Algeria</td>\n",
       "      <td>Africa</td>\n",
       "      <td>May-20</td>\n",
       "      <td>214.202</td>\n",
       "      <td>14.868</td>\n",
       "      <td>76.85</td>\n",
       "      <td>17.348</td>\n",
       "      <td>29.1</td>\n",
       "      <td>6.211</td>\n",
       "      <td>3.857</td>\n",
       "      <td>...</td>\n",
       "      <td>1.110</td>\n",
       "      <td>2.02</td>\n",
       "      <td>Strict</td>\n",
       "      <td>Comprehensive</td>\n",
       "      <td>IfSymptomatic</td>\n",
       "      <td>Avoid</td>\n",
       "      <td>Strict</td>\n",
       "      <td>BorderClosure</td>\n",
       "      <td>Some</td>\n",
       "      <td>Low</td>\n",
       "    </tr>\n",
       "    <tr>\n",
       "      <th>3</th>\n",
       "      <td>Argentina</td>\n",
       "      <td>South America</td>\n",
       "      <td>May-20</td>\n",
       "      <td>372.823</td>\n",
       "      <td>11.904</td>\n",
       "      <td>90.74</td>\n",
       "      <td>16.177</td>\n",
       "      <td>31.9</td>\n",
       "      <td>11.198</td>\n",
       "      <td>7.441</td>\n",
       "      <td>...</td>\n",
       "      <td>1.345</td>\n",
       "      <td>1.83</td>\n",
       "      <td>Strict</td>\n",
       "      <td>Comprehensive</td>\n",
       "      <td>IfSymptomatic</td>\n",
       "      <td>Ban</td>\n",
       "      <td>Strict</td>\n",
       "      <td>BorderClosure</td>\n",
       "      <td>Required</td>\n",
       "      <td>Low</td>\n",
       "    </tr>\n",
       "    <tr>\n",
       "      <th>4</th>\n",
       "      <td>Australia</td>\n",
       "      <td>Oceania</td>\n",
       "      <td>May-20</td>\n",
       "      <td>281.374</td>\n",
       "      <td>4.000</td>\n",
       "      <td>63.43</td>\n",
       "      <td>3.202</td>\n",
       "      <td>37.9</td>\n",
       "      <td>15.504</td>\n",
       "      <td>10.129</td>\n",
       "      <td>...</td>\n",
       "      <td>0.785</td>\n",
       "      <td>2.40</td>\n",
       "      <td>Strict</td>\n",
       "      <td>Comprehensive</td>\n",
       "      <td>IfSymptomatic</td>\n",
       "      <td>Ban</td>\n",
       "      <td>Recommended</td>\n",
       "      <td>BorderClosure</td>\n",
       "      <td>Some</td>\n",
       "      <td>Low</td>\n",
       "    </tr>\n",
       "    <tr>\n",
       "      <th>...</th>\n",
       "      <td>...</td>\n",
       "      <td>...</td>\n",
       "      <td>...</td>\n",
       "      <td>...</td>\n",
       "      <td>...</td>\n",
       "      <td>...</td>\n",
       "      <td>...</td>\n",
       "      <td>...</td>\n",
       "      <td>...</td>\n",
       "      <td>...</td>\n",
       "      <td>...</td>\n",
       "      <td>...</td>\n",
       "      <td>...</td>\n",
       "      <td>...</td>\n",
       "      <td>...</td>\n",
       "      <td>...</td>\n",
       "      <td>...</td>\n",
       "      <td>...</td>\n",
       "      <td>...</td>\n",
       "      <td>...</td>\n",
       "      <td>...</td>\n",
       "    </tr>\n",
       "    <tr>\n",
       "      <th>520</th>\n",
       "      <td>Uzbekistan</td>\n",
       "      <td>Asia</td>\n",
       "      <td>Feb-21</td>\n",
       "      <td>228.539</td>\n",
       "      <td>0.358</td>\n",
       "      <td>37.04</td>\n",
       "      <td>76.134</td>\n",
       "      <td>28.2</td>\n",
       "      <td>4.469</td>\n",
       "      <td>2.873</td>\n",
       "      <td>...</td>\n",
       "      <td>0.930</td>\n",
       "      <td>1.23</td>\n",
       "      <td>Some</td>\n",
       "      <td>Comprehensive</td>\n",
       "      <td>IfSymptomatic</td>\n",
       "      <td>Avoid</td>\n",
       "      <td>Strict</td>\n",
       "      <td>Ban</td>\n",
       "      <td>Some</td>\n",
       "      <td>Low</td>\n",
       "    </tr>\n",
       "    <tr>\n",
       "      <th>521</th>\n",
       "      <td>Venezuela</td>\n",
       "      <td>South America</td>\n",
       "      <td>Feb-21</td>\n",
       "      <td>1569.633</td>\n",
       "      <td>19.482</td>\n",
       "      <td>84.26</td>\n",
       "      <td>36.253</td>\n",
       "      <td>29.0</td>\n",
       "      <td>6.614</td>\n",
       "      <td>3.915</td>\n",
       "      <td>...</td>\n",
       "      <td>1.000</td>\n",
       "      <td>1.18</td>\n",
       "      <td>Strict</td>\n",
       "      <td>None</td>\n",
       "      <td>Public</td>\n",
       "      <td>Ban</td>\n",
       "      <td>Strict</td>\n",
       "      <td>BorderClosure</td>\n",
       "      <td>Required</td>\n",
       "      <td>Low</td>\n",
       "    </tr>\n",
       "    <tr>\n",
       "      <th>522</th>\n",
       "      <td>Yemen</td>\n",
       "      <td>Asia</td>\n",
       "      <td>Feb-21</td>\n",
       "      <td>29.907</td>\n",
       "      <td>3.420</td>\n",
       "      <td>25.00</td>\n",
       "      <td>53.508</td>\n",
       "      <td>20.3</td>\n",
       "      <td>2.922</td>\n",
       "      <td>1.583</td>\n",
       "      <td>...</td>\n",
       "      <td>1.090</td>\n",
       "      <td>1.72</td>\n",
       "      <td>None</td>\n",
       "      <td>None</td>\n",
       "      <td>None</td>\n",
       "      <td>NoMeasures</td>\n",
       "      <td>NoPolicy</td>\n",
       "      <td>BorderClosure</td>\n",
       "      <td>Minimal</td>\n",
       "      <td>Low</td>\n",
       "    </tr>\n",
       "    <tr>\n",
       "      <th>523</th>\n",
       "      <td>Zambia</td>\n",
       "      <td>Africa</td>\n",
       "      <td>Feb-21</td>\n",
       "      <td>3676.739</td>\n",
       "      <td>44.060</td>\n",
       "      <td>36.11</td>\n",
       "      <td>22.995</td>\n",
       "      <td>17.7</td>\n",
       "      <td>2.480</td>\n",
       "      <td>1.542</td>\n",
       "      <td>...</td>\n",
       "      <td>1.170</td>\n",
       "      <td>1.39</td>\n",
       "      <td>Strict</td>\n",
       "      <td>Comprehensive</td>\n",
       "      <td>IfSymptomatic</td>\n",
       "      <td>Avoid</td>\n",
       "      <td>Strict</td>\n",
       "      <td>Quarantine</td>\n",
       "      <td>Some</td>\n",
       "      <td>Low</td>\n",
       "    </tr>\n",
       "    <tr>\n",
       "      <th>524</th>\n",
       "      <td>Zimbabwe</td>\n",
       "      <td>Africa</td>\n",
       "      <td>Feb-21</td>\n",
       "      <td>1788.679</td>\n",
       "      <td>82.823</td>\n",
       "      <td>87.96</td>\n",
       "      <td>42.729</td>\n",
       "      <td>19.6</td>\n",
       "      <td>2.822</td>\n",
       "      <td>1.882</td>\n",
       "      <td>...</td>\n",
       "      <td>0.940</td>\n",
       "      <td>1.47</td>\n",
       "      <td>Some</td>\n",
       "      <td>Limited</td>\n",
       "      <td>IfSymptomatic</td>\n",
       "      <td>Ban</td>\n",
       "      <td>Strict</td>\n",
       "      <td>Quarantine</td>\n",
       "      <td>Some</td>\n",
       "      <td>High</td>\n",
       "    </tr>\n",
       "  </tbody>\n",
       "</table>\n",
       "<p>525 rows × 23 columns</p>\n",
       "</div>"
      ],
      "text/plain": [
       "        location      continent    date  cases_per_M  deaths_per_M  \\\n",
       "0    Afghanistan           Asia  May-20      390.641         6.602   \n",
       "1        Albania         Europe  May-20      394.398        11.120   \n",
       "2        Algeria         Africa  May-20      214.202        14.868   \n",
       "3      Argentina  South America  May-20      372.823        11.904   \n",
       "4      Australia        Oceania  May-20      281.374         4.000   \n",
       "..           ...            ...     ...          ...           ...   \n",
       "520   Uzbekistan           Asia  Feb-21      228.539         0.358   \n",
       "521    Venezuela  South America  Feb-21     1569.633        19.482   \n",
       "522        Yemen           Asia  Feb-21       29.907         3.420   \n",
       "523       Zambia         Africa  Feb-21     3676.739        44.060   \n",
       "524     Zimbabwe         Africa  Feb-21     1788.679        82.823   \n",
       "\n",
       "     stringency_index  population_density  median_age  aged_65_older  \\\n",
       "0               84.26              54.422        18.6          2.581   \n",
       "1               86.11             104.871        38.0         13.188   \n",
       "2               76.85              17.348        29.1          6.211   \n",
       "3               90.74              16.177        31.9         11.198   \n",
       "4               63.43               3.202        37.9         15.504   \n",
       "..                ...                 ...         ...            ...   \n",
       "520             37.04              76.134        28.2          4.469   \n",
       "521             84.26              36.253        29.0          6.614   \n",
       "522             25.00              53.508        20.3          2.922   \n",
       "523             36.11              22.995        17.7          2.480   \n",
       "524             87.96              42.729        19.6          2.822   \n",
       "\n",
       "     aged_70_older  ...  med_R  max_R  workplace_closures  contact_tracing  \\\n",
       "0            1.337  ...  1.405   1.50                None          Limited   \n",
       "1            8.643  ...  1.040   1.45              Strict    Comprehensive   \n",
       "2            3.857  ...  1.110   2.02              Strict    Comprehensive   \n",
       "3            7.441  ...  1.345   1.83              Strict    Comprehensive   \n",
       "4           10.129  ...  0.785   2.40              Strict    Comprehensive   \n",
       "..             ...  ...    ...    ...                 ...              ...   \n",
       "520          2.873  ...  0.930   1.23                Some    Comprehensive   \n",
       "521          3.915  ...  1.000   1.18              Strict             None   \n",
       "522          1.583  ...  1.090   1.72                None             None   \n",
       "523          1.542  ...  1.170   1.39              Strict    Comprehensive   \n",
       "524          1.882  ...  0.940   1.47                Some          Limited   \n",
       "\n",
       "     testing_policy cancel_public_events facial_coverings  \\\n",
       "0     IfSymptomatic           NoMeasures           Strict   \n",
       "1     IfSymptomatic                  Ban           Strict   \n",
       "2     IfSymptomatic                Avoid           Strict   \n",
       "3     IfSymptomatic                  Ban           Strict   \n",
       "4     IfSymptomatic                  Ban      Recommended   \n",
       "..              ...                  ...              ...   \n",
       "520   IfSymptomatic                Avoid           Strict   \n",
       "521          Public                  Ban           Strict   \n",
       "522            None           NoMeasures         NoPolicy   \n",
       "523   IfSymptomatic                Avoid           Strict   \n",
       "524   IfSymptomatic                  Ban           Strict   \n",
       "\n",
       "    international_travel_controls school_closures mortality  \n",
       "0                       Screening         Minimal       Low  \n",
       "1                      Quarantine            Some       Low  \n",
       "2                   BorderClosure            Some       Low  \n",
       "3                   BorderClosure        Required       Low  \n",
       "4                   BorderClosure            Some       Low  \n",
       "..                            ...             ...       ...  \n",
       "520                           Ban            Some       Low  \n",
       "521                 BorderClosure        Required       Low  \n",
       "522                 BorderClosure         Minimal       Low  \n",
       "523                    Quarantine            Some       Low  \n",
       "524                    Quarantine            Some      High  \n",
       "\n",
       "[525 rows x 23 columns]"
      ]
     },
     "execution_count": 1,
     "metadata": {},
     "output_type": "execute_result"
    }
   ],
   "source": [
    "import pandas as pd\n",
    "import matplotlib.pyplot as plt\n",
    "import seaborn\n",
    "import numpy as np\n",
    "import statistics as stat\n",
    "\n",
    "covid = pd.read_csv (r\"C:\\Users\\chinw\\Downloads\\covid.csv\") # loading dataset\n",
    "# Below is dataset\n",
    "covid"
   ]
  },
  {
   "cell_type": "code",
   "execution_count": 9,
   "metadata": {},
   "outputs": [
    {
     "name": "stdout",
     "output_type": "stream",
     "text": [
      "<class 'pandas.core.frame.DataFrame'>\n",
      "Int64Index: 441 entries, 1 to 522\n",
      "Data columns (total 25 columns):\n",
      " #   Column                         Non-Null Count  Dtype   \n",
      "---  ------                         --------------  -----   \n",
      " 0   location                       441 non-null    object  \n",
      " 1   continent                      441 non-null    object  \n",
      " 2   date                           441 non-null    object  \n",
      " 3   cases_per_M                    441 non-null    float64 \n",
      " 4   deaths_per_M                   441 non-null    float64 \n",
      " 5   stringency_index               441 non-null    float64 \n",
      " 6   population_density             441 non-null    float64 \n",
      " 7   median_age                     441 non-null    float64 \n",
      " 8   aged_65_older                  441 non-null    float64 \n",
      " 9   aged_70_older                  441 non-null    float64 \n",
      " 10  gdp_per_capita                 441 non-null    float64 \n",
      " 11  life_expectancy                441 non-null    float64 \n",
      " 12  human_development_index        441 non-null    float64 \n",
      " 13  med_R                          441 non-null    float64 \n",
      " 14  max_R                          441 non-null    float64 \n",
      " 15  workplace_closures             441 non-null    object  \n",
      " 16  contact_tracing                441 non-null    object  \n",
      " 17  testing_policy                 441 non-null    object  \n",
      " 18  cancel_public_events           441 non-null    object  \n",
      " 19  facial_coverings               441 non-null    object  \n",
      " 20  international_travel_controls  441 non-null    object  \n",
      " 21  school_closures                441 non-null    object  \n",
      " 22  mortality                      441 non-null    object  \n",
      " 23  age_category                   441 non-null    category\n",
      " 24  mortality_rate                 441 non-null    float64 \n",
      "dtypes: category(1), float64(13), object(11)\n",
      "memory usage: 86.7+ KB\n"
     ]
    }
   ],
   "source": [
    "#Information about the dataframe. This to check that the columns and rows are complete, there is 525 rows and 23 columns. \n",
    "covid.info()"
   ]
  },
  {
   "cell_type": "code",
   "execution_count": 20,
   "metadata": {},
   "outputs": [
    {
     "data": {
      "text/html": [
       "<div>\n",
       "<style scoped>\n",
       "    .dataframe tbody tr th:only-of-type {\n",
       "        vertical-align: middle;\n",
       "    }\n",
       "\n",
       "    .dataframe tbody tr th {\n",
       "        vertical-align: top;\n",
       "    }\n",
       "\n",
       "    .dataframe thead th {\n",
       "        text-align: right;\n",
       "    }\n",
       "</style>\n",
       "<table border=\"1\" class=\"dataframe\">\n",
       "  <thead>\n",
       "    <tr style=\"text-align: right;\">\n",
       "      <th></th>\n",
       "      <th>cases_per_M</th>\n",
       "      <th>deaths_per_M</th>\n",
       "      <th>stringency_index</th>\n",
       "      <th>population_density</th>\n",
       "      <th>median_age</th>\n",
       "      <th>aged_65_older</th>\n",
       "      <th>aged_70_older</th>\n",
       "      <th>gdp_per_capita</th>\n",
       "      <th>life_expectancy</th>\n",
       "      <th>human_development_index</th>\n",
       "      <th>med_R</th>\n",
       "      <th>max_R</th>\n",
       "      <th>mortality_rate</th>\n",
       "    </tr>\n",
       "  </thead>\n",
       "  <tbody>\n",
       "    <tr>\n",
       "      <th>count</th>\n",
       "      <td>441.000000</td>\n",
       "      <td>441.000000</td>\n",
       "      <td>441.000000</td>\n",
       "      <td>441.000000</td>\n",
       "      <td>441.000000</td>\n",
       "      <td>441.000000</td>\n",
       "      <td>441.000000</td>\n",
       "      <td>441.000000</td>\n",
       "      <td>441.000000</td>\n",
       "      <td>441.000000</td>\n",
       "      <td>441.000000</td>\n",
       "      <td>441.000000</td>\n",
       "      <td>441.000000</td>\n",
       "    </tr>\n",
       "    <tr>\n",
       "      <th>mean</th>\n",
       "      <td>8365.913193</td>\n",
       "      <td>157.715011</td>\n",
       "      <td>63.607596</td>\n",
       "      <td>234.696862</td>\n",
       "      <td>34.417914</td>\n",
       "      <td>10.898594</td>\n",
       "      <td>7.022771</td>\n",
       "      <td>25129.821964</td>\n",
       "      <td>76.224127</td>\n",
       "      <td>0.795921</td>\n",
       "      <td>1.046043</td>\n",
       "      <td>1.485306</td>\n",
       "      <td>2.710886</td>\n",
       "    </tr>\n",
       "    <tr>\n",
       "      <th>std</th>\n",
       "      <td>12022.323078</td>\n",
       "      <td>240.700634</td>\n",
       "      <td>17.350283</td>\n",
       "      <td>783.405938</td>\n",
       "      <td>7.344508</td>\n",
       "      <td>6.318248</td>\n",
       "      <td>4.397100</td>\n",
       "      <td>20729.758940</td>\n",
       "      <td>5.077431</td>\n",
       "      <td>0.109726</td>\n",
       "      <td>0.218350</td>\n",
       "      <td>0.609122</td>\n",
       "      <td>4.055189</td>\n",
       "    </tr>\n",
       "    <tr>\n",
       "      <th>min</th>\n",
       "      <td>2.076000</td>\n",
       "      <td>0.011000</td>\n",
       "      <td>8.330000</td>\n",
       "      <td>1.980000</td>\n",
       "      <td>20.300000</td>\n",
       "      <td>1.144000</td>\n",
       "      <td>0.526000</td>\n",
       "      <td>1479.147000</td>\n",
       "      <td>60.190000</td>\n",
       "      <td>0.470000</td>\n",
       "      <td>0.000000</td>\n",
       "      <td>0.010000</td>\n",
       "      <td>0.018249</td>\n",
       "    </tr>\n",
       "    <tr>\n",
       "      <th>25%</th>\n",
       "      <td>621.076000</td>\n",
       "      <td>9.499000</td>\n",
       "      <td>51.850000</td>\n",
       "      <td>35.608000</td>\n",
       "      <td>28.200000</td>\n",
       "      <td>5.319000</td>\n",
       "      <td>3.120000</td>\n",
       "      <td>8827.010000</td>\n",
       "      <td>73.000000</td>\n",
       "      <td>0.720000</td>\n",
       "      <td>0.970000</td>\n",
       "      <td>1.170000</td>\n",
       "      <td>0.881277</td>\n",
       "    </tr>\n",
       "    <tr>\n",
       "      <th>50%</th>\n",
       "      <td>2923.774000</td>\n",
       "      <td>46.886000</td>\n",
       "      <td>65.740000</td>\n",
       "      <td>85.129000</td>\n",
       "      <td>33.600000</td>\n",
       "      <td>8.996000</td>\n",
       "      <td>5.430000</td>\n",
       "      <td>18933.907000</td>\n",
       "      <td>76.680000</td>\n",
       "      <td>0.810000</td>\n",
       "      <td>1.060000</td>\n",
       "      <td>1.320000</td>\n",
       "      <td>1.726720</td>\n",
       "    </tr>\n",
       "    <tr>\n",
       "      <th>75%</th>\n",
       "      <td>11072.794000</td>\n",
       "      <td>209.448000</td>\n",
       "      <td>77.310000</td>\n",
       "      <td>204.430000</td>\n",
       "      <td>41.400000</td>\n",
       "      <td>16.763000</td>\n",
       "      <td>10.797000</td>\n",
       "      <td>35938.374000</td>\n",
       "      <td>80.280000</td>\n",
       "      <td>0.890000</td>\n",
       "      <td>1.160000</td>\n",
       "      <td>1.600000</td>\n",
       "      <td>2.898633</td>\n",
       "    </tr>\n",
       "    <tr>\n",
       "      <th>max</th>\n",
       "      <td>83076.430000</td>\n",
       "      <td>1434.497000</td>\n",
       "      <td>100.000000</td>\n",
       "      <td>7915.731000</td>\n",
       "      <td>48.200000</td>\n",
       "      <td>27.049000</td>\n",
       "      <td>18.493000</td>\n",
       "      <td>116935.600000</td>\n",
       "      <td>84.630000</td>\n",
       "      <td>0.957000</td>\n",
       "      <td>1.800000</td>\n",
       "      <td>6.150000</td>\n",
       "      <td>41.905738</td>\n",
       "    </tr>\n",
       "  </tbody>\n",
       "</table>\n",
       "</div>"
      ],
      "text/plain": [
       "        cases_per_M  deaths_per_M  stringency_index  population_density  \\\n",
       "count    441.000000    441.000000        441.000000          441.000000   \n",
       "mean    8365.913193    157.715011         63.607596          234.696862   \n",
       "std    12022.323078    240.700634         17.350283          783.405938   \n",
       "min        2.076000      0.011000          8.330000            1.980000   \n",
       "25%      621.076000      9.499000         51.850000           35.608000   \n",
       "50%     2923.774000     46.886000         65.740000           85.129000   \n",
       "75%    11072.794000    209.448000         77.310000          204.430000   \n",
       "max    83076.430000   1434.497000        100.000000         7915.731000   \n",
       "\n",
       "       median_age  aged_65_older  aged_70_older  gdp_per_capita  \\\n",
       "count  441.000000     441.000000     441.000000      441.000000   \n",
       "mean    34.417914      10.898594       7.022771    25129.821964   \n",
       "std      7.344508       6.318248       4.397100    20729.758940   \n",
       "min     20.300000       1.144000       0.526000     1479.147000   \n",
       "25%     28.200000       5.319000       3.120000     8827.010000   \n",
       "50%     33.600000       8.996000       5.430000    18933.907000   \n",
       "75%     41.400000      16.763000      10.797000    35938.374000   \n",
       "max     48.200000      27.049000      18.493000   116935.600000   \n",
       "\n",
       "       life_expectancy  human_development_index       med_R       max_R  \\\n",
       "count       441.000000               441.000000  441.000000  441.000000   \n",
       "mean         76.224127                 0.795921    1.046043    1.485306   \n",
       "std           5.077431                 0.109726    0.218350    0.609122   \n",
       "min          60.190000                 0.470000    0.000000    0.010000   \n",
       "25%          73.000000                 0.720000    0.970000    1.170000   \n",
       "50%          76.680000                 0.810000    1.060000    1.320000   \n",
       "75%          80.280000                 0.890000    1.160000    1.600000   \n",
       "max          84.630000                 0.957000    1.800000    6.150000   \n",
       "\n",
       "       mortality_rate  \n",
       "count      441.000000  \n",
       "mean         2.710886  \n",
       "std          4.055189  \n",
       "min          0.018249  \n",
       "25%          0.881277  \n",
       "50%          1.726720  \n",
       "75%          2.898633  \n",
       "max         41.905738  "
      ]
     },
     "execution_count": 20,
     "metadata": {},
     "output_type": "execute_result"
    }
   ],
   "source": [
    "# Summary stats of all numeric columns. Below are the statitics of quantitative(numerical) data in the dataset.\n",
    "covid.describe()\n"
   ]
  },
  {
   "cell_type": "code",
   "execution_count": 21,
   "metadata": {},
   "outputs": [
    {
     "data": {
      "text/html": [
       "<div>\n",
       "<style scoped>\n",
       "    .dataframe tbody tr th:only-of-type {\n",
       "        vertical-align: middle;\n",
       "    }\n",
       "\n",
       "    .dataframe tbody tr th {\n",
       "        vertical-align: top;\n",
       "    }\n",
       "\n",
       "    .dataframe thead th {\n",
       "        text-align: right;\n",
       "    }\n",
       "</style>\n",
       "<table border=\"1\" class=\"dataframe\">\n",
       "  <thead>\n",
       "    <tr style=\"text-align: right;\">\n",
       "      <th></th>\n",
       "      <th>location</th>\n",
       "      <th>continent</th>\n",
       "      <th>date</th>\n",
       "      <th>cases_per_M</th>\n",
       "      <th>deaths_per_M</th>\n",
       "      <th>stringency_index</th>\n",
       "      <th>population_density</th>\n",
       "      <th>median_age</th>\n",
       "      <th>aged_65_older</th>\n",
       "      <th>aged_70_older</th>\n",
       "      <th>...</th>\n",
       "      <th>workplace_closures</th>\n",
       "      <th>contact_tracing</th>\n",
       "      <th>testing_policy</th>\n",
       "      <th>cancel_public_events</th>\n",
       "      <th>facial_coverings</th>\n",
       "      <th>international_travel_controls</th>\n",
       "      <th>school_closures</th>\n",
       "      <th>mortality</th>\n",
       "      <th>age_category</th>\n",
       "      <th>mortality_rate</th>\n",
       "    </tr>\n",
       "  </thead>\n",
       "  <tbody>\n",
       "    <tr>\n",
       "      <th>1</th>\n",
       "      <td>Albania</td>\n",
       "      <td>Europe</td>\n",
       "      <td>May-20</td>\n",
       "      <td>394.398</td>\n",
       "      <td>11.120</td>\n",
       "      <td>86.11</td>\n",
       "      <td>104.871</td>\n",
       "      <td>38.0</td>\n",
       "      <td>13.188</td>\n",
       "      <td>8.643</td>\n",
       "      <td>...</td>\n",
       "      <td>Strict</td>\n",
       "      <td>Comprehensive</td>\n",
       "      <td>IfSymptomatic</td>\n",
       "      <td>Ban</td>\n",
       "      <td>Strict</td>\n",
       "      <td>Quarantine</td>\n",
       "      <td>Some</td>\n",
       "      <td>Low</td>\n",
       "      <td>20-35</td>\n",
       "      <td>2.819487</td>\n",
       "    </tr>\n",
       "    <tr>\n",
       "      <th>2</th>\n",
       "      <td>Algeria</td>\n",
       "      <td>Africa</td>\n",
       "      <td>May-20</td>\n",
       "      <td>214.202</td>\n",
       "      <td>14.868</td>\n",
       "      <td>76.85</td>\n",
       "      <td>17.348</td>\n",
       "      <td>29.1</td>\n",
       "      <td>6.211</td>\n",
       "      <td>3.857</td>\n",
       "      <td>...</td>\n",
       "      <td>Strict</td>\n",
       "      <td>Comprehensive</td>\n",
       "      <td>IfSymptomatic</td>\n",
       "      <td>Avoid</td>\n",
       "      <td>Strict</td>\n",
       "      <td>BorderClosure</td>\n",
       "      <td>Some</td>\n",
       "      <td>Low</td>\n",
       "      <td>0-20</td>\n",
       "      <td>6.941112</td>\n",
       "    </tr>\n",
       "    <tr>\n",
       "      <th>3</th>\n",
       "      <td>Argentina</td>\n",
       "      <td>South America</td>\n",
       "      <td>May-20</td>\n",
       "      <td>372.823</td>\n",
       "      <td>11.904</td>\n",
       "      <td>90.74</td>\n",
       "      <td>16.177</td>\n",
       "      <td>31.9</td>\n",
       "      <td>11.198</td>\n",
       "      <td>7.441</td>\n",
       "      <td>...</td>\n",
       "      <td>Strict</td>\n",
       "      <td>Comprehensive</td>\n",
       "      <td>IfSymptomatic</td>\n",
       "      <td>Ban</td>\n",
       "      <td>Strict</td>\n",
       "      <td>BorderClosure</td>\n",
       "      <td>Required</td>\n",
       "      <td>Low</td>\n",
       "      <td>0-20</td>\n",
       "      <td>3.192936</td>\n",
       "    </tr>\n",
       "    <tr>\n",
       "      <th>4</th>\n",
       "      <td>Australia</td>\n",
       "      <td>Oceania</td>\n",
       "      <td>May-20</td>\n",
       "      <td>281.374</td>\n",
       "      <td>4.000</td>\n",
       "      <td>63.43</td>\n",
       "      <td>3.202</td>\n",
       "      <td>37.9</td>\n",
       "      <td>15.504</td>\n",
       "      <td>10.129</td>\n",
       "      <td>...</td>\n",
       "      <td>Strict</td>\n",
       "      <td>Comprehensive</td>\n",
       "      <td>IfSymptomatic</td>\n",
       "      <td>Ban</td>\n",
       "      <td>Recommended</td>\n",
       "      <td>BorderClosure</td>\n",
       "      <td>Some</td>\n",
       "      <td>Low</td>\n",
       "      <td>20-35</td>\n",
       "      <td>1.421595</td>\n",
       "    </tr>\n",
       "    <tr>\n",
       "      <th>5</th>\n",
       "      <td>Austria</td>\n",
       "      <td>Europe</td>\n",
       "      <td>May-20</td>\n",
       "      <td>1856.125</td>\n",
       "      <td>74.058</td>\n",
       "      <td>53.70</td>\n",
       "      <td>106.749</td>\n",
       "      <td>44.4</td>\n",
       "      <td>19.202</td>\n",
       "      <td>13.748</td>\n",
       "      <td>...</td>\n",
       "      <td>Strict</td>\n",
       "      <td>Comprehensive</td>\n",
       "      <td>Public</td>\n",
       "      <td>Ban</td>\n",
       "      <td>Recommended</td>\n",
       "      <td>Ban</td>\n",
       "      <td>Minimal</td>\n",
       "      <td>High</td>\n",
       "      <td>Over_35</td>\n",
       "      <td>3.989925</td>\n",
       "    </tr>\n",
       "  </tbody>\n",
       "</table>\n",
       "<p>5 rows × 25 columns</p>\n",
       "</div>"
      ],
      "text/plain": [
       "    location      continent    date  cases_per_M  deaths_per_M  \\\n",
       "1    Albania         Europe  May-20      394.398        11.120   \n",
       "2    Algeria         Africa  May-20      214.202        14.868   \n",
       "3  Argentina  South America  May-20      372.823        11.904   \n",
       "4  Australia        Oceania  May-20      281.374         4.000   \n",
       "5    Austria         Europe  May-20     1856.125        74.058   \n",
       "\n",
       "   stringency_index  population_density  median_age  aged_65_older  \\\n",
       "1             86.11             104.871        38.0         13.188   \n",
       "2             76.85              17.348        29.1          6.211   \n",
       "3             90.74              16.177        31.9         11.198   \n",
       "4             63.43               3.202        37.9         15.504   \n",
       "5             53.70             106.749        44.4         19.202   \n",
       "\n",
       "   aged_70_older  ...  workplace_closures  contact_tracing  testing_policy  \\\n",
       "1          8.643  ...              Strict    Comprehensive   IfSymptomatic   \n",
       "2          3.857  ...              Strict    Comprehensive   IfSymptomatic   \n",
       "3          7.441  ...              Strict    Comprehensive   IfSymptomatic   \n",
       "4         10.129  ...              Strict    Comprehensive   IfSymptomatic   \n",
       "5         13.748  ...              Strict    Comprehensive          Public   \n",
       "\n",
       "   cancel_public_events  facial_coverings international_travel_controls  \\\n",
       "1                   Ban            Strict                    Quarantine   \n",
       "2                 Avoid            Strict                 BorderClosure   \n",
       "3                   Ban            Strict                 BorderClosure   \n",
       "4                   Ban       Recommended                 BorderClosure   \n",
       "5                   Ban       Recommended                           Ban   \n",
       "\n",
       "  school_closures mortality age_category mortality_rate  \n",
       "1            Some       Low        20-35       2.819487  \n",
       "2            Some       Low         0-20       6.941112  \n",
       "3        Required       Low         0-20       3.192936  \n",
       "4            Some       Low        20-35       1.421595  \n",
       "5         Minimal      High      Over_35       3.989925  \n",
       "\n",
       "[5 rows x 25 columns]"
      ]
     },
     "execution_count": 21,
     "metadata": {},
     "output_type": "execute_result"
    }
   ],
   "source": [
    "# To print 5 row starting of the dataset\n",
    "covid.head()\n"
   ]
  },
  {
   "cell_type": "code",
   "execution_count": 22,
   "metadata": {},
   "outputs": [
    {
     "data": {
      "text/html": [
       "<div>\n",
       "<style scoped>\n",
       "    .dataframe tbody tr th:only-of-type {\n",
       "        vertical-align: middle;\n",
       "    }\n",
       "\n",
       "    .dataframe tbody tr th {\n",
       "        vertical-align: top;\n",
       "    }\n",
       "\n",
       "    .dataframe thead th {\n",
       "        text-align: right;\n",
       "    }\n",
       "</style>\n",
       "<table border=\"1\" class=\"dataframe\">\n",
       "  <thead>\n",
       "    <tr style=\"text-align: right;\">\n",
       "      <th></th>\n",
       "      <th>location</th>\n",
       "      <th>continent</th>\n",
       "      <th>date</th>\n",
       "      <th>cases_per_M</th>\n",
       "      <th>deaths_per_M</th>\n",
       "      <th>stringency_index</th>\n",
       "      <th>population_density</th>\n",
       "      <th>median_age</th>\n",
       "      <th>aged_65_older</th>\n",
       "      <th>aged_70_older</th>\n",
       "      <th>...</th>\n",
       "      <th>workplace_closures</th>\n",
       "      <th>contact_tracing</th>\n",
       "      <th>testing_policy</th>\n",
       "      <th>cancel_public_events</th>\n",
       "      <th>facial_coverings</th>\n",
       "      <th>international_travel_controls</th>\n",
       "      <th>school_closures</th>\n",
       "      <th>mortality</th>\n",
       "      <th>age_category</th>\n",
       "      <th>mortality_rate</th>\n",
       "    </tr>\n",
       "  </thead>\n",
       "  <tbody>\n",
       "    <tr>\n",
       "      <th>518</th>\n",
       "      <td>United States</td>\n",
       "      <td>North America</td>\n",
       "      <td>Feb-21</td>\n",
       "      <td>47971.498</td>\n",
       "      <td>803.773</td>\n",
       "      <td>68.06</td>\n",
       "      <td>35.608</td>\n",
       "      <td>38.3</td>\n",
       "      <td>15.413</td>\n",
       "      <td>9.732</td>\n",
       "      <td>...</td>\n",
       "      <td>Strict</td>\n",
       "      <td>Limited</td>\n",
       "      <td>Public</td>\n",
       "      <td>Ban</td>\n",
       "      <td>Strict</td>\n",
       "      <td>Ban</td>\n",
       "      <td>Required</td>\n",
       "      <td>High</td>\n",
       "      <td>20-35</td>\n",
       "      <td>1.675522</td>\n",
       "    </tr>\n",
       "    <tr>\n",
       "      <th>519</th>\n",
       "      <td>Uruguay</td>\n",
       "      <td>South America</td>\n",
       "      <td>Feb-21</td>\n",
       "      <td>19550.472</td>\n",
       "      <td>186.544</td>\n",
       "      <td>68.52</td>\n",
       "      <td>19.751</td>\n",
       "      <td>35.6</td>\n",
       "      <td>14.655</td>\n",
       "      <td>10.361</td>\n",
       "      <td>...</td>\n",
       "      <td>Some</td>\n",
       "      <td>Limited</td>\n",
       "      <td>Public</td>\n",
       "      <td>Ban</td>\n",
       "      <td>Recommended</td>\n",
       "      <td>Ban</td>\n",
       "      <td>Minimal</td>\n",
       "      <td>High</td>\n",
       "      <td>20-35</td>\n",
       "      <td>0.954166</td>\n",
       "    </tr>\n",
       "    <tr>\n",
       "      <th>520</th>\n",
       "      <td>Uzbekistan</td>\n",
       "      <td>Asia</td>\n",
       "      <td>Feb-21</td>\n",
       "      <td>228.539</td>\n",
       "      <td>0.358</td>\n",
       "      <td>37.04</td>\n",
       "      <td>76.134</td>\n",
       "      <td>28.2</td>\n",
       "      <td>4.469</td>\n",
       "      <td>2.873</td>\n",
       "      <td>...</td>\n",
       "      <td>Some</td>\n",
       "      <td>Comprehensive</td>\n",
       "      <td>IfSymptomatic</td>\n",
       "      <td>Avoid</td>\n",
       "      <td>Strict</td>\n",
       "      <td>Ban</td>\n",
       "      <td>Some</td>\n",
       "      <td>Low</td>\n",
       "      <td>0-20</td>\n",
       "      <td>0.156647</td>\n",
       "    </tr>\n",
       "    <tr>\n",
       "      <th>521</th>\n",
       "      <td>Venezuela</td>\n",
       "      <td>South America</td>\n",
       "      <td>Feb-21</td>\n",
       "      <td>1569.633</td>\n",
       "      <td>19.482</td>\n",
       "      <td>84.26</td>\n",
       "      <td>36.253</td>\n",
       "      <td>29.0</td>\n",
       "      <td>6.614</td>\n",
       "      <td>3.915</td>\n",
       "      <td>...</td>\n",
       "      <td>Strict</td>\n",
       "      <td>None</td>\n",
       "      <td>Public</td>\n",
       "      <td>Ban</td>\n",
       "      <td>Strict</td>\n",
       "      <td>BorderClosure</td>\n",
       "      <td>Required</td>\n",
       "      <td>Low</td>\n",
       "      <td>0-20</td>\n",
       "      <td>1.241182</td>\n",
       "    </tr>\n",
       "    <tr>\n",
       "      <th>522</th>\n",
       "      <td>Yemen</td>\n",
       "      <td>Asia</td>\n",
       "      <td>Feb-21</td>\n",
       "      <td>29.907</td>\n",
       "      <td>3.420</td>\n",
       "      <td>25.00</td>\n",
       "      <td>53.508</td>\n",
       "      <td>20.3</td>\n",
       "      <td>2.922</td>\n",
       "      <td>1.583</td>\n",
       "      <td>...</td>\n",
       "      <td>None</td>\n",
       "      <td>None</td>\n",
       "      <td>None</td>\n",
       "      <td>NoMeasures</td>\n",
       "      <td>NoPolicy</td>\n",
       "      <td>BorderClosure</td>\n",
       "      <td>Minimal</td>\n",
       "      <td>Low</td>\n",
       "      <td>0-20</td>\n",
       "      <td>11.435450</td>\n",
       "    </tr>\n",
       "  </tbody>\n",
       "</table>\n",
       "<p>5 rows × 25 columns</p>\n",
       "</div>"
      ],
      "text/plain": [
       "          location      continent    date  cases_per_M  deaths_per_M  \\\n",
       "518  United States  North America  Feb-21    47971.498       803.773   \n",
       "519        Uruguay  South America  Feb-21    19550.472       186.544   \n",
       "520     Uzbekistan           Asia  Feb-21      228.539         0.358   \n",
       "521      Venezuela  South America  Feb-21     1569.633        19.482   \n",
       "522          Yemen           Asia  Feb-21       29.907         3.420   \n",
       "\n",
       "     stringency_index  population_density  median_age  aged_65_older  \\\n",
       "518             68.06              35.608        38.3         15.413   \n",
       "519             68.52              19.751        35.6         14.655   \n",
       "520             37.04              76.134        28.2          4.469   \n",
       "521             84.26              36.253        29.0          6.614   \n",
       "522             25.00              53.508        20.3          2.922   \n",
       "\n",
       "     aged_70_older  ...  workplace_closures  contact_tracing  testing_policy  \\\n",
       "518          9.732  ...              Strict          Limited          Public   \n",
       "519         10.361  ...                Some          Limited          Public   \n",
       "520          2.873  ...                Some    Comprehensive   IfSymptomatic   \n",
       "521          3.915  ...              Strict             None          Public   \n",
       "522          1.583  ...                None             None            None   \n",
       "\n",
       "     cancel_public_events  facial_coverings international_travel_controls  \\\n",
       "518                   Ban            Strict                           Ban   \n",
       "519                   Ban       Recommended                           Ban   \n",
       "520                 Avoid            Strict                           Ban   \n",
       "521                   Ban            Strict                 BorderClosure   \n",
       "522            NoMeasures          NoPolicy                 BorderClosure   \n",
       "\n",
       "    school_closures mortality age_category mortality_rate  \n",
       "518        Required      High        20-35       1.675522  \n",
       "519         Minimal      High        20-35       0.954166  \n",
       "520            Some       Low         0-20       0.156647  \n",
       "521        Required       Low         0-20       1.241182  \n",
       "522         Minimal       Low         0-20      11.435450  \n",
       "\n",
       "[5 rows x 25 columns]"
      ]
     },
     "execution_count": 22,
     "metadata": {},
     "output_type": "execute_result"
    }
   ],
   "source": [
    "# To print 5 row starting of the dataset\n",
    "covid.tail()\n"
   ]
  },
  {
   "cell_type": "markdown",
   "metadata": {},
   "source": [
    "# Statistics of individual variables"
   ]
  },
  {
   "cell_type": "code",
   "execution_count": 23,
   "metadata": {},
   "outputs": [
    {
     "data": {
      "text/html": [
       "<div>\n",
       "<style scoped>\n",
       "    .dataframe tbody tr th:only-of-type {\n",
       "        vertical-align: middle;\n",
       "    }\n",
       "\n",
       "    .dataframe tbody tr th {\n",
       "        vertical-align: top;\n",
       "    }\n",
       "\n",
       "    .dataframe thead th {\n",
       "        text-align: right;\n",
       "    }\n",
       "</style>\n",
       "<table border=\"1\" class=\"dataframe\">\n",
       "  <thead>\n",
       "    <tr style=\"text-align: right;\">\n",
       "      <th></th>\n",
       "      <th>cases_per_M</th>\n",
       "    </tr>\n",
       "  </thead>\n",
       "  <tbody>\n",
       "    <tr>\n",
       "      <th>count</th>\n",
       "      <td>441.000000</td>\n",
       "    </tr>\n",
       "    <tr>\n",
       "      <th>mean</th>\n",
       "      <td>8365.913193</td>\n",
       "    </tr>\n",
       "    <tr>\n",
       "      <th>std</th>\n",
       "      <td>12022.323078</td>\n",
       "    </tr>\n",
       "    <tr>\n",
       "      <th>min</th>\n",
       "      <td>2.076000</td>\n",
       "    </tr>\n",
       "    <tr>\n",
       "      <th>25%</th>\n",
       "      <td>621.076000</td>\n",
       "    </tr>\n",
       "    <tr>\n",
       "      <th>50%</th>\n",
       "      <td>2923.774000</td>\n",
       "    </tr>\n",
       "    <tr>\n",
       "      <th>75%</th>\n",
       "      <td>11072.794000</td>\n",
       "    </tr>\n",
       "    <tr>\n",
       "      <th>max</th>\n",
       "      <td>83076.430000</td>\n",
       "    </tr>\n",
       "  </tbody>\n",
       "</table>\n",
       "</div>"
      ],
      "text/plain": [
       "        cases_per_M\n",
       "count    441.000000\n",
       "mean    8365.913193\n",
       "std    12022.323078\n",
       "min        2.076000\n",
       "25%      621.076000\n",
       "50%     2923.774000\n",
       "75%    11072.794000\n",
       "max    83076.430000"
      ]
     },
     "execution_count": 23,
     "metadata": {},
     "output_type": "execute_result"
    }
   ],
   "source": [
    "#  I can use the 'describe' function to calculate the statistic of 'cases_per_M' column of the dataset.\n",
    "covid[['cases_per_M']].describe()"
   ]
  },
  {
   "cell_type": "code",
   "execution_count": 24,
   "metadata": {},
   "outputs": [
    {
     "name": "stdout",
     "output_type": "stream",
     "text": [
      "Using pandas module functions\n",
      "  n =  441\n",
      "Measures of central location\n",
      "Mean =  8365.913192743767\n",
      "Median =  2923.7740000000003\n",
      "Measures of spread\n",
      "range =  83074.35399999999\n",
      "quartiles =  0.25      621.076\n",
      "0.50     2923.774\n",
      "0.75    11072.794\n",
      "Name: cases_per_M, dtype: float64\n",
      "IQR =  10451.718\n",
      "stdev =  12022.323078012403\n",
      "pop stdev =  12008.684590266304\n",
      "Skewness =  2.251243286332675\n",
      "Excess kurtosis =  6.101124981710569\n"
     ]
    },
    {
     "data": {
      "image/png": "[encoded data removed]",
      "text/plain": [
       "<Figure size 432x288 with 1 Axes>"
      ]
     },
     "metadata": {
      "needs_background": "light"
     },
     "output_type": "display_data"
    },
    {
     "data": {
      "image/png": "[encoded data removed]",
      "text/plain": [
       "<Figure size 432x288 with 1 Axes>"
      ]
     },
     "metadata": {
      "needs_background": "light"
     },
     "output_type": "display_data"
    },
    {
     "data": {
      "image/png": "[encoded data removed]",
      "text/plain": [
       "<Figure size 432x288 with 1 Axes>"
      ]
     },
     "metadata": {
      "needs_background": "light"
     },
     "output_type": "display_data"
    },
    {
     "data": {
      "image/png": "[encoded data removed]",
      "text/plain": [
       "<Figure size 432x288 with 1 Axes>"
      ]
     },
     "metadata": {
      "needs_background": "light"
     },
     "output_type": "display_data"
    },
    {
     "name": "stdout",
     "output_type": "stream",
     "text": [
      "When it comes to showing details, Histogram is not very effective, so instead density plot is tried.\n"
     ]
    },
    {
     "data": {
      "image/png": "[encoded data removed]",
      "text/plain": [
       "<Figure size 432x288 with 1 Axes>"
      ]
     },
     "metadata": {
      "needs_background": "light"
     },
     "output_type": "display_data"
    },
    {
     "name": "stdout",
     "output_type": "stream",
     "text": [
      "Distribution by cases_per_M is Right-Skewed. As we can see the mean = 7117.88, Median = 1943.83 against Max = 83076.43. \n",
      "I can say that most countries has low cases of the desease.\n",
      "\n",
      "\n",
      "I will further use log-scale graph to further examin the data, as the histogram and boxplot show most data squashed to one end\n"
     ]
    }
   ],
   "source": [
    "# As it is usual in programming there is multiple means to achieve set goals. Below are another way to calculate the \n",
    "# statistics of column 'cases_per_M' of the dataset.\n",
    "\n",
    "print(\"Using pandas module functions\")\n",
    "print(\"  n = \", covid['cases_per_M'].count())\n",
    "print(\"Measures of central location\")\n",
    "print(\"Mean = \", covid['cases_per_M'].mean())\n",
    "print(\"Median = \", covid['cases_per_M'].median())\n",
    "\n",
    "print(\"Measures of spread\")\n",
    "print(\"range = \", covid['cases_per_M'].max()-covid['cases_per_M'].min())\n",
    "q = covid['cases_per_M'].quantile([0.25,0.5,0.75])\n",
    "print(\"quartiles = \", q)\n",
    "print(\"IQR = \", covid['cases_per_M'].quantile(0.75) - covid['cases_per_M'].quantile(0.25))\n",
    "print(\"stdev = \", covid['cases_per_M'].std())\n",
    "print(\"pop stdev = \", covid['cases_per_M'].std(ddof = 0))\n",
    "\n",
    "# print(\"Measures of shape\")\n",
    "print(\"Skewness = \", covid['cases_per_M'].skew())\n",
    "print(\"Excess kurtosis = \", covid['cases_per_M'].kurt())\n",
    "\n",
    "covid['cases_per_M'].hist(bins = 50) ## setting number bin to range of data to get one bar per possible value\n",
    "plt.show()\n",
    "covid['cases_per_M'].plot.box()\n",
    "plt.show()\n",
    "\n",
    "covid['cases_per_M'].plot.hist(bins = 150).set_xscale(\"log\")\n",
    "plt.show()\n",
    "covid['cases_per_M'].plot.box().set_yscale(\"log\")\n",
    "plt.show()\n",
    "print(\"When it comes to showing details, Histogram is not very effective, so instead density plot is tried.\")\n",
    "covid['cases_per_M'].plot.density().set_xscale(\"log\")\n",
    "plt.show()\n",
    "print(\"Distribution by cases_per_M is Right-Skewed. As we can see the mean = 7117.88, Median = 1943.83 against Max = 83076.43. \\nI can say that most countries has low cases of the desease.\")\n",
    "print(\"\\n\\nI will further use log-scale graph to further examin the data, as the histogram and boxplot show most data squashed to one end\")\n",
    "\n"
   ]
  },
  {
   "cell_type": "markdown",
   "metadata": {},
   "source": [
    "# 2. The med_R"
   ]
  },
  {
   "cell_type": "code",
   "execution_count": 19,
   "metadata": {},
   "outputs": [
    {
     "name": "stdout",
     "output_type": "stream",
     "text": [
      "Using pandas module functions\n",
      "  n =  441\n",
      "Measures of central location\n",
      "Mean =  1.0460430839002266\n",
      "Median =  1.06\n",
      "Measures of spread\n",
      "range =  1.8\n",
      "quartiles =  0.25    0.97\n",
      "0.50    1.06\n",
      "0.75    1.16\n",
      "Name: med_R, dtype: float64\n",
      "IQR =  0.18999999999999995\n",
      "stdev =  0.2183503241322295\n",
      "pop stdev =  0.2181026209054313\n",
      "Skewness =  -1.473600270576107\n",
      "Excess kurtosis =  5.972676153516465\n"
     ]
    },
    {
     "data": {
      "image/png": "[encoded data removed]",
      "text/plain": [
       "<Figure size 432x288 with 1 Axes>"
      ]
     },
     "metadata": {
      "needs_background": "light"
     },
     "output_type": "display_data"
    },
    {
     "data": {
      "image/png": "[encoded data removed]",
      "text/plain": [
       "<Figure size 432x288 with 1 Axes>"
      ]
     },
     "metadata": {
      "needs_background": "light"
     },
     "output_type": "display_data"
    }
   ],
   "source": [
    "# Task 2 - To calculate relevant distribution and statistics of The med_R\n",
    "# statistics,  hIstogram and boxplot  of column 'med_R' of the dataset.\n",
    "import matplotlib.pyplot as plt\n",
    "print(\"Using pandas module functions\")\n",
    "print(\"  n = \", covid['med_R'].count())\n",
    "print(\"Measures of central location\")\n",
    "print(\"Mean = \", covid['med_R'].mean())\n",
    "print(\"Median = \", covid['med_R'].median())\n",
    "\n",
    "print(\"Measures of spread\")\n",
    "print(\"range = \", covid['med_R'].max()-covid['med_R'].min())\n",
    "q = covid['med_R'].quantile([0.25,0.5,0.75])\n",
    "print(\"quartiles = \", q)\n",
    "print(\"IQR = \", covid['med_R'].quantile(0.75) - covid['med_R'].quantile(0.25))\n",
    "print(\"stdev = \", covid['med_R'].std())\n",
    "print(\"pop stdev = \", covid['med_R'].std(ddof = 0))\n",
    "\n",
    "# print(\"Measures of shape\")\n",
    "print(\"Skewness = \", covid['med_R'].skew())\n",
    "print(\"Excess kurtosis = \", covid['med_R'].kurt())\n",
    "\n",
    "# Visualisations of 'med_R'\n",
    "covid['med_R'].hist(bins = 20) \n",
    "plt.show() \n",
    "\n",
    "# Plot of location against 'med_R'\n",
    "covid.boxplot('med_R') \n",
    "plt.show()"
   ]
  },
  {
   "cell_type": "markdown",
   "metadata": {},
   "source": [
    "The visualisations (histogram and boxplot) show the distribution is fairly. The Mean = 1.04 and Median = 1.05 are close the middle of the distribution, with regards to the max = 1.80 and min = 0.00. However, we can see outliers at both ends of the distribution, even when most of the data are concentrated in the middle - normal distribution, with stdev = 0.22, pop stdev = 0.22, Skewness = -1.31 and Excess kurtosis = 5.02.\n",
    "\n",
    "The median of R-number (med_R) is fairly uniform distributed, with slight skew to the left."
   ]
  },
  {
   "cell_type": "code",
   "execution_count": 18,
   "metadata": {},
   "outputs": [
    {
     "name": "stdout",
     "output_type": "stream",
     "text": [
      "      Number  Percentage\n",
      "Low      223   50.566893\n",
      "High     218   49.433107\n"
     ]
    },
    {
     "ename": "TypeError",
     "evalue": "'numpy.ndarray' object is not callable",
     "output_type": "error",
     "traceback": [
      "\u001b[1;31m---------------------------------------------------------------------------\u001b[0m",
      "\u001b[1;31mTypeError\u001b[0m                                 Traceback (most recent call last)",
      "\u001b[1;32m<ipython-input-18-953a22698e93>\u001b[0m in \u001b[0;36m<module>\u001b[1;34m\u001b[0m\n\u001b[0;32m      3\u001b[0m                    'Percentage': 100*covid['mortality'].value_counts(normalize = True)})\n\u001b[0;32m      4\u001b[0m \u001b[0mprint\u001b[0m\u001b[1;33m(\u001b[0m\u001b[0mQ3\u001b[0m\u001b[1;33m)\u001b[0m\u001b[1;33m\u001b[0m\u001b[1;33m\u001b[0m\u001b[0m\n\u001b[1;32m----> 5\u001b[1;33m \u001b[0mfig\u001b[0m\u001b[1;33m,\u001b[0m \u001b[0max\u001b[0m \u001b[1;33m=\u001b[0m \u001b[0mplt\u001b[0m\u001b[1;33m.\u001b[0m\u001b[0msubplots\u001b[0m\u001b[1;33m(\u001b[0m\u001b[1;36m1\u001b[0m\u001b[1;33m,\u001b[0m \u001b[1;36m2\u001b[0m\u001b[1;33m,\u001b[0m \u001b[0mfigsize\u001b[0m\u001b[1;33m=\u001b[0m\u001b[1;33m(\u001b[0m\u001b[1;36m20\u001b[0m\u001b[1;33m,\u001b[0m \u001b[1;36m5\u001b[0m\u001b[1;33m)\u001b[0m\u001b[1;33m)\u001b[0m\u001b[1;33m\u001b[0m\u001b[1;33m\u001b[0m\u001b[0m\n\u001b[0m\u001b[0;32m      6\u001b[0m \u001b[0mQ3\u001b[0m\u001b[1;33m[\u001b[0m\u001b[1;34m'Number'\u001b[0m\u001b[1;33m]\u001b[0m\u001b[1;33m.\u001b[0m\u001b[0mplot\u001b[0m\u001b[1;33m.\u001b[0m\u001b[0mpie\u001b[0m\u001b[1;33m(\u001b[0m\u001b[0mtitle\u001b[0m \u001b[1;33m=\u001b[0m \u001b[1;34m'cases Position'\u001b[0m\u001b[1;33m,\u001b[0m \u001b[0mautopct\u001b[0m \u001b[1;33m=\u001b[0m \u001b[1;34m'%.1f'\u001b[0m\u001b[1;33m,\u001b[0m \u001b[0max\u001b[0m \u001b[1;33m=\u001b[0m \u001b[0max\u001b[0m\u001b[1;33m[\u001b[0m\u001b[1;36m0\u001b[0m\u001b[1;33m]\u001b[0m\u001b[1;33m)\u001b[0m\u001b[1;33m\u001b[0m\u001b[1;33m\u001b[0m\u001b[0m\n\u001b[0;32m      7\u001b[0m \u001b[0mQ3\u001b[0m\u001b[1;33m[\u001b[0m\u001b[1;34m'Percentage'\u001b[0m\u001b[1;33m]\u001b[0m\u001b[1;33m.\u001b[0m\u001b[0mplot\u001b[0m\u001b[1;33m.\u001b[0m\u001b[0mbar\u001b[0m\u001b[1;33m(\u001b[0m\u001b[0mtitle\u001b[0m \u001b[1;33m=\u001b[0m \u001b[1;34m'cases Position Frequence %'\u001b[0m\u001b[1;33m,\u001b[0m \u001b[0max\u001b[0m \u001b[1;33m=\u001b[0m \u001b[0max\u001b[0m\u001b[1;33m[\u001b[0m\u001b[1;36m1\u001b[0m\u001b[1;33m]\u001b[0m\u001b[1;33m)\u001b[0m\u001b[1;33m\u001b[0m\u001b[1;33m\u001b[0m\u001b[0m\n",
      "\u001b[1;31mTypeError\u001b[0m: 'numpy.ndarray' object is not callable"
     ]
    }
   ],
   "source": [
    "#Task 3 - To calculate relevant distribution and statistics of The mortality\n",
    "Q3 = pd.DataFrame({'Number':covid['mortality'].value_counts(), \n",
    "                   'Percentage': 100*covid['mortality'].value_counts(normalize = True)})\n",
    "print(Q3)\n",
    "fig, ax = plt.subplots(1, 2, figsize=(20, 5))\n",
    "Q3['Number'].plot.pie(title = 'cases Position', autopct = '%.1f', ax = ax[0])\n",
    "Q3['Percentage'].plot.bar(title = 'cases Position Frequence %', ax = ax[1])"
   ]
  },
  {
   "cell_type": "code",
   "execution_count": null,
   "metadata": {},
   "outputs": [],
   "source": []
  },
  {
   "cell_type": "code",
   "execution_count": 17,
   "metadata": {},
   "outputs": [
    {
     "data": {
      "text/html": [
       "<div>\n",
       "<style scoped>\n",
       "    .dataframe tbody tr th:only-of-type {\n",
       "        vertical-align: middle;\n",
       "    }\n",
       "\n",
       "    .dataframe tbody tr th {\n",
       "        vertical-align: top;\n",
       "    }\n",
       "\n",
       "    .dataframe thead th {\n",
       "        text-align: right;\n",
       "    }\n",
       "</style>\n",
       "<table border=\"1\" class=\"dataframe\">\n",
       "  <thead>\n",
       "    <tr style=\"text-align: right;\">\n",
       "      <th></th>\n",
       "      <th>mortality</th>\n",
       "    </tr>\n",
       "  </thead>\n",
       "  <tbody>\n",
       "    <tr>\n",
       "      <th>count</th>\n",
       "      <td>441</td>\n",
       "    </tr>\n",
       "    <tr>\n",
       "      <th>unique</th>\n",
       "      <td>2</td>\n",
       "    </tr>\n",
       "    <tr>\n",
       "      <th>top</th>\n",
       "      <td>Low</td>\n",
       "    </tr>\n",
       "    <tr>\n",
       "      <th>freq</th>\n",
       "      <td>223</td>\n",
       "    </tr>\n",
       "  </tbody>\n",
       "</table>\n",
       "</div>"
      ],
      "text/plain": [
       "       mortality\n",
       "count        441\n",
       "unique         2\n",
       "top          Low\n",
       "freq         223"
      ]
     },
     "execution_count": 17,
     "metadata": {},
     "output_type": "execute_result"
    }
   ],
   "source": [
    "# Getting the statistics of qualitative data like 'mortality'\n",
    "covid[['mortality']].describe()"
   ]
  },
  {
   "cell_type": "markdown",
   "metadata": {},
   "source": [
    " As a qualitative data 'mortality' has very few basic statistics as shown above"
   ]
  },
  {
   "cell_type": "markdown",
   "metadata": {},
   "source": [
    "# 4. The international_travel_controls¶"
   ]
  },
  {
   "cell_type": "code",
   "execution_count": 15,
   "metadata": {},
   "outputs": [
    {
     "name": "stdout",
     "output_type": "stream",
     "text": [
      "n =  441\n",
      "Ban              247\n",
      "Quarantine        94\n",
      "BorderClosure     54\n",
      "Screening         42\n",
      "None               4\n",
      "Name: international_travel_controls, dtype: int64\n",
      "Measures of central category\n",
      "mode =  0    Ban\n",
      "dtype: object\n"
     ]
    },
    {
     "data": {
      "image/png": "[encoded data removed]",
      "text/plain": [
       "<Figure size 432x288 with 1 Axes>"
      ]
     },
     "metadata": {},
     "output_type": "display_data"
    },
    {
     "data": {
      "image/png": "[encoded data removed]",
      "text/plain": [
       "<Figure size 432x288 with 1 Axes>"
      ]
     },
     "metadata": {
      "needs_background": "light"
     },
     "output_type": "display_data"
    }
   ],
   "source": [
    "## statistics, histogram and boxplot of the 'international_travel_controls' attribute of the covid prevention\n",
    "print(\"n = \", covid['international_travel_controls'].count())\n",
    "\n",
    "# we can count the number of occurences in each category \n",
    "counts = covid['international_travel_controls'].value_counts()\n",
    "print(counts)\n",
    "print(\"Measures of central category\")\n",
    "print(\"mode = \", covid['international_travel_controls'].mode())\n",
    "\n",
    "# distribution analysis by international_travel_controls\n",
    "covid['international_travel_controls'].value_counts().plot.pie(autopct = '%1.1f')\n",
    "plt.show()\n",
    "covid['international_travel_controls'].value_counts().plot.bar()\n",
    "plt.show()"
   ]
  },
  {
   "cell_type": "markdown",
   "metadata": {},
   "source": [
    "Distribution by international_travel_controls is imbalanced, as more than 50% of the locations are on the banned list. The government is using ban as the most tool to control spread of covid from other countries"
   ]
  },
  {
   "cell_type": "code",
   "execution_count": 16,
   "metadata": {},
   "outputs": [
    {
     "data": {
      "text/html": [
       "<div>\n",
       "<style scoped>\n",
       "    .dataframe tbody tr th:only-of-type {\n",
       "        vertical-align: middle;\n",
       "    }\n",
       "\n",
       "    .dataframe tbody tr th {\n",
       "        vertical-align: top;\n",
       "    }\n",
       "\n",
       "    .dataframe thead th {\n",
       "        text-align: right;\n",
       "    }\n",
       "</style>\n",
       "<table border=\"1\" class=\"dataframe\">\n",
       "  <thead>\n",
       "    <tr style=\"text-align: right;\">\n",
       "      <th></th>\n",
       "      <th>international_travel_controls</th>\n",
       "    </tr>\n",
       "  </thead>\n",
       "  <tbody>\n",
       "    <tr>\n",
       "      <th>count</th>\n",
       "      <td>441</td>\n",
       "    </tr>\n",
       "    <tr>\n",
       "      <th>unique</th>\n",
       "      <td>5</td>\n",
       "    </tr>\n",
       "    <tr>\n",
       "      <th>top</th>\n",
       "      <td>Ban</td>\n",
       "    </tr>\n",
       "    <tr>\n",
       "      <th>freq</th>\n",
       "      <td>247</td>\n",
       "    </tr>\n",
       "  </tbody>\n",
       "</table>\n",
       "</div>"
      ],
      "text/plain": [
       "       international_travel_controls\n",
       "count                            441\n",
       "unique                             5\n",
       "top                              Ban\n",
       "freq                             247"
      ]
     },
     "execution_count": 16,
     "metadata": {},
     "output_type": "execute_result"
    }
   ],
   "source": [
    "# Getting the statistics of qualitative data like 'international_travel_controls'\n",
    "covid[['international_travel_controls']].describe()"
   ]
  },
  {
   "cell_type": "markdown",
   "metadata": {},
   "source": [
    "As a qualitative data 'international_travel_controls' has very few basic statistics as shown above."
   ]
  },
  {
   "cell_type": "markdown",
   "metadata": {},
   "source": [
    "# Task5 : Any other variable of your choice from the dataset."
   ]
  },
  {
   "cell_type": "code",
   "execution_count": 13,
   "metadata": {},
   "outputs": [
    {
     "name": "stdout",
     "output_type": "stream",
     "text": [
      "Using pandas module functions\n",
      "  n =  441\n",
      "Measures of central location\n",
      "Mean =  157.71501133786848\n",
      "Median =  46.886\n",
      "Measures of spread\n",
      "range =  1434.486\n",
      "quartiles =  0.25      9.499\n",
      "0.50     46.886\n",
      "0.75    209.448\n",
      "Name: deaths_per_M, dtype: float64\n",
      "IQR =  199.94899999999998\n",
      "stdev =  240.70063371121284\n",
      "pop stdev =  240.4275756156978\n",
      "Skewness =  2.401216911211228\n",
      "Excess kurtosis =  6.712236950107279\n"
     ]
    },
    {
     "data": {
      "image/png": "[encoded data removed]",
      "text/plain": [
       "<Figure size 432x288 with 1 Axes>"
      ]
     },
     "metadata": {
      "needs_background": "light"
     },
     "output_type": "display_data"
    },
    {
     "data": {
      "image/png": "[encoded data removed]",
      "text/plain": [
       "<Figure size 432x288 with 1 Axes>"
      ]
     },
     "metadata": {
      "needs_background": "light"
     },
     "output_type": "display_data"
    },
    {
     "data": {
      "image/png": "[encoded data removed]",
      "text/plain": [
       "<Figure size 432x288 with 1 Axes>"
      ]
     },
     "metadata": {
      "needs_background": "light"
     },
     "output_type": "display_data"
    },
    {
     "data": {
      "image/png": "[encoded data removed]",
      "text/plain": [
       "<Figure size 432x288 with 1 Axes>"
      ]
     },
     "metadata": {
      "needs_background": "light"
     },
     "output_type": "display_data"
    },
    {
     "name": "stdout",
     "output_type": "stream",
     "text": [
      "When it comes to showing details, Histogram is not very effective, so instead density plot is tried.\n"
     ]
    },
    {
     "data": {
      "image/png": "[encoded data removed]",
      "text/plain": [
       "<Figure size 432x288 with 1 Axes>"
      ]
     },
     "metadata": {
      "needs_background": "light"
     },
     "output_type": "display_data"
    },
    {
     "name": "stdout",
     "output_type": "stream",
     "text": [
      "Distribution by deaths_per_M is Right-Skewed. As we can see the mean = 134.289, Median = 28.204 against Range(max) = 1434.486. \n",
      "I can say that most countries has low cases of the desease.\n",
      "\n",
      "\n",
      "I will further use log-scale graph to further examin the data, as the histogram and boxplot show most data squashed to one end\n"
     ]
    }
   ],
   "source": [
    "# Task 5 - To calculate relevant distribution and statistics of The deaths_per_M\n",
    "print(\"Using pandas module functions\")\n",
    "print(\"  n = \", covid['deaths_per_M'].count())\n",
    "print(\"Measures of central location\")\n",
    "print(\"Mean = \", covid['deaths_per_M'].mean())\n",
    "print(\"Median = \", covid['deaths_per_M'].median())\n",
    "\n",
    "print(\"Measures of spread\")\n",
    "print(\"range = \", covid['deaths_per_M'].max()-covid['deaths_per_M'].min())\n",
    "q = covid['deaths_per_M'].quantile([0.25,0.5,0.75])\n",
    "print(\"quartiles = \", q)\n",
    "print(\"IQR = \", covid['deaths_per_M'].quantile(0.75) - covid['deaths_per_M'].quantile(0.25))\n",
    "print(\"stdev = \", covid['deaths_per_M'].std())\n",
    "print(\"pop stdev = \", covid['deaths_per_M'].std(ddof = 0))\n",
    "\n",
    "# print(\"Measures of shape\")\n",
    "print(\"Skewness = \", covid['deaths_per_M'].skew())\n",
    "print(\"Excess kurtosis = \", covid['deaths_per_M'].kurt())\n",
    "\n",
    "covid['deaths_per_M'].hist(bins = 50) ## setting number bin to range of data to get one bar per possible value\n",
    "plt.show()\n",
    "covid['deaths_per_M'].plot.box()\n",
    "plt.show()\n",
    "\n",
    "covid['deaths_per_M'].plot.hist(bins = 150).set_xscale(\"log\")\n",
    "plt.show()\n",
    "covid['deaths_per_M'].plot.box().set_yscale(\"log\")\n",
    "plt.show()\n",
    "print(\"When it comes to showing details, Histogram is not very effective, so instead density plot is tried.\")\n",
    "covid['deaths_per_M'].plot.density().set_xscale(\"log\")\n",
    "plt.show()\n",
    "print(\"Distribution by deaths_per_M is Right-Skewed. As we can see the mean = 134.289, Median = 28.204 against Range(max) = 1434.486. \\nI can say that most countries has low cases of the desease.\")\n",
    "print(\"\\n\\nI will further use log-scale graph to further examin the data, as the histogram and boxplot show most data squashed to one end\")\n"
   ]
  },
  {
   "cell_type": "markdown",
   "metadata": {},
   "source": [
    "# Filtering data:"
   ]
  },
  {
   "cell_type": "markdown",
   "metadata": {},
   "source": [
    "# 6. How the distribution of the cases_per_M varies with the value of continent"
   ]
  },
  {
   "cell_type": "code",
   "execution_count": 14,
   "metadata": {},
   "outputs": [
    {
     "name": "stdout",
     "output_type": "stream",
     "text": [
      "Using pandas module functions\n",
      "  n =  441\n",
      "Measures of central location\n",
      "Mean =  8365.913192743767\n",
      "Median =  2923.7740000000003\n",
      "Measures of spread\n",
      "range =  83074.35399999999\n",
      "quartiles =  0.25      621.076\n",
      "0.50     2923.774\n",
      "0.75    11072.794\n",
      "Name: cases_per_M, dtype: float64\n",
      "IQR =  10451.718\n",
      "stdev =  12022.323078012403\n",
      "pop stdev =  12008.684590266304\n",
      "Skewness =  2.251243286332675\n",
      "Excess kurtosis =  6.101124981710569\n"
     ]
    },
    {
     "data": {
      "image/png": "[encoded data removed]",
      "text/plain": [
       "<Figure size 1080x360 with 6 Axes>"
      ]
     },
     "metadata": {
      "needs_background": "light"
     },
     "output_type": "display_data"
    },
    {
     "name": "stdout",
     "output_type": "stream",
     "text": [
      "\n"
     ]
    },
    {
     "data": {
      "image/png": "[encoded data removed]",
      "text/plain": [
       "<Figure size 432x288 with 1 Axes>"
      ]
     },
     "metadata": {
      "needs_background": "light"
     },
     "output_type": "display_data"
    }
   ],
   "source": [
    "# distribution analysis of cases_per_M by continent\n",
    "print(\"Using pandas module functions\")\n",
    "print(\"  n = \", covid['cases_per_M'].count())\n",
    "print(\"Measures of central location\")\n",
    "print(\"Mean = \", covid['cases_per_M'].mean())\n",
    "print(\"Median = \", covid['cases_per_M'].median())\n",
    "\n",
    "print(\"Measures of spread\")\n",
    "print(\"range = \", covid['cases_per_M'].max()-covid['cases_per_M'].min())\n",
    "q = covid['cases_per_M'].quantile([0.25,0.5,0.75])\n",
    "print(\"quartiles = \", q)\n",
    "print(\"IQR = \", covid['cases_per_M'].quantile(0.75) - covid['cases_per_M'].quantile(0.25))\n",
    "print(\"stdev = \", covid['cases_per_M'].std())\n",
    "print(\"pop stdev = \", covid['cases_per_M'].std(ddof = 0))\n",
    "\n",
    "# print(\"Measures of shape\")\n",
    "print(\"Skewness = \", covid['cases_per_M'].skew())\n",
    "print(\"Excess kurtosis = \", covid['cases_per_M'].kurt())\n",
    "\n",
    "covid.hist('cases_per_M', by =  'continent', alpha = 0.9, edgecolor = \"black\", bins = 30, figsize = (15,5))\n",
    "plt.show()\n",
    "\n",
    "Q2 = covid[['cases_per_M','continent',]]\n",
    "Q2.boxplot('cases_per_M', by = 'continent')\n",
    "ir = Q2.sort_values('cases_per_M').groupby('continent')\n",
    "ir.cases_per_M.describe()\n",
    "print()\n",
    "#print(\"The distribution of infection cases by continent follows same pattern, but Europe has largerest cases followed by South America\")\n",
    "#print(\"The distribution also, shows that countries in the Oceania have least cases_per_M, followed by countries of Africa. \")\n"
   ]
  },
  {
   "cell_type": "markdown",
   "metadata": {},
   "source": [
    "The distribution of infection cases by continent follows same pattern, but Europe has largerest cases followed by South America The distribution also, shows that countries in the Oceania have least cases_per_M, followed by countries of Africa."
   ]
  },
  {
   "cell_type": "markdown",
   "metadata": {},
   "source": [
    "# 7. The statistics of the cases_per_M variable of the countries from Europe over the four 3-month periods ending May-20, Aug-20, Nov-20 and Feb-21¶"
   ]
  },
  {
   "cell_type": "code",
   "execution_count": 11,
   "metadata": {},
   "outputs": [
    {
     "name": "stdout",
     "output_type": "stream",
     "text": [
      "Using pandas module functions\n",
      "  n =  441\n",
      "mean =  8365.913192743767\n",
      "median =  2923.7740000000003\n",
      "skewness =  2.251243286332675\n",
      "range =  83074.35399999999\n",
      "excess kurtosis =  6.101124981710569\n"
     ]
    },
    {
     "data": {
      "image/png": "[encoded data removed]",
      "text/plain": [
       "<Figure size 720x288 with 4 Axes>"
      ]
     },
     "metadata": {
      "needs_background": "light"
     },
     "output_type": "display_data"
    },
    {
     "data": {
      "image/png": "[encoded data removed]",
      "text/plain": [
       "<Figure size 432x288 with 1 Axes>"
      ]
     },
     "metadata": {
      "needs_background": "light"
     },
     "output_type": "display_data"
    },
    {
     "data": {
      "image/png": "[encoded data removed]",
      "text/plain": [
       "<Figure size 720x288 with 1 Axes>"
      ]
     },
     "metadata": {
      "needs_background": "light"
     },
     "output_type": "display_data"
    },
    {
     "data": {
      "image/png": "[encoded data removed]",
      "text/plain": [
       "<Figure size 432x288 with 1 Axes>"
      ]
     },
     "metadata": {
      "needs_background": "light"
     },
     "output_type": "display_data"
    }
   ],
   "source": [
    "#Task 7. To calcualte the statistics of cases_per_M variables of countries from Europe ovr the 3 months periods\n",
    "print(\"Using pandas module functions\") #Statistics calculation\n",
    "print(\"  n = \", covid['cases_per_M'].count())\n",
    "print(\"mean = \", covid['cases_per_M'].mean())\n",
    "print(\"median = \", covid['cases_per_M'].median())\n",
    "print(\"skewness = \", covid['cases_per_M'].skew())\n",
    "print(\"range = \", covid['cases_per_M'].max()-covid['cases_per_M'].min())\n",
    "print(\"excess kurtosis = \", covid['cases_per_M'].kurt())\n",
    "plt.show()\n",
    "\n",
    "#plotting to show variables on charts\n",
    "\n",
    "plt.subplots = covid.hist(\"cases_per_M\", by = \"date\" , alpha = 0.6, color = \"Green\" , edgecolor = \"black\" , bins = 10, figsize = (10, 4))\n",
    "plt.ylabel(\"cases_per_M\")\n",
    "plt.xlabel('date')\n",
    "\n",
    "covid.boxplot(\"cases_per_M\", by = \"date\", vert = False)\n",
    "plt.show()\n",
    "covid.describe()\n",
    "plt.show()\n",
    "\n",
    "covid.groupby('date')['cases_per_M'].hist(alpha = 0.4, edgecolor = \"black\", bins = 10, figsize = (10,4))\n",
    "plt.show()\n",
    "\n",
    "covid ['cases_per_M'].plot.density().set_xscale(\"log\")\n",
    "plt.show()"
   ]
  },
  {
   "cell_type": "markdown",
   "metadata": {},
   "source": [
    "The distribution of cases_per_M infection variable by countries from Europe over the 3 months periods show that there is high increase of the infection in Feb -21 more than other months followed by Nov-20 and lowest in May-20 with the mean = 7117.880, Median = 1943.832 against Range(max) = 83074.354."
   ]
  },
  {
   "cell_type": "markdown",
   "metadata": {},
   "source": [
    "# 8. Creating cross-tabulations in the form of two-way tables using Mortality versus date"
   ]
  },
  {
   "cell_type": "code",
   "execution_count": 10,
   "metadata": {},
   "outputs": [
    {
     "name": "stdout",
     "output_type": "stream",
     "text": [
      "mortality  High  Low\n",
      "date                \n",
      "May-20       30   79\n",
      "Aug-20       37   72\n",
      "Nov-20       70   40\n",
      "Feb-21       81   32 \n",
      " mortality      High       Low\n",
      "date                         \n",
      "May-20     0.275229  0.724771\n",
      "Aug-20     0.339450  0.660550\n",
      "Nov-20     0.636364  0.363636\n",
      "Feb-21     0.716814  0.283186\n"
     ]
    },
    {
     "data": {
      "text/plain": [
       "<AxesSubplot:xlabel='date'>"
      ]
     },
     "execution_count": 10,
     "metadata": {},
     "output_type": "execute_result"
    },
    {
     "data": {
      "image/png": "[encoded data removed]",
      "text/plain": [
       "<Figure size 720x288 with 2 Axes>"
      ]
     },
     "metadata": {
      "needs_background": "light"
     },
     "output_type": "display_data"
    },
    {
     "data": {
      "image/png": "[encoded data removed]",
      "text/plain": [
       "<Figure size 720x288 with 2 Axes>"
      ]
     },
     "metadata": {
      "needs_background": "light"
     },
     "output_type": "display_data"
    }
   ],
   "source": [
    "covid['date'] = pd.Categorical(covid['date'], categories=['May-20','Aug-20','Nov-20','Feb-21'])\n",
    "cstab1 = pd.crosstab(covid['date'], covid['mortality'])\n",
    "cstab2 = pd.crosstab(covid['date'], covid['mortality'], normalize = \"index\")\n",
    "print(cstab1, \"\\n\", cstab2)\n",
    "\n",
    "fig, ax = plt.subplots(1, 2, figsize=(10, 4))\n",
    "cstab1.plot.bar(ax = ax[0])\n",
    "cstab1.plot.bar(stacked = True, ax = ax[1])\n",
    "\n",
    "fig, ax = plt.subplots(1, 2, figsize=(10, 4))\n",
    "cstab2.plot.bar(ax = ax[0])\n",
    "cstab2.plot.bar(stacked = True, ax = ax[1])"
   ]
  },
  {
   "cell_type": "markdown",
   "metadata": {},
   "source": [
    "# 9. any other pair of categorical variables that you think show interesting behaviour."
   ]
  },
  {
   "cell_type": "code",
   "execution_count": 2,
   "metadata": {},
   "outputs": [
    {
     "data": {
      "image/png": "[encoded data removed]",
      "text/plain": [
       "<Figure size 720x288 with 2 Axes>"
      ]
     },
     "metadata": {
      "needs_background": "light"
     },
     "output_type": "display_data"
    },
    {
     "name": "stdout",
     "output_type": "stream",
     "text": [
      " This shows that, as the date goes futher the higher the number of infected people increases and this resulted the close of schools\n",
      "And the Some school_closures has the highest number of infected people and the minimal school closures decreased in Aug-20 and raised from Nov-20 to Fbe-21\n"
     ]
    }
   ],
   "source": [
    "# same data shown as proportions within each reputation\n",
    "ct5 = pd.crosstab(covid['school_closures'],covid['date'], normalize = \"index\")\n",
    "fig, ax = plt.subplots(1, 2, figsize=(10, 4))\n",
    "ct5.plot.bar(ax = ax[0])\n",
    "ct5.plot.bar(stacked = True, ax = ax[1])\n",
    "plt.show()\n",
    "ct5\n",
    "print(\" This shows that, as the date goes futher the higher the number of infected people increases and this resulted the close of schools\")\n",
    "print(\"And the Some school_closures has the highest number of infected people and the minimal school closures decreased in Aug-20 and raised from Nov-20 to Fbe-21\")\n"
   ]
  },
  {
   "cell_type": "markdown",
   "metadata": {},
   "source": [
    "# 11. The median_age variable is numerical. Create a new variable called age_category\n",
    "that has levels young, mid or older corresponding to whether the median age of the\n",
    "country is in ranges 0-20, over 20-35, over 35."
   ]
  },
  {
   "cell_type": "code",
   "execution_count": 3,
   "metadata": {},
   "outputs": [
    {
     "data": {
      "image/png": "[encoded data removed]",
      "text/plain": [
       "<Figure size 720x288 with 2 Axes>"
      ]
     },
     "metadata": {
      "needs_background": "light"
     },
     "output_type": "display_data"
    },
    {
     "name": "stdout",
     "output_type": "stream",
     "text": [
      "median =  31.6\n",
      "median_age is 31.6 which are in ranges 20-35\n",
      "Measures of spread\n",
      "\trange =  33.1\n",
      "skewness of median_age =  -0.0426096137449857\n"
     ]
    }
   ],
   "source": [
    "fig, ax = plt.subplots(1, 2, figsize=(10, 4))\n",
    "covid['median_age'].hist(bins = 40, ax = ax[0])\n",
    "covid['age_category'] = pd.cut(covid['median_age'], bins = [20, 35, 40, 50],\n",
    "labels = ['0-20', '20-35', 'Over_35'])\n",
    "covid['age_category'].value_counts().sort_index().plot.bar(title = \"age_category_ranges\")\n",
    "plt.ylabel(\"frequency\")\n",
    "\n",
    "plt.show()\n",
    "\n",
    "#Interpretation:\n",
    "\n",
    "print(\"median = \", covid['median_age'].median())\n",
    "print (\"median_age is 31.6 which are in ranges 20-35\")\n",
    "print(\"Measures of spread\")\n",
    "print(\"\\trange = \", covid['median_age'].max()-covid['median_age'].min())\n",
    "print(\"skewness of median_age = \", covid['median_age'].skew(),)"
   ]
  },
  {
   "cell_type": "markdown",
   "metadata": {},
   "source": [
    "this distribution shows uniform distribution"
   ]
  },
  {
   "cell_type": "markdown",
   "metadata": {},
   "source": [
    "# Task 12. To check for missing values and remove any missing value."
   ]
  },
  {
   "cell_type": "code",
   "execution_count": 4,
   "metadata": {},
   "outputs": [],
   "source": [
    "# To check for missing values\n",
    "## print(\"Show count of missing values\\n\\r\", covid.notna().all())\n",
    "\n",
    "# ## Remove missing values\n",
    "covid.dropna(inplace = True)\n",
    "## print(\"Show count of missing values\\n\\r\", covid.notna().all())"
   ]
  },
  {
   "cell_type": "markdown",
   "metadata": {},
   "source": [
    "# Tasks 13. To calculate Mortality_rate as a percentage rate"
   ]
  },
  {
   "cell_type": "code",
   "execution_count": 5,
   "metadata": {},
   "outputs": [
    {
     "name": "stdout",
     "output_type": "stream",
     "text": [
      "mean mortality_rate =  2.7108859238481053 skewness of mortality_rate =  5.49356524160587\n"
     ]
    },
    {
     "data": {
      "image/png": "[encoded data removed]",
      "text/plain": [
       "<Figure size 864x288 with 2 Axes>"
      ]
     },
     "metadata": {
      "needs_background": "light"
     },
     "output_type": "display_data"
    }
   ],
   "source": [
    "## Task 13: To calculate the deaths_per _M by the cases_per_M and multiply by 100 and  examine correleation with median_age\n",
    "mortality_rate = 100 * covid['deaths_per_M'] / covid['cases_per_M'] \n",
    "\n",
    "covid = covid.assign(mortality_rate = mortality_rate)\n",
    "covid['mortality_rate'].describe()\n",
    "\n",
    "fig, ax = plt.subplots(1, 2, figsize=(12, 4))\n",
    "covid['mortality_rate'].hist(bins = 47, ax = ax[0])\n",
    "covid['mortality_rate'].plot.box(title = 'percentage rate', ax = ax[1])\n",
    "print(\"mean mortality_rate = \", covid['mortality_rate'].mean(), \"skewness of mortality_rate = \", covid['mortality_rate'].skew(),)\n"
   ]
  },
  {
   "cell_type": "markdown",
   "metadata": {},
   "source": [
    "This histogram chart show that mortality_rate has a postively or roight skewed distribution."
   ]
  },
  {
   "cell_type": "markdown",
   "metadata": {},
   "source": [
    "# Data Modelling Task"
   ]
  },
  {
   "cell_type": "markdown",
   "metadata": {},
   "source": [
    "Task 14 This is to create a regression model to predict death_per_M of covid cases'\n",
    "\n",
    "Some variables are not relevant:\n",
    "\n",
    "Some are purely descriptive such as Name, ID Others are essentially duplicates such as WeightSt, HeightFtIn and are in unusuable text format Others may have predictive power but are categories with too many values such as Nationality and Club So we shall remove these."
   ]
  },
  {
   "cell_type": "code",
   "execution_count": 6,
   "metadata": {},
   "outputs": [
    {
     "name": "stdout",
     "output_type": "stream",
     "text": [
      "R^2(test) =  0.7101278237576671\n",
      "MSE(test) =  17872.52022882482\n",
      "MAE(test) =  95.11018515484703\n"
     ]
    }
   ],
   "source": [
    "from sklearn.linear_model import LinearRegression\n",
    "from sklearn.model_selection import train_test_split\n",
    "## covid = covid.dropna()\n",
    "## X = X.drop_duplicates()\n",
    "\n",
    "y = covid['deaths_per_M']\n",
    "## select the predictors\n",
    "X = covid.drop(columns = ['location','mortality', 'mortality_rate','deaths_per_M',])\n",
    "X = pd.get_dummies(X)\n",
    "\n",
    "## Split the data into training and test sets\n",
    "X_train, X_test, y_train, y_test = train_test_split(X, y, train_size = 0.5, random_state=1234)\n",
    "\n",
    "## Fit the model to the training subset\n",
    "lr = LinearRegression()\n",
    "model = lr.fit(X_train,y_train)\n",
    "\n",
    "## Evaluate on the test set\n",
    "import sklearn.metrics as metrics\n",
    "y_pred = model.predict(X_test)\n",
    "print(\"R^2(test) = \", metrics.r2_score(y_test, y_pred))\n",
    "print(\"MSE(test) = \", metrics.mean_squared_error(y_test, y_pred))\n",
    "print(\"MAE(test) = \", metrics.mean_absolute_error(y_test, y_pred))"
   ]
  },
  {
   "cell_type": "code",
   "execution_count": 7,
   "metadata": {},
   "outputs": [
    {
     "name": "stdout",
     "output_type": "stream",
     "text": [
      "\n",
      "k-Nearest Neighbors\n",
      "R^2 =  0.63710030889668\n",
      "MSE =  22375.14532907819\n",
      "MAE =  85.75734751131222\n",
      "\n",
      "Decision Tree\n",
      "R^2 =  0.44510952120840497\n",
      "MSE =  34212.63618862897\n",
      "MAE =  100.32629411764705\n",
      "\n",
      "Random Forest\n",
      "R^2 =  0.7030590034967156\n",
      "MSE =  18308.359345036395\n",
      "MAE =  76.79018380090498\n"
     ]
    }
   ],
   "source": [
    "##Task 14b:Using a kNearest Neighbours Regression\n",
    "from sklearn.neighbors import KNeighborsRegressor\n",
    "knn = KNeighborsRegressor(n_neighbors = 5)\n",
    "KNNmodel = knn.fit(X_train,y_train)\n",
    "y_pred = KNNmodel.predict(X_test)\n",
    "\n",
    "print(\"\\nk-Nearest Neighbors\")\n",
    "print(\"R^2 = \", metrics.r2_score(y_test, y_pred))\n",
    "print(\"MSE = \", metrics.mean_squared_error(y_test, y_pred))\n",
    "print(\"MAE = \", metrics.mean_absolute_error(y_test, y_pred))\n",
    "\n",
    "## Performing a Decision Tree Regression Model\n",
    "from sklearn.tree import DecisionTreeRegressor\n",
    "tree = DecisionTreeRegressor()\n",
    "DTmodel = tree.fit(X_train,y_train)\n",
    "y_pred = DTmodel.predict(X_test)\n",
    "\n",
    "print(\"\\nDecision Tree\")\n",
    "print(\"R^2 = \", metrics.r2_score(y_test, y_pred))\n",
    "print(\"MSE = \", metrics.mean_squared_error(y_test, y_pred))\n",
    "print(\"MAE = \", metrics.mean_absolute_error(y_test, y_pred))\n",
    "\n",
    "## Performing a Random Forest Regression Model\n",
    "from sklearn.ensemble import RandomForestRegressor\n",
    "rf = RandomForestRegressor()\n",
    "RFmodel = rf.fit(X_train,y_train)\n",
    "y_pred = RFmodel.predict(X_test)\n",
    "\n",
    "print(\"\\nRandom Forest\")\n",
    "print(\"R^2 = \", metrics.r2_score(y_test, y_pred))\n",
    "print(\"MSE = \", metrics.mean_squared_error(y_test, y_pred))\n",
    "print(\"MAE = \", metrics.mean_absolute_error(y_test, y_pred))"
   ]
  },
  {
   "cell_type": "markdown",
   "metadata": {},
   "source": [
    "# Task 15 : Creating a decision tree classifier to predict the Mortality Category."
   ]
  },
  {
   "cell_type": "code",
   "execution_count": 8,
   "metadata": {},
   "outputs": [
    {
     "name": "stdout",
     "output_type": "stream",
     "text": [
      "decision tree\n",
      "accuracy(on test set) =  0.8280542986425339\n",
      "Confusion Matrix = \n",
      "  [[91 19]\n",
      " [19 92]]\n",
      "kNN\n",
      "accuracy(on test set) =  0.746606334841629\n",
      "Confusion Matrix = \n",
      " [[82 28]\n",
      " [28 83]]\n",
      "Random Forest\n",
      "accuracy(on test set) =  0.8778280542986425\n",
      "Confusion Matrix = \n",
      " [[ 92  18]\n",
      " [  9 102]]\n"
     ]
    }
   ],
   "source": [
    "# To remove all the irrelevant variables.\n",
    "from sklearn.tree import DecisionTreeClassifier\n",
    "from sklearn.neighbors import KNeighborsClassifier\n",
    "from sklearn.ensemble import RandomForestClassifier\n",
    "import sklearn.metrics as metrics\n",
    "\n",
    "y = covid['mortality']\n",
    "## select  all variable as the predictors except\n",
    "X = covid.drop(columns = ['location','mortality_rate', 'deaths_per_M','mortality',])\n",
    "X = pd.get_dummies(X)\n",
    "\n",
    "from sklearn import preprocessing\n",
    "scaler = preprocessing.StandardScaler()\n",
    "X = scaler.fit_transform(X)\n",
    "\n",
    "from sklearn.model_selection import train_test_split\n",
    "Xtrain, Xtest, ytrain, ytest = train_test_split(X, y, test_size=0.5, random_state=42)\n",
    "\n",
    "tree = DecisionTreeClassifier()\n",
    "model = tree.fit(Xtrain,ytrain) ; \n",
    "y_pred = model.predict(Xtest)\n",
    "print(\"decision tree\")\n",
    "print(\"accuracy(on test set) = \", metrics.accuracy_score(ytest, y_pred))\n",
    "print(\"Confusion Matrix = \\n \", metrics.confusion_matrix(ytest, y_pred))\n",
    "\n",
    "knn = KNeighborsClassifier(n_neighbors = 10)\n",
    "kNNmodel = knn.fit(Xtrain,ytrain)\n",
    "y_pred = kNNmodel.predict(Xtest)\n",
    "print(\"kNN\")\n",
    "print(\"accuracy(on test set) = \", metrics.accuracy_score(ytest, y_pred))\n",
    "print(\"Confusion Matrix = \\n\", metrics.confusion_matrix(ytest, y_pred))\n",
    "\n",
    "rf = RandomForestClassifier()\n",
    "rfmodel = rf.fit(Xtrain,ytrain)\n",
    "y_pred = rfmodel.predict(Xtest)\n",
    "print(\"Random Forest\")\n",
    "print(\"accuracy(on test set) = \", metrics.accuracy_score(ytest, y_pred))\n",
    "print(\"Confusion Matrix = \\n\", metrics.confusion_matrix(ytest, y_pred))\n"
   ]
  },
  {
   "cell_type": "code",
   "execution_count": null,
   "metadata": {},
   "outputs": [],
   "source": []
  }
 ],
 "metadata": {
  "kernelspec": {
   "display_name": "Python 3",
   "language": "python",
   "name": "python3"
  },
  "language_info": {
   "codemirror_mode": {
    "name": "ipython",
    "version": 3
   },
   "file_extension": ".py",
   "mimetype": "text/x-python",
   "name": "python",
   "nbconvert_exporter": "python",
   "pygments_lexer": "ipython3",
   "version": "3.8.5"
  }
 },
 "nbformat": 4,
 "nbformat_minor": 4
}
