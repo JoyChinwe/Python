{
 "cells": [
  {
   "cell_type": "markdown",
   "metadata": {},
   "source": [
    "## Task 1 Statistics of the insurance dataset"
   ]
  },
  {
   "cell_type": "code",
   "execution_count": 68,
   "metadata": {},
   "outputs": [
    {
     "data": {
      "text/html": [
       "<div>\n",
       "<style scoped>\n",
       "    .dataframe tbody tr th:only-of-type {\n",
       "        vertical-align: middle;\n",
       "    }\n",
       "\n",
       "    .dataframe tbody tr th {\n",
       "        vertical-align: top;\n",
       "    }\n",
       "\n",
       "    .dataframe thead th {\n",
       "        text-align: right;\n",
       "    }\n",
       "</style>\n",
       "<table border=\"1\" class=\"dataframe\">\n",
       "  <thead>\n",
       "    <tr style=\"text-align: right;\">\n",
       "      <th></th>\n",
       "      <th>age</th>\n",
       "      <th>gender</th>\n",
       "      <th>bmi</th>\n",
       "      <th>children</th>\n",
       "      <th>smoker</th>\n",
       "      <th>city</th>\n",
       "      <th>cost</th>\n",
       "    </tr>\n",
       "  </thead>\n",
       "  <tbody>\n",
       "    <tr>\n",
       "      <th>0</th>\n",
       "      <td>19</td>\n",
       "      <td>female</td>\n",
       "      <td>27.900</td>\n",
       "      <td>0</td>\n",
       "      <td>yes</td>\n",
       "      <td>Aberdeen</td>\n",
       "      <td>17330.99</td>\n",
       "    </tr>\n",
       "    <tr>\n",
       "      <th>1</th>\n",
       "      <td>18</td>\n",
       "      <td>male</td>\n",
       "      <td>33.770</td>\n",
       "      <td>1</td>\n",
       "      <td>no</td>\n",
       "      <td>Glasgow</td>\n",
       "      <td>1892.99</td>\n",
       "    </tr>\n",
       "    <tr>\n",
       "      <th>2</th>\n",
       "      <td>28</td>\n",
       "      <td>male</td>\n",
       "      <td>33.000</td>\n",
       "      <td>3</td>\n",
       "      <td>no</td>\n",
       "      <td>Glasgow</td>\n",
       "      <td>4680.12</td>\n",
       "    </tr>\n",
       "    <tr>\n",
       "      <th>3</th>\n",
       "      <td>33</td>\n",
       "      <td>male</td>\n",
       "      <td>22.705</td>\n",
       "      <td>0</td>\n",
       "      <td>no</td>\n",
       "      <td>Dundee</td>\n",
       "      <td>22345.30</td>\n",
       "    </tr>\n",
       "    <tr>\n",
       "      <th>4</th>\n",
       "      <td>32</td>\n",
       "      <td>male</td>\n",
       "      <td>28.880</td>\n",
       "      <td>0</td>\n",
       "      <td>no</td>\n",
       "      <td>Dundee</td>\n",
       "      <td>4235.46</td>\n",
       "    </tr>\n",
       "    <tr>\n",
       "      <th>...</th>\n",
       "      <td>...</td>\n",
       "      <td>...</td>\n",
       "      <td>...</td>\n",
       "      <td>...</td>\n",
       "      <td>...</td>\n",
       "      <td>...</td>\n",
       "      <td>...</td>\n",
       "    </tr>\n",
       "    <tr>\n",
       "      <th>1333</th>\n",
       "      <td>50</td>\n",
       "      <td>male</td>\n",
       "      <td>30.970</td>\n",
       "      <td>3</td>\n",
       "      <td>no</td>\n",
       "      <td>Dundee</td>\n",
       "      <td>10902.58</td>\n",
       "    </tr>\n",
       "    <tr>\n",
       "      <th>1334</th>\n",
       "      <td>18</td>\n",
       "      <td>female</td>\n",
       "      <td>31.920</td>\n",
       "      <td>0</td>\n",
       "      <td>no</td>\n",
       "      <td>Edinburgh</td>\n",
       "      <td>2219.95</td>\n",
       "    </tr>\n",
       "    <tr>\n",
       "      <th>1335</th>\n",
       "      <td>18</td>\n",
       "      <td>female</td>\n",
       "      <td>36.850</td>\n",
       "      <td>0</td>\n",
       "      <td>no</td>\n",
       "      <td>Glasgow</td>\n",
       "      <td>1789.07</td>\n",
       "    </tr>\n",
       "    <tr>\n",
       "      <th>1336</th>\n",
       "      <td>21</td>\n",
       "      <td>female</td>\n",
       "      <td>25.800</td>\n",
       "      <td>0</td>\n",
       "      <td>no</td>\n",
       "      <td>Aberdeen</td>\n",
       "      <td>2081.88</td>\n",
       "    </tr>\n",
       "    <tr>\n",
       "      <th>1337</th>\n",
       "      <td>61</td>\n",
       "      <td>female</td>\n",
       "      <td>29.070</td>\n",
       "      <td>0</td>\n",
       "      <td>yes</td>\n",
       "      <td>Dundee</td>\n",
       "      <td>29766.77</td>\n",
       "    </tr>\n",
       "  </tbody>\n",
       "</table>\n",
       "<p>1338 rows × 7 columns</p>\n",
       "</div>"
      ],
      "text/plain": [
       "      age  gender     bmi  children smoker       city      cost\n",
       "0      19  female  27.900         0    yes   Aberdeen  17330.99\n",
       "1      18    male  33.770         1     no    Glasgow   1892.99\n",
       "2      28    male  33.000         3     no    Glasgow   4680.12\n",
       "3      33    male  22.705         0     no     Dundee  22345.30\n",
       "4      32    male  28.880         0     no     Dundee   4235.46\n",
       "...   ...     ...     ...       ...    ...        ...       ...\n",
       "1333   50    male  30.970         3     no     Dundee  10902.58\n",
       "1334   18  female  31.920         0     no  Edinburgh   2219.95\n",
       "1335   18  female  36.850         0     no    Glasgow   1789.07\n",
       "1336   21  female  25.800         0     no   Aberdeen   2081.88\n",
       "1337   61  female  29.070         0    yes     Dundee  29766.77\n",
       "\n",
       "[1338 rows x 7 columns]"
      ]
     },
     "execution_count": 68,
     "metadata": {},
     "output_type": "execute_result"
    }
   ],
   "source": [
    "import pandas as pd\n",
    "## You will have to adapt the pathname to match the drive and location on your own PC\n",
    "insur = pd.read_csv(\"C:/Data/insurance.csv\")\n",
    "\n",
    "insur"
   ]
  },
  {
   "cell_type": "code",
   "execution_count": 15,
   "metadata": {},
   "outputs": [
    {
     "name": "stdout",
     "output_type": "stream",
     "text": [
      "Using pandas module functions\n",
      "  n =  1338\n",
      "Measures of central location\n",
      "mean =  39.20702541106129\n",
      "median =  39.0\n",
      "Measures of spread\n",
      "range =  46\n",
      "quartiles =  0.25    27.0\n",
      "0.50    39.0\n",
      "0.75    51.0\n",
      "Name: age, dtype: float64\n",
      "IQR =  24.0\n",
      "stdev =  14.049960379216172\n",
      "pop stdev =  14.04470903895454\n",
      "skewness =  0.05567251565299186\n",
      "excess kurtosis =  -1.2450876526418673\n"
     ]
    },
    {
     "data": {
      "image/png": "[encoded data removed]",
      "text/plain": [
       "<Figure size 432x288 with 1 Axes>"
      ]
     },
     "metadata": {
      "needs_background": "light"
     },
     "output_type": "display_data"
    },
    {
     "data": {
      "image/png": "[encoded data removed]",
      "text/plain": [
       "<Figure size 432x288 with 1 Axes>"
      ]
     },
     "metadata": {
      "needs_background": "light"
     },
     "output_type": "display_data"
    }
   ],
   "source": [
    "## statistics, histogram and boxplot of the 'age' column\n",
    "print(\"Using pandas module functions\")\n",
    "print(\"  n = \", insur['age'].count())\n",
    "print(\"Measures of central location\")\n",
    "print(\"mean = \", insur['age'].mean())\n",
    "print(\"median = \", insur['age'].median())\n",
    "\n",
    "print(\"Measures of spread\")\n",
    "print(\"range = \", insur['age'].max()-insur['age'].min())\n",
    "q = insur['age'].quantile([0.25,0.5,0.75])\n",
    "print(\"quartiles = \", q)\n",
    "print(\"IQR = \", insur['age'].quantile(0.75) - insur['age'].quantile(0.25))\n",
    "print(\"stdev = \", insur['age'].std())\n",
    "print(\"pop stdev = \", insur['age'].std(ddof = 0))\n",
    "\n",
    "# print(\"Measures of shape\")\n",
    "print(\"skewness = \", insur['age'].skew())\n",
    "print(\"excess kurtosis = \", insur['age'].kurt())\n",
    "\n",
    "insur['age'].hist(bins = 20)\n",
    "plt.show()\n",
    "insur['age'].plot.box()\n",
    "plt.show()"
   ]
  },
  {
   "cell_type": "markdown",
   "metadata": {},
   "source": [
    "For age:\n",
    "median and mean  are close, suggesting data does not have much skew to one side or other.\n",
    "kurtosis is below -1, suggesting that distribution is flatter than a \"normal\" distribution"
   ]
  },
  {
   "cell_type": "code",
   "execution_count": 16,
   "metadata": {},
   "outputs": [
    {
     "name": "stdout",
     "output_type": "stream",
     "text": [
      "Using pandas module functions\n",
      "  n =  1338\n",
      "Measures of central location\n",
      "mean =  30.663396860986538\n",
      "median =  30.4\n",
      "Measures of spread\n",
      "range =  37.17\n",
      "quartiles =  0.25    26.29625\n",
      "0.50    30.40000\n",
      "0.75    34.69375\n",
      "Name: bmi, dtype: float64\n",
      "IQR =  8.3975\n",
      "stdev =  6.098186911679017\n",
      "pop stdev =  6.095907641589428\n",
      "skewness =  0.2840471105987448\n",
      "excess kurtosis =  -0.05073153135467834\n"
     ]
    },
    {
     "data": {
      "image/png": "[encoded data removed]",
      "text/plain": [
       "<Figure size 432x288 with 1 Axes>"
      ]
     },
     "metadata": {
      "needs_background": "light"
     },
     "output_type": "display_data"
    },
    {
     "data": {
      "image/png": "[encoded data removed]",
      "text/plain": [
       "<Figure size 432x288 with 1 Axes>"
      ]
     },
     "metadata": {
      "needs_background": "light"
     },
     "output_type": "display_data"
    }
   ],
   "source": [
    "## statistics, histogram and boxplot of the 'bmi' column\n",
    "print(\"Using pandas module functions\")\n",
    "print(\"  n = \", insur['bmi'].count())\n",
    "print(\"Measures of central location\")\n",
    "print(\"mean = \", insur['bmi'].mean())\n",
    "print(\"median = \", insur['bmi'].median())\n",
    "\n",
    "print(\"Measures of spread\")\n",
    "print(\"range = \", insur['bmi'].max()-insur['bmi'].min())\n",
    "q = insur['bmi'].quantile([0.25,0.5,0.75])\n",
    "print(\"quartiles = \", q)\n",
    "print(\"IQR = \", insur['bmi'].quantile(0.75) - insur['bmi'].quantile(0.25))\n",
    "print(\"stdev = \", insur['bmi'].std())\n",
    "print(\"pop stdev = \", insur['bmi'].std(ddof = 0))\n",
    "\n",
    "# print(\"Measures of shape\")\n",
    "print(\"skewness = \", insur['bmi'].skew())\n",
    "print(\"excess kurtosis = \", insur['bmi'].kurt())\n",
    "\n",
    "insur['bmi'].hist(bins = 20)\n",
    "plt.show()\n",
    "insur['bmi'].plot.box()\n",
    "plt.show()"
   ]
  },
  {
   "cell_type": "markdown",
   "metadata": {},
   "source": [
    "For bmi: median and mean are close, suggesting data does not have much skew to one side or other. skewness is low (slightly skewed to larger ages perhaps) confirmed by low skewness value of 0.284, Kurtosis is very close to zero suggesting that distribution is characteristically a \"normal\" distribution, as might be expected from any variable with a natural variation in a population."
   ]
  },
  {
   "cell_type": "code",
   "execution_count": 18,
   "metadata": {},
   "outputs": [
    {
     "name": "stdout",
     "output_type": "stream",
     "text": [
      "Using pandas module functions\n",
      "  n =  1338\n",
      "Measures of central location\n",
      "mean =  1.0949177877429\n",
      "median =  1.0\n",
      "Measures of spread\n",
      "range =  5\n",
      "quartiles =  0.25    0.0\n",
      "0.50    1.0\n",
      "0.75    2.0\n",
      "Name: children, dtype: float64\n",
      "IQR =  2.0\n",
      "stdev =  1.2054927397819095\n",
      "pop stdev =  1.2050421724928453\n",
      "skewness =  0.9383804401702414\n",
      "excess kurtosis =  0.2024541467168901\n"
     ]
    },
    {
     "data": {
      "image/png": "[encoded data removed]",
      "text/plain": [
       "<Figure size 432x288 with 1 Axes>"
      ]
     },
     "metadata": {
      "needs_background": "light"
     },
     "output_type": "display_data"
    },
    {
     "data": {
      "image/png": "[encoded data removed]",
      "text/plain": [
       "<Figure size 432x288 with 1 Axes>"
      ]
     },
     "metadata": {
      "needs_background": "light"
     },
     "output_type": "display_data"
    }
   ],
   "source": [
    "## statistics, histogram and boxplot of the 'children' column\n",
    "print(\"Using pandas module functions\")\n",
    "print(\"  n = \", insur['children'].count())\n",
    "print(\"Measures of central location\")\n",
    "print(\"mean = \", insur['children'].mean())\n",
    "print(\"median = \", insur['children'].median())\n",
    "\n",
    "print(\"Measures of spread\")\n",
    "print(\"range = \", insur['children'].max()-insur['children'].min())\n",
    "q = insur['children'].quantile([0.25,0.5,0.75])\n",
    "print(\"quartiles = \", q)\n",
    "print(\"IQR = \", insur['children'].quantile(0.75) - insur['children'].quantile(0.25))\n",
    "print(\"stdev = \", insur['children'].std())\n",
    "print(\"pop stdev = \", insur['children'].std(ddof = 0))\n",
    "\n",
    "# print(\"Measures of shape\")\n",
    "print(\"skewness = \", insur['children'].skew())\n",
    "print(\"excess kurtosis = \", insur['children'].kurt())\n",
    "\n",
    "insur['children'].hist(bins = 5)\n",
    "plt.show()\n",
    "insur['children'].plot.box()\n",
    "plt.show()"
   ]
  },
  {
   "cell_type": "markdown",
   "metadata": {},
   "source": [
    "For children: median and mean differ by 10%, suggesting data has a skew, and this is confirmed by histogram and by the moderately high skewness value of 0.94."
   ]
  },
  {
   "cell_type": "code",
   "execution_count": 19,
   "metadata": {},
   "outputs": [
    {
     "name": "stdout",
     "output_type": "stream",
     "text": [
      "Using pandas module functions\n",
      "  n =  1338\n",
      "Measures of central location\n",
      "mean =  13903.733512705503\n",
      "median =  9847.375\n",
      "Measures of spread\n",
      "range =  67855.31\n",
      "quartiles =  0.25     4930.485\n",
      "0.50     9847.375\n",
      "0.75    17532.400\n",
      "Name: cost, dtype: float64\n",
      "IQR =  12601.915\n",
      "stdev =  12659.868697935826\n",
      "pop stdev =  12655.136921019304\n",
      "skewness =  1.5155466409781246\n",
      "excess kurtosis =  1.6329845169029529\n"
     ]
    },
    {
     "data": {
      "image/png": "[encoded data removed]",
      "text/plain": [
       "<Figure size 432x288 with 1 Axes>"
      ]
     },
     "metadata": {
      "needs_background": "light"
     },
     "output_type": "display_data"
    },
    {
     "data": {
      "image/png": "[encoded data removed]",
      "text/plain": [
       "<Figure size 432x288 with 1 Axes>"
      ]
     },
     "metadata": {
      "needs_background": "light"
     },
     "output_type": "display_data"
    }
   ],
   "source": [
    "## statistics, histogram and boxplot of the 'cost' column\n",
    "print(\"Using pandas module functions\")\n",
    "print(\"  n = \", insur['cost'].count())\n",
    "print(\"Measures of central location\")\n",
    "print(\"mean = \", insur['cost'].mean())\n",
    "print(\"median = \", insur['cost'].median())\n",
    "\n",
    "print(\"Measures of spread\")\n",
    "print(\"range = \", insur['cost'].max()-insur['cost'].min())\n",
    "q = insur['cost'].quantile([0.25,0.5,0.75])\n",
    "print(\"quartiles = \", q)\n",
    "print(\"IQR = \", insur['cost'].quantile(0.75) - insur['cost'].quantile(0.25))\n",
    "print(\"stdev = \", insur['cost'].std())\n",
    "print(\"pop stdev = \", insur['cost'].std(ddof = 0))\n",
    "\n",
    "# print(\"Measures of shape\")\n",
    "print(\"skewness = \", insur['cost'].skew())\n",
    "print(\"excess kurtosis = \", insur['cost'].kurt())\n",
    "\n",
    "insur['cost'].hist(bins = 5)\n",
    "plt.show()\n",
    "insur['cost'].plot.box()\n",
    "plt.show()"
   ]
  },
  {
   "cell_type": "markdown",
   "metadata": {},
   "source": [
    "For cost: median and mean differ significantly, mean is higher suggesting a positive skew (influenced by small number of high cost claims), and this is confirmed by histogram and by the high skewness value of 1.52."
   ]
  },
  {
   "cell_type": "markdown",
   "metadata": {},
   "source": [
    "## Task 2 Exploring the fifa dataset\n"
   ]
  },
  {
   "cell_type": "code",
   "execution_count": 69,
   "metadata": {},
   "outputs": [
    {
     "data": {
      "text/html": [
       "<div>\n",
       "<style scoped>\n",
       "    .dataframe tbody tr th:only-of-type {\n",
       "        vertical-align: middle;\n",
       "    }\n",
       "\n",
       "    .dataframe tbody tr th {\n",
       "        vertical-align: top;\n",
       "    }\n",
       "\n",
       "    .dataframe thead th {\n",
       "        text-align: right;\n",
       "    }\n",
       "</style>\n",
       "<table border=\"1\" class=\"dataframe\">\n",
       "  <thead>\n",
       "    <tr style=\"text-align: right;\">\n",
       "      <th></th>\n",
       "      <th>ID</th>\n",
       "      <th>Name</th>\n",
       "      <th>Nationality</th>\n",
       "      <th>Age</th>\n",
       "      <th>OverallRating</th>\n",
       "      <th>Club</th>\n",
       "      <th>HeightCM</th>\n",
       "      <th>HeightFtIn</th>\n",
       "      <th>WeightKg</th>\n",
       "      <th>WeightSt</th>\n",
       "      <th>...</th>\n",
       "      <th>LongShots</th>\n",
       "      <th>Aggression</th>\n",
       "      <th>Interceptions</th>\n",
       "      <th>Positioning</th>\n",
       "      <th>Vision</th>\n",
       "      <th>Penalties</th>\n",
       "      <th>Composure</th>\n",
       "      <th>Marking</th>\n",
       "      <th>StandingTackle</th>\n",
       "      <th>Sliding Tackle</th>\n",
       "    </tr>\n",
       "  </thead>\n",
       "  <tbody>\n",
       "    <tr>\n",
       "      <th>0</th>\n",
       "      <td>230212</td>\n",
       "      <td>A. Benjamin Chiamuloira Paes</td>\n",
       "      <td>Brazil</td>\n",
       "      <td>31</td>\n",
       "      <td>79</td>\n",
       "      <td>Internacional</td>\n",
       "      <td>182</td>\n",
       "      <td>6'0\"</td>\n",
       "      <td>79.4</td>\n",
       "      <td>12st 6lb</td>\n",
       "      <td>...</td>\n",
       "      <td>51</td>\n",
       "      <td>88</td>\n",
       "      <td>77</td>\n",
       "      <td>24</td>\n",
       "      <td>47</td>\n",
       "      <td>66</td>\n",
       "      <td>70</td>\n",
       "      <td>81</td>\n",
       "      <td>78</td>\n",
       "      <td>81</td>\n",
       "    </tr>\n",
       "    <tr>\n",
       "      <th>1</th>\n",
       "      <td>248767</td>\n",
       "      <td>A. Pimenta Flora Pimenta</td>\n",
       "      <td>Portugal</td>\n",
       "      <td>20</td>\n",
       "      <td>53</td>\n",
       "      <td>Venezia FC</td>\n",
       "      <td>184</td>\n",
       "      <td>6'0\"</td>\n",
       "      <td>75.3</td>\n",
       "      <td>11st 11lb</td>\n",
       "      <td>...</td>\n",
       "      <td>42</td>\n",
       "      <td>40</td>\n",
       "      <td>23</td>\n",
       "      <td>43</td>\n",
       "      <td>51</td>\n",
       "      <td>53</td>\n",
       "      <td>50</td>\n",
       "      <td>22</td>\n",
       "      <td>25</td>\n",
       "      <td>28</td>\n",
       "    </tr>\n",
       "    <tr>\n",
       "      <th>2</th>\n",
       "      <td>190883</td>\n",
       "      <td>A.J. DeLaGarza</td>\n",
       "      <td>Guam</td>\n",
       "      <td>31</td>\n",
       "      <td>66</td>\n",
       "      <td>Houston Dynamo</td>\n",
       "      <td>174</td>\n",
       "      <td>5'9\"</td>\n",
       "      <td>68.1</td>\n",
       "      <td>10st 10lb</td>\n",
       "      <td>...</td>\n",
       "      <td>36</td>\n",
       "      <td>71</td>\n",
       "      <td>66</td>\n",
       "      <td>55</td>\n",
       "      <td>56</td>\n",
       "      <td>52</td>\n",
       "      <td>64</td>\n",
       "      <td>64</td>\n",
       "      <td>62</td>\n",
       "      <td>63</td>\n",
       "    </tr>\n",
       "    <tr>\n",
       "      <th>3</th>\n",
       "      <td>234290</td>\n",
       "      <td>Aapo Halme</td>\n",
       "      <td>Finland</td>\n",
       "      <td>21</td>\n",
       "      <td>63</td>\n",
       "      <td>Barnsley</td>\n",
       "      <td>197</td>\n",
       "      <td>6'5\"</td>\n",
       "      <td>77.7</td>\n",
       "      <td>12st 4lb</td>\n",
       "      <td>...</td>\n",
       "      <td>18</td>\n",
       "      <td>62</td>\n",
       "      <td>57</td>\n",
       "      <td>27</td>\n",
       "      <td>32</td>\n",
       "      <td>31</td>\n",
       "      <td>62</td>\n",
       "      <td>58</td>\n",
       "      <td>61</td>\n",
       "      <td>57</td>\n",
       "    </tr>\n",
       "    <tr>\n",
       "      <th>4</th>\n",
       "      <td>203504</td>\n",
       "      <td>Aaron Amadi-Holloway</td>\n",
       "      <td>Wales</td>\n",
       "      <td>26</td>\n",
       "      <td>61</td>\n",
       "      <td>Brisbane Roar</td>\n",
       "      <td>189</td>\n",
       "      <td>6'2\"</td>\n",
       "      <td>83.3</td>\n",
       "      <td>13st 1lb</td>\n",
       "      <td>...</td>\n",
       "      <td>49</td>\n",
       "      <td>58</td>\n",
       "      <td>48</td>\n",
       "      <td>56</td>\n",
       "      <td>46</td>\n",
       "      <td>59</td>\n",
       "      <td>51</td>\n",
       "      <td>32</td>\n",
       "      <td>52</td>\n",
       "      <td>48</td>\n",
       "    </tr>\n",
       "    <tr>\n",
       "      <th>...</th>\n",
       "      <td>...</td>\n",
       "      <td>...</td>\n",
       "      <td>...</td>\n",
       "      <td>...</td>\n",
       "      <td>...</td>\n",
       "      <td>...</td>\n",
       "      <td>...</td>\n",
       "      <td>...</td>\n",
       "      <td>...</td>\n",
       "      <td>...</td>\n",
       "      <td>...</td>\n",
       "      <td>...</td>\n",
       "      <td>...</td>\n",
       "      <td>...</td>\n",
       "      <td>...</td>\n",
       "      <td>...</td>\n",
       "      <td>...</td>\n",
       "      <td>...</td>\n",
       "      <td>...</td>\n",
       "      <td>...</td>\n",
       "      <td>...</td>\n",
       "    </tr>\n",
       "    <tr>\n",
       "      <th>18542</th>\n",
       "      <td>198250</td>\n",
       "      <td>Zsolt Korcsmár</td>\n",
       "      <td>Hungary</td>\n",
       "      <td>30</td>\n",
       "      <td>66</td>\n",
       "      <td>FC Midtjylland</td>\n",
       "      <td>189</td>\n",
       "      <td>6'2\"</td>\n",
       "      <td>81.9</td>\n",
       "      <td>12st 13lb</td>\n",
       "      <td>...</td>\n",
       "      <td>32</td>\n",
       "      <td>73</td>\n",
       "      <td>62</td>\n",
       "      <td>48</td>\n",
       "      <td>45</td>\n",
       "      <td>27</td>\n",
       "      <td>61</td>\n",
       "      <td>62</td>\n",
       "      <td>64</td>\n",
       "      <td>63</td>\n",
       "    </tr>\n",
       "    <tr>\n",
       "      <th>18543</th>\n",
       "      <td>236983</td>\n",
       "      <td>Zsombor Veress</td>\n",
       "      <td>Romania</td>\n",
       "      <td>19</td>\n",
       "      <td>50</td>\n",
       "      <td>Sepsi OSK</td>\n",
       "      <td>184</td>\n",
       "      <td>6'0\"</td>\n",
       "      <td>78.5</td>\n",
       "      <td>12st 6lb</td>\n",
       "      <td>...</td>\n",
       "      <td>48</td>\n",
       "      <td>31</td>\n",
       "      <td>18</td>\n",
       "      <td>57</td>\n",
       "      <td>43</td>\n",
       "      <td>63</td>\n",
       "      <td>42</td>\n",
       "      <td>18</td>\n",
       "      <td>11</td>\n",
       "      <td>15</td>\n",
       "    </tr>\n",
       "    <tr>\n",
       "      <th>18544</th>\n",
       "      <td>244750</td>\n",
       "      <td>Zvonimir Kožulj</td>\n",
       "      <td>Bosnia Herzegovina</td>\n",
       "      <td>25</td>\n",
       "      <td>70</td>\n",
       "      <td>Pogoń Szczecin</td>\n",
       "      <td>179</td>\n",
       "      <td>5'11\"</td>\n",
       "      <td>78.4</td>\n",
       "      <td>12st 4lb</td>\n",
       "      <td>...</td>\n",
       "      <td>74</td>\n",
       "      <td>53</td>\n",
       "      <td>62</td>\n",
       "      <td>68</td>\n",
       "      <td>68</td>\n",
       "      <td>52</td>\n",
       "      <td>67</td>\n",
       "      <td>53</td>\n",
       "      <td>58</td>\n",
       "      <td>51</td>\n",
       "    </tr>\n",
       "    <tr>\n",
       "      <th>18545</th>\n",
       "      <td>251343</td>\n",
       "      <td>Zvonimir Šarlija</td>\n",
       "      <td>Croatia</td>\n",
       "      <td>22</td>\n",
       "      <td>66</td>\n",
       "      <td>PFC CSKA Moscow</td>\n",
       "      <td>188</td>\n",
       "      <td>6'2\"</td>\n",
       "      <td>79.5</td>\n",
       "      <td>12st 8lb</td>\n",
       "      <td>...</td>\n",
       "      <td>24</td>\n",
       "      <td>59</td>\n",
       "      <td>61</td>\n",
       "      <td>32</td>\n",
       "      <td>45</td>\n",
       "      <td>47</td>\n",
       "      <td>54</td>\n",
       "      <td>67</td>\n",
       "      <td>71</td>\n",
       "      <td>68</td>\n",
       "    </tr>\n",
       "    <tr>\n",
       "      <th>18546</th>\n",
       "      <td>208581</td>\n",
       "      <td>Zymer Bytyqi</td>\n",
       "      <td>Norway</td>\n",
       "      <td>22</td>\n",
       "      <td>66</td>\n",
       "      <td>Viking FK</td>\n",
       "      <td>174</td>\n",
       "      <td>5'9\"</td>\n",
       "      <td>69.3</td>\n",
       "      <td>11st 0lb</td>\n",
       "      <td>...</td>\n",
       "      <td>61</td>\n",
       "      <td>62</td>\n",
       "      <td>12</td>\n",
       "      <td>56</td>\n",
       "      <td>60</td>\n",
       "      <td>62</td>\n",
       "      <td>63</td>\n",
       "      <td>39</td>\n",
       "      <td>13</td>\n",
       "      <td>13</td>\n",
       "    </tr>\n",
       "  </tbody>\n",
       "</table>\n",
       "<p>18547 rows × 48 columns</p>\n",
       "</div>"
      ],
      "text/plain": [
       "           ID                          Name         Nationality  Age  \\\n",
       "0      230212  A. Benjamin Chiamuloira Paes              Brazil   31   \n",
       "1      248767      A. Pimenta Flora Pimenta            Portugal   20   \n",
       "2      190883                A.J. DeLaGarza                Guam   31   \n",
       "3      234290                    Aapo Halme             Finland   21   \n",
       "4      203504          Aaron Amadi-Holloway               Wales   26   \n",
       "...       ...                           ...                 ...  ...   \n",
       "18542  198250                Zsolt Korcsmár             Hungary   30   \n",
       "18543  236983                Zsombor Veress             Romania   19   \n",
       "18544  244750               Zvonimir Kožulj  Bosnia Herzegovina   25   \n",
       "18545  251343              Zvonimir Šarlija             Croatia   22   \n",
       "18546  208581                  Zymer Bytyqi              Norway   22   \n",
       "\n",
       "       OverallRating             Club  HeightCM HeightFtIn  WeightKg  \\\n",
       "0                 79    Internacional       182       6'0\"      79.4   \n",
       "1                 53       Venezia FC       184       6'0\"      75.3   \n",
       "2                 66   Houston Dynamo       174       5'9\"      68.1   \n",
       "3                 63         Barnsley       197       6'5\"      77.7   \n",
       "4                 61    Brisbane Roar       189       6'2\"      83.3   \n",
       "...              ...              ...       ...        ...       ...   \n",
       "18542             66   FC Midtjylland       189       6'2\"      81.9   \n",
       "18543             50        Sepsi OSK       184       6'0\"      78.5   \n",
       "18544             70   Pogoń Szczecin       179      5'11\"      78.4   \n",
       "18545             66  PFC CSKA Moscow       188       6'2\"      79.5   \n",
       "18546             66        Viking FK       174       5'9\"      69.3   \n",
       "\n",
       "        WeightSt  ... LongShots Aggression Interceptions  Positioning Vision  \\\n",
       "0       12st 6lb  ...        51         88            77           24     47   \n",
       "1      11st 11lb  ...        42         40            23           43     51   \n",
       "2      10st 10lb  ...        36         71            66           55     56   \n",
       "3       12st 4lb  ...        18         62            57           27     32   \n",
       "4       13st 1lb  ...        49         58            48           56     46   \n",
       "...          ...  ...       ...        ...           ...          ...    ...   \n",
       "18542  12st 13lb  ...        32         73            62           48     45   \n",
       "18543   12st 6lb  ...        48         31            18           57     43   \n",
       "18544   12st 4lb  ...        74         53            62           68     68   \n",
       "18545   12st 8lb  ...        24         59            61           32     45   \n",
       "18546   11st 0lb  ...        61         62            12           56     60   \n",
       "\n",
       "      Penalties  Composure  Marking  StandingTackle  Sliding Tackle  \n",
       "0            66         70       81              78              81  \n",
       "1            53         50       22              25              28  \n",
       "2            52         64       64              62              63  \n",
       "3            31         62       58              61              57  \n",
       "4            59         51       32              52              48  \n",
       "...         ...        ...      ...             ...             ...  \n",
       "18542        27         61       62              64              63  \n",
       "18543        63         42       18              11              15  \n",
       "18544        52         67       53              58              51  \n",
       "18545        47         54       67              71              68  \n",
       "18546        62         63       39              13              13  \n",
       "\n",
       "[18547 rows x 48 columns]"
      ]
     },
     "execution_count": 69,
     "metadata": {},
     "output_type": "execute_result"
    }
   ],
   "source": [
    "import pandas as pd\n",
    "## You will have to adapt the pathname to match the drive and location on your own PC\n",
    "fifa = pd.read_csv(\"C:/Data/fifa.csv\")\n",
    "\n",
    "fifa"
   ]
  },
  {
   "cell_type": "code",
   "execution_count": 70,
   "metadata": {},
   "outputs": [
    {
     "name": "stdout",
     "output_type": "stream",
     "text": [
      "mean =  66.2554591038982\n",
      "median =  66.0\n",
      "Measures of spread\n",
      "range =  47\n",
      "quartiles =  0.25    62.0\n",
      "0.50    66.0\n",
      "0.75    71.0\n",
      "Name: OverallRating, dtype: float64\n",
      "IQR =  9.0\n",
      "stdev =  6.9047205830878235\n",
      "pop stdev =  6.904534439408086\n",
      "skewness =  0.08207194013057088\n",
      "excess kurtosis =  0.07043273553217944\n"
     ]
    },
    {
     "data": {
      "image/png": "[encoded data removed]",
      "text/plain": [
       "<Figure size 432x288 with 1 Axes>"
      ]
     },
     "metadata": {
      "needs_background": "light"
     },
     "output_type": "display_data"
    },
    {
     "data": {
      "image/png": "[encoded data removed]",
      "text/plain": [
       "<Figure size 432x288 with 1 Axes>"
      ]
     },
     "metadata": {
      "needs_background": "light"
     },
     "output_type": "display_data"
    },
    {
     "name": "stdout",
     "output_type": "stream",
     "text": [
      "Overall rating seems to have a fairly normal distribution of mean/median around 66 and standard distribution 6.9\n",
      "perhaps more outliers at high range than low, confirmed by low skew of 0.08\n"
     ]
    }
   ],
   "source": [
    "## statistics, histogram and boxplot of the 'OverallRating' attribute of the players\n",
    "print(\"mean = \", fifa['OverallRating'].mean())\n",
    "print(\"median = \", fifa['OverallRating'].median())\n",
    "\n",
    "print(\"Measures of spread\")\n",
    "rangeOR = fifa['OverallRating'].max()-fifa['OverallRating'].min()\n",
    "print(\"range = \", fifa['OverallRating'].max()-fifa['OverallRating'].min())\n",
    "q = fifa['OverallRating'].quantile([0.25,0.5,0.75])\n",
    "print(\"quartiles = \", q)\n",
    "print(\"IQR = \", fifa['OverallRating'].quantile(0.75) - fifa['OverallRating'].quantile(0.25))\n",
    "print(\"stdev = \", fifa['OverallRating'].std())\n",
    "print(\"pop stdev = \", fifa['OverallRating'].std(ddof = 0))\n",
    "\n",
    "print(\"skewness = \", fifa['OverallRating'].skew())\n",
    "print(\"excess kurtosis = \", fifa['OverallRating'].kurt())\n",
    "\n",
    "fifa['OverallRating'].hist(bins = rangeOR) ## setting number bin to range of data to get one bar per possible value\n",
    "plt.show()\n",
    "fifa['OverallRating'].plot.box()\n",
    "plt.show()\n",
    "print(\"Overall rating seems to have a fairly normal distribution of mean/median around 66 and standard distribution 6.9\")\n",
    "print(\"perhaps more outliers at high range than low, confirmed by low skew of 0.08\")"
   ]
  },
  {
   "cell_type": "code",
   "execution_count": 71,
   "metadata": {},
   "outputs": [
    {
     "name": "stdout",
     "output_type": "stream",
     "text": [
      "mean =  58.49533617296598\n",
      "median =  63.0\n",
      "Measures of spread\n",
      "range =  91\n",
      "quartiles =  0.25    54.0\n",
      "0.50    63.0\n",
      "0.75    69.0\n",
      "Name: BallControl, dtype: float64\n",
      "IQR =  15.0\n",
      "stdev =  16.69253736741291\n",
      "pop stdev =  16.692087354947912\n",
      "skewness =  -1.298474334341838\n",
      "excess kurtosis =  1.116333150398304\n"
     ]
    },
    {
     "data": {
      "image/png": "[encoded data removed]",
      "text/plain": [
       "<Figure size 432x288 with 1 Axes>"
      ]
     },
     "metadata": {
      "needs_background": "light"
     },
     "output_type": "display_data"
    },
    {
     "data": {
      "image/png": "[encoded data removed]",
      "text/plain": [
       "<Figure size 432x288 with 1 Axes>"
      ]
     },
     "metadata": {
      "needs_background": "light"
     },
     "output_type": "display_data"
    },
    {
     "name": "stdout",
     "output_type": "stream",
     "text": [
      "Overall median of 63 is higher than mean of 58.5\n",
      "Skewed distribution is apparent, with histogram showing a population of players with ball control around 20's\n",
      "A hypothesis worth exploring might be that these are goalkeepers(?)\n"
     ]
    },
    {
     "data": {
      "image/png": "[encoded data removed]",
      "text/plain": [
       "<Figure size 432x288 with 1 Axes>"
      ]
     },
     "metadata": {
      "needs_background": "light"
     },
     "output_type": "display_data"
    }
   ],
   "source": [
    "## statistics, histogram and boxplot of the 'BallControl' attribute of the players\n",
    "print(\"mean = \", fifa['BallControl'].mean())\n",
    "print(\"median = \", fifa['BallControl'].median())\n",
    "\n",
    "print(\"Measures of spread\")\n",
    "rangeBC = fifa['BallControl'].max()-fifa['BallControl'].min()\n",
    "print(\"range = \", fifa['BallControl'].max()-fifa['BallControl'].min())\n",
    "q = fifa['BallControl'].quantile([0.25,0.5,0.75])\n",
    "print(\"quartiles = \", q)\n",
    "print(\"IQR = \", fifa['BallControl'].quantile(0.75) - fifa['BallControl'].quantile(0.25))\n",
    "print(\"stdev = \", fifa['BallControl'].std())\n",
    "print(\"pop stdev = \", fifa['BallControl'].std(ddof = 0))\n",
    "\n",
    "print(\"skewness = \", fifa['BallControl'].skew())\n",
    "print(\"excess kurtosis = \", fifa['BallControl'].kurt())\n",
    "\n",
    "fifa['BallControl'].hist(bins = rangeBC)\n",
    "plt.show()\n",
    "fifa['BallControl'].plot.box()\n",
    "plt.show()\n",
    "print(\"Overall median of 63 is higher than mean of 58.5\")\n",
    "print(\"Skewed distribution is apparent, with histogram showing a population of players with ball control around 20's\")\n",
    "print(\"A hypothesis worth exploring might be that these are goalkeepers(?)\")\n",
    "goalies = fifa[fifa['PreferredPosition'] == \"Goal\"]\n",
    "outfield = fifa[fifa['PreferredPosition'] != \"Goal\"]\n",
    "outfield['BallControl'].hist(bins = 73, color = \"red\")\n",
    "goalies['BallControl'].hist(bins = 42, color = \"blue\")\n",
    "plt.title(\"Goalkeeeprs in blue, outfield in red\")\n",
    "plt.show()"
   ]
  },
  {
   "cell_type": "code",
   "execution_count": 88,
   "metadata": {
    "scrolled": false
   },
   "outputs": [
    {
     "name": "stdout",
     "output_type": "stream",
     "text": [
      "count     18292.000000\n",
      "mean       9945.359720\n",
      "std       21201.932813\n",
      "min         410.000000\n",
      "25%        1910.000000\n",
      "50%        3580.000000\n",
      "75%        8700.000000\n",
      "max      565100.000000\n",
      "Name: wageEuro, dtype: float64\n",
      "mean =  9945.359720096218\n",
      "median =  3580.0\n",
      "Measures of spread\n",
      "range =  564690.0\n",
      "quartiles =  0.25    1910.0\n",
      "0.50    3580.0\n",
      "0.75    8700.0\n",
      "Name: wageEuro, dtype: float64\n",
      "IQR =  6790.0\n",
      "stdev =  21201.93281338749\n",
      "pop stdev =  21201.35326433348\n",
      "skewness =  7.902634928018341\n",
      "excess kurtosis =  102.55159899674594\n"
     ]
    },
    {
     "data": {
      "image/png": "[encoded data removed]",
      "text/plain": [
       "<Figure size 432x288 with 1 Axes>"
      ]
     },
     "metadata": {
      "needs_background": "light"
     },
     "output_type": "display_data"
    },
    {
     "data": {
      "image/png": "[encoded data removed]",
      "text/plain": [
       "<Figure size 432x288 with 1 Axes>"
      ]
     },
     "metadata": {
      "needs_background": "light"
     },
     "output_type": "display_data"
    },
    {
     "name": "stdout",
     "output_type": "stream",
     "text": [
      "median and mean have extreme difference, this is a highly skewed distribution\n",
      "so skewed that histogram and boxplot show most data squashed at small end, so lets use a log-scale graph\n"
     ]
    },
    {
     "data": {
      "image/png": "[encoded data removed]",
      "text/plain": [
       "<Figure size 432x288 with 1 Axes>"
      ]
     },
     "metadata": {
      "needs_background": "light"
     },
     "output_type": "display_data"
    },
    {
     "data": {
      "image/png": "[encoded data removed]",
      "text/plain": [
       "<Figure size 432x288 with 1 Axes>"
      ]
     },
     "metadata": {
      "needs_background": "light"
     },
     "output_type": "display_data"
    },
    {
     "name": "stdout",
     "output_type": "stream",
     "text": [
      "Histogram is not very effective at showing detail, so try a density plot instead\n"
     ]
    },
    {
     "data": {
      "image/png": "[encoded data removed]",
      "text/plain": [
       "<Figure size 432x288 with 1 Axes>"
      ]
     },
     "metadata": {
      "needs_background": "light"
     },
     "output_type": "display_data"
    }
   ],
   "source": [
    "## statistics, histogram and boxplot of the 'wageEuro' attribute of the players\n",
    "## Original copy of fifa.csv had strange values #VALUE! in euroWage - replaced  fifa.csv file\n",
    "## on Moodle to make the stats functions work\n",
    "print(fifa['wageEuro'].describe())\n",
    "print(\"mean = \", fifa['wageEuro'].mean())\n",
    "print(\"median = \", fifa['wageEuro'].median())\n",
    "\n",
    "print(\"Measures of spread\")\n",
    "print(\"range = \", fifa['wageEuro'].max()-fifa['wageEuro'].min())\n",
    "q = fifa['wageEuro'].quantile([0.25,0.5,0.75])\n",
    "print(\"quartiles = \", q)\n",
    "print(\"IQR = \", fifa['wageEuro'].quantile(0.75) - fifa['wageEuro'].quantile(0.25))\n",
    "print(\"stdev = \", fifa['wageEuro'].std())\n",
    "print(\"pop stdev = \", fifa['wageEuro'].std(ddof = 0))\n",
    "\n",
    "print(\"skewness = \", fifa['wageEuro'].skew())\n",
    "print(\"excess kurtosis = \", fifa['wageEuro'].kurt())\n",
    "\n",
    "fifa['wageEuro'].hist(bins = 100)\n",
    "plt.show()\n",
    "fifa['wageEuro'].plot.box()\n",
    "plt.show()\n",
    "print(\"median and mean have extreme difference, this is a highly skewed distribution. Definitely not a normal distribution\")\n",
    "print(\"An exponential distribution might be a better model\")\n",
    "print(\"Distribution is so skewed that histogram and boxplot show most data squashed at small end, so lets use a log-scale graph\")\n",
    "fifa['wageEuro'].plot.hist(bins = 150).set_xscale(\"log\")\n",
    "plt.show()\n",
    "fifa['wageEuro'].plot.box().set_yscale(\"log\")\n",
    "plt.show()\n",
    "print(\"Histogram is not very effective at showing detail, so try a density plot instead\")\n",
    "fifa['wageEuro'].plot.density().set_xscale(\"log\")\n",
    "plt.show()\n"
   ]
  },
  {
   "cell_type": "code",
   "execution_count": 91,
   "metadata": {},
   "outputs": [
    {
     "name": "stdout",
     "output_type": "stream",
     "text": [
      "mean =  25.238313473877177\n",
      "median =  25.0\n",
      "Measures of spread\n",
      "range =  26\n",
      "quartiles =  0.25    21.0\n",
      "0.50    25.0\n",
      "0.75    29.0\n",
      "Name: Age, dtype: float64\n",
      "IQR =  8.0\n",
      "stdev =  4.675843227844768\n",
      "pop stdev =  4.675717172249349\n",
      "skewness =  0.373965397570364\n",
      "excess kurtosis =  -0.5315542516064391\n"
     ]
    },
    {
     "data": {
      "image/png": "[encoded data removed]",
      "text/plain": [
       "<Figure size 432x288 with 1 Axes>"
      ]
     },
     "metadata": {
      "needs_background": "light"
     },
     "output_type": "display_data"
    },
    {
     "data": {
      "image/png": "[encoded data removed]",
      "text/plain": [
       "<Figure size 432x288 with 1 Axes>"
      ]
     },
     "metadata": {
      "needs_background": "light"
     },
     "output_type": "display_data"
    },
    {
     "name": "stdout",
     "output_type": "stream",
     "text": [
      "Median and mean are close, at 25 and 25.2\n",
      "Slight skew (likely due to minimum age requirment perhaps)\n",
      "Shape is flatter than a normal distribution would be, moderate kurtosis\n"
     ]
    }
   ],
   "source": [
    "## statistics, histogram and boxplot of the 'Age' attribute of the players\n",
    "print(\"mean = \", fifa['Age'].mean())\n",
    "print(\"median = \", fifa['Age'].median())\n",
    "\n",
    "print(\"Measures of spread\")\n",
    "rangeAge = fifa['Age'].max()-fifa['Age'].min()\n",
    "print(\"range = \", fifa['Age'].max()-fifa['Age'].min())\n",
    "q = fifa['Age'].quantile([0.25,0.5,0.75])\n",
    "print(\"quartiles = \", q)\n",
    "print(\"IQR = \", fifa['Age'].quantile(0.75) - fifa['Age'].quantile(0.25))\n",
    "print(\"stdev = \", fifa['Age'].std())\n",
    "print(\"pop stdev = \", fifa['Age'].std(ddof = 0))\n",
    "\n",
    "print(\"skewness = \", fifa['Age'].skew())\n",
    "print(\"excess kurtosis = \", fifa['Age'].kurt())\n",
    "\n",
    "fifa['Age'].hist(bins = rangeAge)\n",
    "plt.show()\n",
    "fifa['Age'].plot.box()\n",
    "plt.show()\n",
    "print(\"Median and mean are close, at 25 and 25.2\")\n",
    "print(\"Slight skew (likely due to minimum age requirment perhaps)\")\n",
    "print(\"Shape is flatter than a normal distribution would be, moderate kurtosis\")"
   ]
  },
  {
   "cell_type": "code",
   "execution_count": 94,
   "metadata": {},
   "outputs": [
    {
     "name": "stdout",
     "output_type": "stream",
     "text": [
      "mean =  181.3351485415431\n",
      "median =  181.0\n",
      "Measures of spread\n",
      "range =  51\n",
      "quartiles =  0.25    177.0\n",
      "0.50    181.0\n",
      "0.75    186.0\n",
      "Name: HeightCM, dtype: float64\n",
      "IQR =  9.0\n",
      "stdev =  6.854579824273305\n",
      "pop stdev =  6.854395032333327\n",
      "skewness =  0.034590653959045724\n",
      "excess kurtosis =  -0.24736159317420503\n"
     ]
    },
    {
     "data": {
      "image/png": "[encoded data removed]",
      "text/plain": [
       "<Figure size 432x288 with 1 Axes>"
      ]
     },
     "metadata": {
      "needs_background": "light"
     },
     "output_type": "display_data"
    },
    {
     "data": {
      "image/png": "[encoded data removed]",
      "text/plain": [
       "<Figure size 432x288 with 1 Axes>"
      ]
     },
     "metadata": {
      "needs_background": "light"
     },
     "output_type": "display_data"
    },
    {
     "name": "stdout",
     "output_type": "stream",
     "text": [
      "Median and mean are close, at 181 and 181.3\n",
      "Hardly any skew, a noral distribution is evident\n",
      "Shape is slightly flatter than a normal distribution would be, low kurtosis\n"
     ]
    }
   ],
   "source": [
    "## statistics, histogram and boxplot of the 'HeightCM' attribute of the players\n",
    "print(\"mean = \", fifa['HeightCM'].mean())\n",
    "print(\"median = \", fifa['HeightCM'].median())\n",
    "\n",
    "print(\"Measures of spread\")\n",
    "rangeHeightCM = fifa['HeightCM'].max()-fifa['HeightCM'].min()\n",
    "print(\"range = \", fifa['HeightCM'].max()-fifa['HeightCM'].min())\n",
    "q = fifa['HeightCM'].quantile([0.25,0.5,0.75])\n",
    "print(\"quartiles = \", q)\n",
    "print(\"IQR = \", fifa['HeightCM'].quantile(0.75) - fifa['HeightCM'].quantile(0.25))\n",
    "print(\"stdev = \", fifa['HeightCM'].std())\n",
    "print(\"pop stdev = \", fifa['HeightCM'].std(ddof = 0))\n",
    "\n",
    "print(\"skewness = \", fifa['HeightCM'].skew())\n",
    "print(\"excess kurtosis = \", fifa['HeightCM'].kurt())\n",
    "\n",
    "fifa['HeightCM'].hist(bins = rangeHeightCM+1)\n",
    "plt.show()\n",
    "fifa['HeightCM'].plot.box()\n",
    "plt.show()\n",
    "print(\"Median and mean are close, at 181 and 181.3\")\n",
    "print(\"Hardly any skew, a noral distribution is evident\")\n",
    "print(\"Shape is slightly flatter than a normal distribution would be, low kurtosis\")"
   ]
  },
  {
   "cell_type": "code",
   "execution_count": 98,
   "metadata": {},
   "outputs": [
    {
     "name": "stdout",
     "output_type": "stream",
     "text": [
      "mean =  75.24175877500447\n",
      "median =  74.8\n",
      "Measures of spread\n",
      "range =  61.2\n",
      "quartiles =  0.25    70.0\n",
      "0.50    74.8\n",
      "0.75    79.7\n",
      "Name: WeightKg, dtype: float64\n",
      "IQR =  9.700000000000003\n",
      "stdev =  7.088573088147542\n",
      "pop stdev =  7.088381988006292\n",
      "skewness =  0.22415942780351972\n",
      "excess kurtosis =  0.04209683785949059\n"
     ]
    },
    {
     "data": {
      "image/png": "[encoded data removed]",
      "text/plain": [
       "<Figure size 432x288 with 1 Axes>"
      ]
     },
     "metadata": {
      "needs_background": "light"
     },
     "output_type": "display_data"
    },
    {
     "data": {
      "image/png": "[encoded data removed]",
      "text/plain": [
       "<Figure size 432x288 with 1 Axes>"
      ]
     },
     "metadata": {
      "needs_background": "light"
     },
     "output_type": "display_data"
    },
    {
     "name": "stdout",
     "output_type": "stream",
     "text": [
      "Median and mean are close, at 181 and 181.3\n",
      "very low skew, perhaps slightly biased to positive by small number of players with large weights\n",
      "Shape is slightly flatter than a normal distribution would be, low kurtosis\n"
     ]
    }
   ],
   "source": [
    "## statistics, histogram and boxplot of the 'WeightKg' attribute of the players\n",
    "print(\"mean = \", fifa['WeightKg'].mean())\n",
    "print(\"median = \", fifa['WeightKg'].median())\n",
    "\n",
    "print(\"Measures of spread\")\n",
    "print(\"range = \", fifa['WeightKg'].max()-fifa['WeightKg'].min())\n",
    "q = fifa['WeightKg'].quantile([0.25,0.5,0.75])\n",
    "print(\"quartiles = \", q)\n",
    "print(\"IQR = \", fifa['WeightKg'].quantile(0.75) - fifa['WeightKg'].quantile(0.25))\n",
    "print(\"stdev = \", fifa['WeightKg'].std())\n",
    "print(\"pop stdev = \", fifa['WeightKg'].std(ddof = 0))\n",
    "\n",
    "print(\"skewness = \", fifa['WeightKg'].skew())\n",
    "print(\"excess kurtosis = \", fifa['WeightKg'].kurt())\n",
    "\n",
    "fifa['WeightKg'].hist(bins = 100)\n",
    "plt.show()\n",
    "fifa['WeightKg'].plot.box()\n",
    "plt.show()\n",
    "print(\"Median and mean are close, at 181 and 181.3\")\n",
    "print(\"very low skew, perhaps slightly biased to positive by small number of players with large weights\")\n",
    "print(\"Shape is slightly flatter than a normal distribution would be, low kurtosis\")"
   ]
  },
  {
   "cell_type": "code",
   "execution_count": 99,
   "metadata": {},
   "outputs": [
    {
     "name": "stdout",
     "output_type": "stream",
     "text": [
      "  n =  18547\n",
      "Centre    10784\n",
      "Right      3505\n",
      "Left       2204\n",
      "Goal       2054\n",
      "Name: PreferredSide, dtype: int64\n",
      "Measures of central location\n",
      "mode =  0    Centre\n",
      "dtype: object\n"
     ]
    },
    {
     "data": {
      "image/png": "[encoded data removed]",
      "text/plain": [
       "<Figure size 432x288 with 1 Axes>"
      ]
     },
     "metadata": {
      "needs_background": "light"
     },
     "output_type": "display_data"
    },
    {
     "data": {
      "image/png": "[encoded data removed]",
      "text/plain": [
       "<Figure size 432x288 with 1 Axes>"
      ]
     },
     "metadata": {},
     "output_type": "display_data"
    },
    {
     "name": "stdout",
     "output_type": "stream",
     "text": [
      "Median and mean are close, at 181 and 181.3\n",
      "very low skew, perhaps slightly biased to positive by small number of players with large weights\n",
      "Shape is slightly flatter than a normal distribution would be, low kurtosis\n"
     ]
    }
   ],
   "source": [
    "## statistics, histogram and boxplot of the 'PreferredSide' attribute of the players\n",
    "print(\"  n = \", fifa['PreferredSide'].count())\n",
    "\n",
    "# we can count the number of occurences in each category\n",
    "counts = fifa['PreferredSide'].value_counts()\n",
    "print(counts)\n",
    "print(\"Measures of central location\")\n",
    "print(\"mode = \", fifa['PreferredSide'].mode())\n",
    "\n",
    "fifa['PreferredSide'].value_counts().plot.bar()\n",
    "plt.show()\n",
    "fifa['PreferredSide'].value_counts().plot.pie(autopct = '%1.1f')\n",
    "plt.show()\n",
    "print(\"Mode category is Centre, then righ slightly more favoured than Left\")\n",
    "print(\"Imbalance is noticeable but not extreme enough to affect machine learning later, due the data set having lots of data\")"
   ]
  },
  {
   "cell_type": "code",
   "execution_count": 101,
   "metadata": {},
   "outputs": [
    {
     "name": "stdout",
     "output_type": "stream",
     "text": [
      "  n =  18547\n",
      "Midfield    6184\n",
      "Defence     6154\n",
      "Striker     2427\n",
      "Goal        2054\n",
      "Wing        1582\n",
      "Forward      146\n",
      "Name: PreferredPosition, dtype: int64\n",
      "Measures of central location\n",
      "mode =  0    Midfield\n",
      "dtype: object\n"
     ]
    },
    {
     "data": {
      "image/png": "[encoded data removed]",
      "text/plain": [
       "<Figure size 432x288 with 1 Axes>"
      ]
     },
     "metadata": {
      "needs_background": "light"
     },
     "output_type": "display_data"
    },
    {
     "data": {
      "image/png": "[encoded data removed]",
      "text/plain": [
       "<Figure size 432x288 with 1 Axes>"
      ]
     },
     "metadata": {},
     "output_type": "display_data"
    },
    {
     "name": "stdout",
     "output_type": "stream",
     "text": [
      "Midfield and Defence seem most common poistions. Rather few catergorised as 'forwards'\n"
     ]
    }
   ],
   "source": [
    "## statistics, histogram and boxplot of the 'PreferredPosition' attribute of the players\n",
    "print(\"  n = \", fifa['PreferredPosition'].count())\n",
    "\n",
    "# we can count the number of occurences in each category\n",
    "counts = fifa['PreferredPosition'].value_counts()\n",
    "print(counts)\n",
    "print(\"Measures of central location\")\n",
    "print(\"mode = \", fifa['PreferredPosition'].mode())\n",
    "\n",
    "fifa['PreferredPosition'].value_counts().plot.bar()\n",
    "plt.show()\n",
    "fifa['PreferredPosition'].value_counts().plot.pie(autopct = '%1.1f')\n",
    "plt.show()\n",
    "print(\"Midfield and Defence seem most common poistions. Rather few catergorised as 'forwards'\")"
   ]
  },
  {
   "cell_type": "code",
   "execution_count": 104,
   "metadata": {},
   "outputs": [
    {
     "name": "stdout",
     "output_type": "stream",
     "text": [
      "  n =  18547\n",
      "1    17078\n",
      "2     1127\n",
      "3      288\n",
      "4       48\n",
      "5        6\n",
      "Name: IntlRep, dtype: int64\n",
      "Measures of central location\n",
      "mode =  0    1\n",
      "dtype: int64\n"
     ]
    },
    {
     "data": {
      "image/png": "[encoded data removed]",
      "text/plain": [
       "<Figure size 432x288 with 1 Axes>"
      ]
     },
     "metadata": {
      "needs_background": "light"
     },
     "output_type": "display_data"
    },
    {
     "data": {
      "image/png": "[encoded data removed]",
      "text/plain": [
       "<Figure size 432x288 with 1 Axes>"
      ]
     },
     "metadata": {},
     "output_type": "display_data"
    },
    {
     "data": {
      "image/png": "[encoded data removed]",
      "text/plain": [
       "<Figure size 432x288 with 1 Axes>"
      ]
     },
     "metadata": {
      "needs_background": "light"
     },
     "output_type": "display_data"
    },
    {
     "name": "stdout",
     "output_type": "stream",
     "text": [
      "This is an imbalanced distribution, vast majority are rep = 1\n",
      "This would be an issue if modelling to predict the higher reputation values of 4 and 5 especially\n",
      "Too few instances in data of very high reputation, and models would overfit to majority class unless measures are taken \n",
      "to correct imbalance using over or under-sampling techniques -- see later topics\n"
     ]
    }
   ],
   "source": [
    "## statistics, histogram and boxplot of the 'IntlRep' attribute of the players\n",
    "print(\"  n = \", fifa['IntlRep'].count())\n",
    "\n",
    "# we can count the number of occurences in each category\n",
    "counts = fifa['IntlRep'].value_counts()\n",
    "print(counts)\n",
    "print(\"Measures of central location\")\n",
    "print(\"mode = \", fifa['IntlRep'].mode())\n",
    "\n",
    "fifa['IntlRep'].value_counts().plot.bar()\n",
    "plt.show()\n",
    "fifa['IntlRep'].value_counts().plot.pie(autopct = '%1.1f')\n",
    "plt.show()\n",
    "fifa['IntlRep'].value_counts().plot.bar().set_yscale(\"log\")\n",
    "plt.show()\n",
    "print(\"This is an imbalanced distribution, vast majority are rep = 1\")\n",
    "print(\"This would be an issue if modelling to predict the higher reputation values of 4 and 5 especially\")\n",
    "print(\"Too few instances in data of very high reputation, and models would overfit to majority class unless measures are taken \")\n",
    "print(\"to correct imbalance using over or under-sampling techniques -- see later topics\")"
   ]
  },
  {
   "cell_type": "code",
   "execution_count": 106,
   "metadata": {},
   "outputs": [
    {
     "name": "stdout",
     "output_type": "stream",
     "text": [
      "  n =  18547\n",
      "Right    14171\n",
      "Left      4376\n",
      "Name: BestFoot, dtype: int64\n",
      "Measures of central location\n",
      "mode =  0    Right\n",
      "dtype: object\n"
     ]
    },
    {
     "data": {
      "image/png": "[encoded data removed]",
      "text/plain": [
       "<Figure size 432x288 with 1 Axes>"
      ]
     },
     "metadata": {
      "needs_background": "light"
     },
     "output_type": "display_data"
    },
    {
     "data": {
      "image/png": "[encoded data removed]",
      "text/plain": [
       "<Figure size 432x288 with 1 Axes>"
      ]
     },
     "metadata": {},
     "output_type": "display_data"
    },
    {
     "data": {
      "image/png": "[encoded data removed]",
      "text/plain": [
       "<Figure size 432x288 with 1 Axes>"
      ]
     },
     "metadata": {
      "needs_background": "light"
     },
     "output_type": "display_data"
    },
    {
     "name": "stdout",
     "output_type": "stream",
     "text": [
      "This is an imbalanced distribution, but still plenty of data instances of 'left' to train a model with\n",
      "Would be interesting to compare this proportion with general population, to see if left-footed players\n",
      "have an advantage or disadvantage in terms of reaching professional level of play\n"
     ]
    }
   ],
   "source": [
    "## statistics, histogram and boxplot of the 'BestFoot' attribute of the players\n",
    "print(\"  n = \", fifa['BestFoot'].count())\n",
    "\n",
    "# we can count the number of occurences in each category\n",
    "counts = fifa['BestFoot'].value_counts()\n",
    "print(counts)\n",
    "print(\"Measures of central location\")\n",
    "print(\"mode = \", fifa['BestFoot'].mode())\n",
    "\n",
    "fifa['BestFoot'].value_counts().plot.bar()\n",
    "plt.show()\n",
    "fifa['BestFoot'].value_counts().plot.pie(autopct = '%1.1f')\n",
    "plt.show()\n",
    "fifa['BestFoot'].value_counts().plot.bar().set_yscale(\"log\")\n",
    "plt.show()\n",
    "print(\"This is an imbalanced distribution, but still plenty of data instances of 'left' to train a model with\")\n",
    "print(\"Would be interesting to compare this proportion with general population, to see if left-footed players\")\n",
    "print(\"have an advantage or disadvantage in terms of reaching professional level of play\")"
   ]
  },
  {
   "cell_type": "code",
   "execution_count": null,
   "metadata": {},
   "outputs": [],
   "source": []
  },
  {
   "cell_type": "code",
   "execution_count": null,
   "metadata": {},
   "outputs": [],
   "source": []
  },
  {
   "cell_type": "markdown",
   "metadata": {},
   "source": [
    "## Task 3 Generate, visualise and analyse some random data"
   ]
  },
  {
   "cell_type": "code",
   "execution_count": 6,
   "metadata": {},
   "outputs": [],
   "source": [
    "from numpy.random import default_rng as RNG\n",
    "import pandas as pd \n",
    "import matplotlib.pyplot as plt\n",
    "rng = RNG()\n",
    "values = [\"small\", \"medium\", \"large\"]\n",
    "\n",
    "N = 10\n",
    "x = rng.normal(loc = 100, scale = 20, size = N)\n",
    "y = rng.uniform(low = -5, high = 5, size = N)\n",
    "z = rng.choice(values, size = N, replace=True)\n",
    "data = pd.DataFrame({'norm': x, 'unif': y, 'categ': z})\n"
   ]
  },
  {
   "cell_type": "code",
   "execution_count": 2,
   "metadata": {},
   "outputs": [
    {
     "data": {
      "text/html": [
       "<div>\n",
       "<style scoped>\n",
       "    .dataframe tbody tr th:only-of-type {\n",
       "        vertical-align: middle;\n",
       "    }\n",
       "\n",
       "    .dataframe tbody tr th {\n",
       "        vertical-align: top;\n",
       "    }\n",
       "\n",
       "    .dataframe thead th {\n",
       "        text-align: right;\n",
       "    }\n",
       "</style>\n",
       "<table border=\"1\" class=\"dataframe\">\n",
       "  <thead>\n",
       "    <tr style=\"text-align: right;\">\n",
       "      <th></th>\n",
       "      <th>norm</th>\n",
       "      <th>unif</th>\n",
       "    </tr>\n",
       "  </thead>\n",
       "  <tbody>\n",
       "    <tr>\n",
       "      <th>count</th>\n",
       "      <td>10.000000</td>\n",
       "      <td>10.000000</td>\n",
       "    </tr>\n",
       "    <tr>\n",
       "      <th>mean</th>\n",
       "      <td>103.552671</td>\n",
       "      <td>0.665657</td>\n",
       "    </tr>\n",
       "    <tr>\n",
       "      <th>std</th>\n",
       "      <td>27.426939</td>\n",
       "      <td>3.173712</td>\n",
       "    </tr>\n",
       "    <tr>\n",
       "      <th>min</th>\n",
       "      <td>61.988645</td>\n",
       "      <td>-4.325353</td>\n",
       "    </tr>\n",
       "    <tr>\n",
       "      <th>25%</th>\n",
       "      <td>79.703133</td>\n",
       "      <td>-0.532605</td>\n",
       "    </tr>\n",
       "    <tr>\n",
       "      <th>50%</th>\n",
       "      <td>105.236016</td>\n",
       "      <td>-0.304047</td>\n",
       "    </tr>\n",
       "    <tr>\n",
       "      <th>75%</th>\n",
       "      <td>128.730937</td>\n",
       "      <td>3.599511</td>\n",
       "    </tr>\n",
       "    <tr>\n",
       "      <th>max</th>\n",
       "      <td>138.519757</td>\n",
       "      <td>4.822273</td>\n",
       "    </tr>\n",
       "  </tbody>\n",
       "</table>\n",
       "</div>"
      ],
      "text/plain": [
       "             norm       unif\n",
       "count   10.000000  10.000000\n",
       "mean   103.552671   0.665657\n",
       "std     27.426939   3.173712\n",
       "min     61.988645  -4.325353\n",
       "25%     79.703133  -0.532605\n",
       "50%    105.236016  -0.304047\n",
       "75%    128.730937   3.599511\n",
       "max    138.519757   4.822273"
      ]
     },
     "execution_count": 2,
     "metadata": {},
     "output_type": "execute_result"
    }
   ],
   "source": [
    "data.describe()"
   ]
  },
  {
   "cell_type": "code",
   "execution_count": 7,
   "metadata": {},
   "outputs": [
    {
     "name": "stdout",
     "output_type": "stream",
     "text": [
      "Using pandas module functions\n",
      "  n =  10\n",
      "Measures of central location\n",
      "mean =  109.73159070124373\n",
      "median =  104.4171390015043\n",
      "Measures of spread\n",
      "range =  79.09668517635002\n",
      "quartiles =  0.25     88.308911\n",
      "0.50    104.417139\n",
      "0.75    125.164611\n",
      "Name: norm, dtype: float64\n",
      "IQR =  36.85569943770682\n",
      "stdev =  25.478323736792518\n",
      "pop stdev =  24.170860191419017\n",
      "skewness =  0.7387358022989712\n",
      "excess kurtosis =  -0.2184686231584454\n"
     ]
    },
    {
     "data": {
      "image/png": "[encoded data removed]",
      "text/plain": [
       "<Figure size 432x288 with 1 Axes>"
      ]
     },
     "metadata": {
      "needs_background": "light"
     },
     "output_type": "display_data"
    },
    {
     "data": {
      "image/png": "[encoded data removed]",
      "text/plain": [
       "<Figure size 432x288 with 1 Axes>"
      ]
     },
     "metadata": {
      "needs_background": "light"
     },
     "output_type": "display_data"
    }
   ],
   "source": [
    "## statistics, histogram and boxplot of the 'norm' column\n",
    "print(\"Using pandas module functions\")\n",
    "print(\"  n = \", data['norm'].count())\n",
    "print(\"Measures of central location\")\n",
    "print(\"mean = \", data['norm'].mean())\n",
    "print(\"median = \", data['norm'].median())\n",
    "\n",
    "print(\"Measures of spread\")\n",
    "print(\"range = \", data['norm'].max()-data['norm'].min())\n",
    "q = data['norm'].quantile([0.25,0.5,0.75])\n",
    "print(\"quartiles = \", q)\n",
    "print(\"IQR = \", data['norm'].quantile(0.75) - data['norm'].quantile(0.25))\n",
    "print(\"stdev = \", data['norm'].std())\n",
    "print(\"pop stdev = \", data['norm'].std(ddof = 0))\n",
    "\n",
    "# print(\"Measures of shape\")\n",
    "print(\"skewness = \", data['norm'].skew())\n",
    "print(\"excess kurtosis = \", data['norm'].kurt())\n",
    "\n",
    "data['norm'].hist(bins = 20)\n",
    "plt.show()\n",
    "data['norm'].plot.box()\n",
    "plt.show()"
   ]
  },
  {
   "cell_type": "code",
   "execution_count": 8,
   "metadata": {},
   "outputs": [
    {
     "name": "stdout",
     "output_type": "stream",
     "text": [
      "Using pandas module functions\n",
      "  n =  10\n",
      "Measures of central location\n",
      "mean =  0.5895000059717028\n",
      "median =  1.9265898497485168\n",
      "Measures of spread\n",
      "range =  6.462041147292983\n",
      "quartiles =  0.25   -0.709127\n",
      "0.50    1.926590\n",
      "0.75    2.232089\n",
      "Name: unif, dtype: float64\n",
      "IQR =  2.9412159126848705\n",
      "stdev =  2.2805843768199177\n",
      "pop stdev =  2.1635523080839953\n",
      "skewness =  -1.1843454065112518\n",
      "excess kurtosis =  0.29841658005796123\n"
     ]
    },
    {
     "data": {
      "image/png": "[encoded data removed]",
      "text/plain": [
       "<Figure size 432x288 with 1 Axes>"
      ]
     },
     "metadata": {
      "needs_background": "light"
     },
     "output_type": "display_data"
    },
    {
     "data": {
      "image/png": "[encoded data removed]",
      "text/plain": [
       "<Figure size 432x288 with 1 Axes>"
      ]
     },
     "metadata": {
      "needs_background": "light"
     },
     "output_type": "display_data"
    }
   ],
   "source": [
    "## statistics, histogram and boxplot of the 'unif' column\n",
    "print(\"Using pandas module functions\")\n",
    "print(\"  n = \", data['unif'].count())\n",
    "print(\"Measures of central location\")\n",
    "print(\"mean = \", data['unif'].mean())\n",
    "print(\"median = \", data['unif'].median())\n",
    "\n",
    "print(\"Measures of spread\")\n",
    "print(\"range = \", data['unif'].max()-data['unif'].min())\n",
    "q = data['unif'].quantile([0.25,0.5,0.75])\n",
    "print(\"quartiles = \", q)\n",
    "print(\"IQR = \", data['unif'].quantile(0.75) - data['unif'].quantile(0.25))\n",
    "print(\"stdev = \", data['unif'].std())\n",
    "print(\"pop stdev = \", data['unif'].std(ddof = 0))\n",
    "\n",
    "# print(\"Measures of shape\")\n",
    "print(\"skewness = \", data['unif'].skew())\n",
    "print(\"excess kurtosis = \", data['unif'].kurt())\n",
    "\n",
    "data['unif'].hist(bins = 20)\n",
    "plt.show()\n",
    "data['unif'].plot.box()\n",
    "plt.show()"
   ]
  },
  {
   "cell_type": "code",
   "execution_count": 12,
   "metadata": {},
   "outputs": [
    {
     "name": "stdout",
     "output_type": "stream",
     "text": [
      "Using pandas module functions\n",
      "  n =  10\n",
      "medium    6\n",
      "large     3\n",
      "small     1\n",
      "Name: categ, dtype: int64\n",
      "Measures of central location\n",
      "mode =  0    medium\n",
      "dtype: object\n"
     ]
    },
    {
     "data": {
      "image/png": "[encoded data removed]",
      "text/plain": [
       "<Figure size 432x288 with 1 Axes>"
      ]
     },
     "metadata": {
      "needs_background": "light"
     },
     "output_type": "display_data"
    },
    {
     "data": {
      "image/png": "[encoded data removed]",
      "text/plain": [
       "<Figure size 432x288 with 1 Axes>"
      ]
     },
     "metadata": {},
     "output_type": "display_data"
    }
   ],
   "source": [
    "# for a category, most of the statistics can't be calculated (a there are no numbers), and we need to visualise in a different way\n",
    "## statistics, histogram and boxplot of the 'unif' column\n",
    "print(\"Using pandas module functions\")\n",
    "print(\"  n = \", data['categ'].count())\n",
    "\n",
    "# we can count the number of occurences in each category\n",
    "counts = data['categ'].value_counts()\n",
    "print(counts)\n",
    "print(\"Measures of central location\")\n",
    "print(\"mode = \", data['categ'].mode())\n",
    "\n",
    "data['categ'].value_counts().plot.bar()\n",
    "plt.show()\n",
    "data['categ'].value_counts().plot.pie(autopct = '%1.1f')\n",
    "plt.show()"
   ]
  },
  {
   "cell_type": "markdown",
   "metadata": {},
   "source": [
    "(a)(ii) with rng = RNG() the seed i.e. starting point is randomly chosen each time we run the code block where x, y and z are set, so re-running and recalculating stats and plots will change each time.\n",
    "\n",
    "(b) & (c) setting rng = RND(seed = 1) ,or any other number in place of seed = 1, tells the random number generator to create the same psuedorandom number seqence again. So the stats and plots would be the same each me, for a given choice of seed. Varying the seed changes random number sequence of course. This is useful if we want to reproduce experiments."
   ]
  },
  {
   "cell_type": "markdown",
   "metadata": {},
   "source": [
    "(d) with larger values of N, more data is generated, and the distributions should get closer to smooth normal and uniform distributions, and statistics should get closer to the values set in the rng's"
   ]
  },
  {
   "cell_type": "markdown",
   "metadata": {},
   "source": [
    "(e) in rng.normal, loc is the centre and mean of the distribution, and scale is the standard deviation\n",
    "in rng.uniform, low and high are the lower and upper limits of the numbers generated."
   ]
  },
  {
   "cell_type": "code",
   "execution_count": null,
   "metadata": {},
   "outputs": [],
   "source": []
  },
  {
   "cell_type": "markdown",
   "metadata": {},
   "source": [
    "## Task 4 Interpreting Confusion Matrices"
   ]
  },
  {
   "cell_type": "code",
   "execution_count": 24,
   "metadata": {},
   "outputs": [
    {
     "data": {
      "text/html": [
       "<div>\n",
       "<style scoped>\n",
       "    .dataframe tbody tr th:only-of-type {\n",
       "        vertical-align: middle;\n",
       "    }\n",
       "\n",
       "    .dataframe tbody tr th {\n",
       "        vertical-align: top;\n",
       "    }\n",
       "\n",
       "    .dataframe thead th {\n",
       "        text-align: right;\n",
       "    }\n",
       "</style>\n",
       "<table border=\"1\" class=\"dataframe\">\n",
       "  <thead>\n",
       "    <tr style=\"text-align: right;\">\n",
       "      <th></th>\n",
       "      <th>Cat</th>\n",
       "      <th>Not Cat</th>\n",
       "    </tr>\n",
       "  </thead>\n",
       "  <tbody>\n",
       "    <tr>\n",
       "      <th>Cat Detected</th>\n",
       "      <td>452</td>\n",
       "      <td>23</td>\n",
       "    </tr>\n",
       "    <tr>\n",
       "      <th>No Cat Detected</th>\n",
       "      <td>48</td>\n",
       "      <td>477</td>\n",
       "    </tr>\n",
       "  </tbody>\n",
       "</table>\n",
       "</div>"
      ],
      "text/plain": [
       "                 Cat  Not Cat\n",
       "Cat Detected     452       23\n",
       "No Cat Detected   48      477"
      ]
     },
     "execution_count": 24,
     "metadata": {},
     "output_type": "execute_result"
    }
   ],
   "source": [
    "## Q 4(a)\n",
    "import pandas as pd\n",
    "# won't really need a data frame for the calculation, just to show the initial data\n",
    "q4a = pd.DataFrame({\"Cat\": [452,48], \"Not Cat\": [23,477]}, index = [\"Cat Detected\", \"No Cat Detected\"])\n",
    "q4a"
   ]
  },
  {
   "cell_type": "code",
   "execution_count": 25,
   "metadata": {},
   "outputs": [],
   "source": [
    "## Assign True Positive TP, True Negative TN, False Positive = FP, False Negative FN\n",
    "TP = 452 # Cat found when it is a cat\n",
    "TN = 477 # No Cat when it is isn't a cat\n",
    "FP = 23 # Cat Detedted when it wasn't a cat\n",
    "FN = 48 # No cat detecteded although it was a cat\n",
    "n = 1000 # total number of observations"
   ]
  },
  {
   "cell_type": "code",
   "execution_count": 26,
   "metadata": {},
   "outputs": [
    {
     "name": "stdout",
     "output_type": "stream",
     "text": [
      "accuracy =  0.929  \toverall proportion of correct identifications\n",
      "recall =  0.904  \tproportion of cats that were detected, = Prob(Identified | Cat)\n",
      "precision =  0.952  \tproportion of things identified as cats that were actually cats = Prob(Cat | Identified)\n",
      "for a balanced dataset, accuracy, recall and precision are often close\n"
     ]
    }
   ],
   "source": [
    "print(\"accuracy = \", (TP+TN)/n, \" \\toverall proportion of correct identifications\")\n",
    "print(\"recall = \", (TP)/(TP+FN), \" \\tproportion of cats that were detected, = Prob(Identified | Cat)\")\n",
    "print(\"precision = \", round((TP)/(TP+FP),3), \" \\tproportion of things identified as cats that were actually cats = Prob(Cat | Identified)\")\n",
    "print(\"for a balanced dataset, accuracy, recall and precision are often close\")"
   ]
  },
  {
   "cell_type": "code",
   "execution_count": 27,
   "metadata": {},
   "outputs": [
    {
     "data": {
      "text/html": [
       "<div>\n",
       "<style scoped>\n",
       "    .dataframe tbody tr th:only-of-type {\n",
       "        vertical-align: middle;\n",
       "    }\n",
       "\n",
       "    .dataframe tbody tr th {\n",
       "        vertical-align: top;\n",
       "    }\n",
       "\n",
       "    .dataframe thead th {\n",
       "        text-align: right;\n",
       "    }\n",
       "</style>\n",
       "<table border=\"1\" class=\"dataframe\">\n",
       "  <thead>\n",
       "    <tr style=\"text-align: right;\">\n",
       "      <th></th>\n",
       "      <th>Unicorn</th>\n",
       "      <th>Not Unicorn</th>\n",
       "    </tr>\n",
       "  </thead>\n",
       "  <tbody>\n",
       "    <tr>\n",
       "      <th>Unicorn Detected</th>\n",
       "      <td>47</td>\n",
       "      <td>38</td>\n",
       "    </tr>\n",
       "    <tr>\n",
       "      <th>No Unicorn Detected</th>\n",
       "      <td>3</td>\n",
       "      <td>912</td>\n",
       "    </tr>\n",
       "  </tbody>\n",
       "</table>\n",
       "</div>"
      ],
      "text/plain": [
       "                     Unicorn  Not Unicorn\n",
       "Unicorn Detected          47           38\n",
       "No Unicorn Detected        3          912"
      ]
     },
     "execution_count": 27,
     "metadata": {},
     "output_type": "execute_result"
    }
   ],
   "source": [
    "## Q 4(b)\n",
    "import pandas as pd\n",
    "# won't really need a data frame for the calculation, just to show the initial data\n",
    "q4b = pd.DataFrame({\"Unicorn\": [47,3], \"Not Unicorn\": [38,912]}, index = [\"Unicorn Detected\", \"No Unicorn Detected\"])\n",
    "q4b"
   ]
  },
  {
   "cell_type": "code",
   "execution_count": 28,
   "metadata": {},
   "outputs": [],
   "source": [
    "## Assign True Positive TP, True Negative TN, False Positive = FP, False Negative FN\n",
    "TP = 47 # Unicorn found when it is a Unicorn\n",
    "TN = 912 # No Unicorn when it is isn't a Unicorn\n",
    "FP = 38 # Unicorn Detedted when it wasn't a Unicorn\n",
    "FN = 3 # No Unicorn detecteded although it was a Unicorn\n",
    "n = 1000 # total number of observations"
   ]
  },
  {
   "cell_type": "code",
   "execution_count": 29,
   "metadata": {},
   "outputs": [
    {
     "name": "stdout",
     "output_type": "stream",
     "text": [
      "accuracy =  0.959  \toverall proportion of correct identifications\n",
      "recall =  0.94  \tproportion of unicorns that were detected, = Prob(Identified | Unicorn)\n",
      "precision =  0.553  \tproportion of things identified as unicorns that were actually unicorns = Prob(Unicorn | Identified)\n",
      "for an imbalanced dataset recall and/or precision are often significantly different from overall accuracy\n",
      "problem is often having an imperfect test for very rare events\n",
      "here the high recall tells us we are finding unicorns when they are there!\n",
      "but the low precision tells us we are getting high proportion of false positive unicorn sightings!\n"
     ]
    }
   ],
   "source": [
    "print(\"accuracy = \", (TP+TN)/n, \" \\toverall proportion of correct identifications\")\n",
    "print(\"recall = \", (TP)/(TP+FN), \" \\tproportion of unicorns that were detected, = Prob(Identified | Unicorn)\")\n",
    "print(\"precision = \", round((TP)/(TP+FP),3), \" \\tproportion of things identified as unicorns that were actually unicorns = Prob(Unicorn | Identified)\")\n",
    "print(\"for an imbalanced dataset recall and/or precision are often significantly different from overall accuracy\")\n",
    "print(\"problem is often having an imperfect test for very rare events\")\n",
    "print(\"here the high recall tells us we are finding unicorns when they are there!\")\n",
    "print(\"but the low precision tells us we are getting high proportion of false positive unicorn sightings!\")"
   ]
  }
 ],
 "metadata": {
  "kernelspec": {
   "display_name": "Python 3",
   "language": "python",
   "name": "python3"
  },
  "language_info": {
   "codemirror_mode": {
    "name": "ipython",
    "version": 3
   },
   "file_extension": ".py",
   "mimetype": "text/x-python",
   "name": "python",
   "nbconvert_exporter": "python",
   "pygments_lexer": "ipython3",
   "version": "3.8.3"
  }
 },
 "nbformat": 4,
 "nbformat_minor": 4
}
