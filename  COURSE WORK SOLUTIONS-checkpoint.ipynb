{
 "cells": [
  {
   "cell_type": "code",
   "execution_count": 38,
   "metadata": {},
   "outputs": [
    {
     "data": {
      "text/html": [
       "<div>\n",
       "<style scoped>\n",
       "    .dataframe tbody tr th:only-of-type {\n",
       "        vertical-align: middle;\n",
       "    }\n",
       "\n",
       "    .dataframe tbody tr th {\n",
       "        vertical-align: top;\n",
       "    }\n",
       "\n",
       "    .dataframe thead th {\n",
       "        text-align: right;\n",
       "    }\n",
       "</style>\n",
       "<table border=\"1\" class=\"dataframe\">\n",
       "  <thead>\n",
       "    <tr style=\"text-align: right;\">\n",
       "      <th></th>\n",
       "      <th>location</th>\n",
       "      <th>continent</th>\n",
       "      <th>date</th>\n",
       "      <th>cases_per_M</th>\n",
       "      <th>deaths_per_M</th>\n",
       "      <th>stringency_index</th>\n",
       "      <th>population_density</th>\n",
       "      <th>median_age</th>\n",
       "      <th>aged_65_older</th>\n",
       "      <th>aged_70_older</th>\n",
       "      <th>...</th>\n",
       "      <th>med_R</th>\n",
       "      <th>max_R</th>\n",
       "      <th>workplace_closures</th>\n",
       "      <th>contact_tracing</th>\n",
       "      <th>testing_policy</th>\n",
       "      <th>cancel_public_events</th>\n",
       "      <th>facial_coverings</th>\n",
       "      <th>international_travel_controls</th>\n",
       "      <th>school_closures</th>\n",
       "      <th>mortality</th>\n",
       "    </tr>\n",
       "  </thead>\n",
       "  <tbody>\n",
       "    <tr>\n",
       "      <th>0</th>\n",
       "      <td>Afghanistan</td>\n",
       "      <td>Asia</td>\n",
       "      <td>May-20</td>\n",
       "      <td>390.641</td>\n",
       "      <td>6.602</td>\n",
       "      <td>84.26</td>\n",
       "      <td>54.422</td>\n",
       "      <td>18.6</td>\n",
       "      <td>2.581</td>\n",
       "      <td>1.337</td>\n",
       "      <td>...</td>\n",
       "      <td>1.405</td>\n",
       "      <td>1.50</td>\n",
       "      <td>None</td>\n",
       "      <td>Limited</td>\n",
       "      <td>IfSymptomatic</td>\n",
       "      <td>NoMeasures</td>\n",
       "      <td>Strict</td>\n",
       "      <td>Screening</td>\n",
       "      <td>Minimal</td>\n",
       "      <td>Low</td>\n",
       "    </tr>\n",
       "    <tr>\n",
       "      <th>1</th>\n",
       "      <td>Albania</td>\n",
       "      <td>Europe</td>\n",
       "      <td>May-20</td>\n",
       "      <td>394.398</td>\n",
       "      <td>11.120</td>\n",
       "      <td>86.11</td>\n",
       "      <td>104.871</td>\n",
       "      <td>38.0</td>\n",
       "      <td>13.188</td>\n",
       "      <td>8.643</td>\n",
       "      <td>...</td>\n",
       "      <td>1.040</td>\n",
       "      <td>1.45</td>\n",
       "      <td>Strict</td>\n",
       "      <td>Comprehensive</td>\n",
       "      <td>IfSymptomatic</td>\n",
       "      <td>Ban</td>\n",
       "      <td>Strict</td>\n",
       "      <td>Quarantine</td>\n",
       "      <td>Some</td>\n",
       "      <td>Low</td>\n",
       "    </tr>\n",
       "    <tr>\n",
       "      <th>2</th>\n",
       "      <td>Algeria</td>\n",
       "      <td>Africa</td>\n",
       "      <td>May-20</td>\n",
       "      <td>214.202</td>\n",
       "      <td>14.868</td>\n",
       "      <td>76.85</td>\n",
       "      <td>17.348</td>\n",
       "      <td>29.1</td>\n",
       "      <td>6.211</td>\n",
       "      <td>3.857</td>\n",
       "      <td>...</td>\n",
       "      <td>1.110</td>\n",
       "      <td>2.02</td>\n",
       "      <td>Strict</td>\n",
       "      <td>Comprehensive</td>\n",
       "      <td>IfSymptomatic</td>\n",
       "      <td>Avoid</td>\n",
       "      <td>Strict</td>\n",
       "      <td>BorderClosure</td>\n",
       "      <td>Some</td>\n",
       "      <td>Low</td>\n",
       "    </tr>\n",
       "    <tr>\n",
       "      <th>3</th>\n",
       "      <td>Argentina</td>\n",
       "      <td>South America</td>\n",
       "      <td>May-20</td>\n",
       "      <td>372.823</td>\n",
       "      <td>11.904</td>\n",
       "      <td>90.74</td>\n",
       "      <td>16.177</td>\n",
       "      <td>31.9</td>\n",
       "      <td>11.198</td>\n",
       "      <td>7.441</td>\n",
       "      <td>...</td>\n",
       "      <td>1.345</td>\n",
       "      <td>1.83</td>\n",
       "      <td>Strict</td>\n",
       "      <td>Comprehensive</td>\n",
       "      <td>IfSymptomatic</td>\n",
       "      <td>Ban</td>\n",
       "      <td>Strict</td>\n",
       "      <td>BorderClosure</td>\n",
       "      <td>Required</td>\n",
       "      <td>Low</td>\n",
       "    </tr>\n",
       "    <tr>\n",
       "      <th>4</th>\n",
       "      <td>Australia</td>\n",
       "      <td>Oceania</td>\n",
       "      <td>May-20</td>\n",
       "      <td>281.374</td>\n",
       "      <td>4.000</td>\n",
       "      <td>63.43</td>\n",
       "      <td>3.202</td>\n",
       "      <td>37.9</td>\n",
       "      <td>15.504</td>\n",
       "      <td>10.129</td>\n",
       "      <td>...</td>\n",
       "      <td>0.785</td>\n",
       "      <td>2.40</td>\n",
       "      <td>Strict</td>\n",
       "      <td>Comprehensive</td>\n",
       "      <td>IfSymptomatic</td>\n",
       "      <td>Ban</td>\n",
       "      <td>Recommended</td>\n",
       "      <td>BorderClosure</td>\n",
       "      <td>Some</td>\n",
       "      <td>Low</td>\n",
       "    </tr>\n",
       "    <tr>\n",
       "      <th>...</th>\n",
       "      <td>...</td>\n",
       "      <td>...</td>\n",
       "      <td>...</td>\n",
       "      <td>...</td>\n",
       "      <td>...</td>\n",
       "      <td>...</td>\n",
       "      <td>...</td>\n",
       "      <td>...</td>\n",
       "      <td>...</td>\n",
       "      <td>...</td>\n",
       "      <td>...</td>\n",
       "      <td>...</td>\n",
       "      <td>...</td>\n",
       "      <td>...</td>\n",
       "      <td>...</td>\n",
       "      <td>...</td>\n",
       "      <td>...</td>\n",
       "      <td>...</td>\n",
       "      <td>...</td>\n",
       "      <td>...</td>\n",
       "      <td>...</td>\n",
       "    </tr>\n",
       "    <tr>\n",
       "      <th>520</th>\n",
       "      <td>Uzbekistan</td>\n",
       "      <td>Asia</td>\n",
       "      <td>Feb-21</td>\n",
       "      <td>228.539</td>\n",
       "      <td>0.358</td>\n",
       "      <td>37.04</td>\n",
       "      <td>76.134</td>\n",
       "      <td>28.2</td>\n",
       "      <td>4.469</td>\n",
       "      <td>2.873</td>\n",
       "      <td>...</td>\n",
       "      <td>0.930</td>\n",
       "      <td>1.23</td>\n",
       "      <td>Some</td>\n",
       "      <td>Comprehensive</td>\n",
       "      <td>IfSymptomatic</td>\n",
       "      <td>Avoid</td>\n",
       "      <td>Strict</td>\n",
       "      <td>Ban</td>\n",
       "      <td>Some</td>\n",
       "      <td>Low</td>\n",
       "    </tr>\n",
       "    <tr>\n",
       "      <th>521</th>\n",
       "      <td>Venezuela</td>\n",
       "      <td>South America</td>\n",
       "      <td>Feb-21</td>\n",
       "      <td>1569.633</td>\n",
       "      <td>19.482</td>\n",
       "      <td>84.26</td>\n",
       "      <td>36.253</td>\n",
       "      <td>29.0</td>\n",
       "      <td>6.614</td>\n",
       "      <td>3.915</td>\n",
       "      <td>...</td>\n",
       "      <td>1.000</td>\n",
       "      <td>1.18</td>\n",
       "      <td>Strict</td>\n",
       "      <td>None</td>\n",
       "      <td>Public</td>\n",
       "      <td>Ban</td>\n",
       "      <td>Strict</td>\n",
       "      <td>BorderClosure</td>\n",
       "      <td>Required</td>\n",
       "      <td>Low</td>\n",
       "    </tr>\n",
       "    <tr>\n",
       "      <th>522</th>\n",
       "      <td>Yemen</td>\n",
       "      <td>Asia</td>\n",
       "      <td>Feb-21</td>\n",
       "      <td>29.907</td>\n",
       "      <td>3.420</td>\n",
       "      <td>25.00</td>\n",
       "      <td>53.508</td>\n",
       "      <td>20.3</td>\n",
       "      <td>2.922</td>\n",
       "      <td>1.583</td>\n",
       "      <td>...</td>\n",
       "      <td>1.090</td>\n",
       "      <td>1.72</td>\n",
       "      <td>None</td>\n",
       "      <td>None</td>\n",
       "      <td>None</td>\n",
       "      <td>NoMeasures</td>\n",
       "      <td>NoPolicy</td>\n",
       "      <td>BorderClosure</td>\n",
       "      <td>Minimal</td>\n",
       "      <td>Low</td>\n",
       "    </tr>\n",
       "    <tr>\n",
       "      <th>523</th>\n",
       "      <td>Zambia</td>\n",
       "      <td>Africa</td>\n",
       "      <td>Feb-21</td>\n",
       "      <td>3676.739</td>\n",
       "      <td>44.060</td>\n",
       "      <td>36.11</td>\n",
       "      <td>22.995</td>\n",
       "      <td>17.7</td>\n",
       "      <td>2.480</td>\n",
       "      <td>1.542</td>\n",
       "      <td>...</td>\n",
       "      <td>1.170</td>\n",
       "      <td>1.39</td>\n",
       "      <td>Strict</td>\n",
       "      <td>Comprehensive</td>\n",
       "      <td>IfSymptomatic</td>\n",
       "      <td>Avoid</td>\n",
       "      <td>Strict</td>\n",
       "      <td>Quarantine</td>\n",
       "      <td>Some</td>\n",
       "      <td>Low</td>\n",
       "    </tr>\n",
       "    <tr>\n",
       "      <th>524</th>\n",
       "      <td>Zimbabwe</td>\n",
       "      <td>Africa</td>\n",
       "      <td>Feb-21</td>\n",
       "      <td>1788.679</td>\n",
       "      <td>82.823</td>\n",
       "      <td>87.96</td>\n",
       "      <td>42.729</td>\n",
       "      <td>19.6</td>\n",
       "      <td>2.822</td>\n",
       "      <td>1.882</td>\n",
       "      <td>...</td>\n",
       "      <td>0.940</td>\n",
       "      <td>1.47</td>\n",
       "      <td>Some</td>\n",
       "      <td>Limited</td>\n",
       "      <td>IfSymptomatic</td>\n",
       "      <td>Ban</td>\n",
       "      <td>Strict</td>\n",
       "      <td>Quarantine</td>\n",
       "      <td>Some</td>\n",
       "      <td>High</td>\n",
       "    </tr>\n",
       "  </tbody>\n",
       "</table>\n",
       "<p>525 rows × 23 columns</p>\n",
       "</div>"
      ],
      "text/plain": [
       "        location      continent    date  cases_per_M  deaths_per_M  \\\n",
       "0    Afghanistan           Asia  May-20      390.641         6.602   \n",
       "1        Albania         Europe  May-20      394.398        11.120   \n",
       "2        Algeria         Africa  May-20      214.202        14.868   \n",
       "3      Argentina  South America  May-20      372.823        11.904   \n",
       "4      Australia        Oceania  May-20      281.374         4.000   \n",
       "..           ...            ...     ...          ...           ...   \n",
       "520   Uzbekistan           Asia  Feb-21      228.539         0.358   \n",
       "521    Venezuela  South America  Feb-21     1569.633        19.482   \n",
       "522        Yemen           Asia  Feb-21       29.907         3.420   \n",
       "523       Zambia         Africa  Feb-21     3676.739        44.060   \n",
       "524     Zimbabwe         Africa  Feb-21     1788.679        82.823   \n",
       "\n",
       "     stringency_index  population_density  median_age  aged_65_older  \\\n",
       "0               84.26              54.422        18.6          2.581   \n",
       "1               86.11             104.871        38.0         13.188   \n",
       "2               76.85              17.348        29.1          6.211   \n",
       "3               90.74              16.177        31.9         11.198   \n",
       "4               63.43               3.202        37.9         15.504   \n",
       "..                ...                 ...         ...            ...   \n",
       "520             37.04              76.134        28.2          4.469   \n",
       "521             84.26              36.253        29.0          6.614   \n",
       "522             25.00              53.508        20.3          2.922   \n",
       "523             36.11              22.995        17.7          2.480   \n",
       "524             87.96              42.729        19.6          2.822   \n",
       "\n",
       "     aged_70_older  ...  med_R  max_R  workplace_closures  contact_tracing  \\\n",
       "0            1.337  ...  1.405   1.50                None          Limited   \n",
       "1            8.643  ...  1.040   1.45              Strict    Comprehensive   \n",
       "2            3.857  ...  1.110   2.02              Strict    Comprehensive   \n",
       "3            7.441  ...  1.345   1.83              Strict    Comprehensive   \n",
       "4           10.129  ...  0.785   2.40              Strict    Comprehensive   \n",
       "..             ...  ...    ...    ...                 ...              ...   \n",
       "520          2.873  ...  0.930   1.23                Some    Comprehensive   \n",
       "521          3.915  ...  1.000   1.18              Strict             None   \n",
       "522          1.583  ...  1.090   1.72                None             None   \n",
       "523          1.542  ...  1.170   1.39              Strict    Comprehensive   \n",
       "524          1.882  ...  0.940   1.47                Some          Limited   \n",
       "\n",
       "     testing_policy cancel_public_events facial_coverings  \\\n",
       "0     IfSymptomatic           NoMeasures           Strict   \n",
       "1     IfSymptomatic                  Ban           Strict   \n",
       "2     IfSymptomatic                Avoid           Strict   \n",
       "3     IfSymptomatic                  Ban           Strict   \n",
       "4     IfSymptomatic                  Ban      Recommended   \n",
       "..              ...                  ...              ...   \n",
       "520   IfSymptomatic                Avoid           Strict   \n",
       "521          Public                  Ban           Strict   \n",
       "522            None           NoMeasures         NoPolicy   \n",
       "523   IfSymptomatic                Avoid           Strict   \n",
       "524   IfSymptomatic                  Ban           Strict   \n",
       "\n",
       "    international_travel_controls school_closures mortality  \n",
       "0                       Screening         Minimal       Low  \n",
       "1                      Quarantine            Some       Low  \n",
       "2                   BorderClosure            Some       Low  \n",
       "3                   BorderClosure        Required       Low  \n",
       "4                   BorderClosure            Some       Low  \n",
       "..                            ...             ...       ...  \n",
       "520                           Ban            Some       Low  \n",
       "521                 BorderClosure        Required       Low  \n",
       "522                 BorderClosure         Minimal       Low  \n",
       "523                    Quarantine            Some       Low  \n",
       "524                    Quarantine            Some      High  \n",
       "\n",
       "[525 rows x 23 columns]"
      ]
     },
     "execution_count": 38,
     "metadata": {},
     "output_type": "execute_result"
    }
   ],
   "source": [
    "import pandas as pd # Importing pandas library\n",
    "import matplotlib.pyplot as plt\n",
    "\n",
    "covid = pd.read_csv (r\"C:\\Users\\chinw\\Downloads\\covid.csv\") # loading dataset\n",
    "# Below is dataset\n",
    "covid"
   ]
  },
  {
   "cell_type": "code",
   "execution_count": 4,
   "metadata": {},
   "outputs": [
    {
     "name": "stdout",
     "output_type": "stream",
     "text": [
      "<class 'pandas.core.frame.DataFrame'>\n",
      "RangeIndex: 525 entries, 0 to 524\n",
      "Data columns (total 23 columns):\n",
      " #   Column                         Non-Null Count  Dtype  \n",
      "---  ------                         --------------  -----  \n",
      " 0   location                       525 non-null    object \n",
      " 1   continent                      525 non-null    object \n",
      " 2   date                           525 non-null    object \n",
      " 3   cases_per_M                    525 non-null    float64\n",
      " 4   deaths_per_M                   525 non-null    float64\n",
      " 5   stringency_index               525 non-null    float64\n",
      " 6   population_density             525 non-null    float64\n",
      " 7   median_age                     525 non-null    float64\n",
      " 8   aged_65_older                  525 non-null    float64\n",
      " 9   aged_70_older                  525 non-null    float64\n",
      " 10  gdp_per_capita                 525 non-null    float64\n",
      " 11  life_expectancy                525 non-null    float64\n",
      " 12  human_development_index        525 non-null    float64\n",
      " 13  med_R                          525 non-null    float64\n",
      " 14  max_R                          525 non-null    float64\n",
      " 15  workplace_closures             525 non-null    object \n",
      " 16  contact_tracing                525 non-null    object \n",
      " 17  testing_policy                 525 non-null    object \n",
      " 18  cancel_public_events           525 non-null    object \n",
      " 19  facial_coverings               525 non-null    object \n",
      " 20  international_travel_controls  525 non-null    object \n",
      " 21  school_closures                525 non-null    object \n",
      " 22  mortality                      525 non-null    object \n",
      "dtypes: float64(12), object(11)\n",
      "memory usage: 94.5+ KB\n"
     ]
    }
   ],
   "source": [
    "#Information about the dataframe. This to check that the columns and rows are complete, there is 525 rows and 23 columns. \n",
    "covid.info()"
   ]
  },
  {
   "cell_type": "code",
   "execution_count": 5,
   "metadata": {},
   "outputs": [
    {
     "data": {
      "text/html": [
       "<div>\n",
       "<style scoped>\n",
       "    .dataframe tbody tr th:only-of-type {\n",
       "        vertical-align: middle;\n",
       "    }\n",
       "\n",
       "    .dataframe tbody tr th {\n",
       "        vertical-align: top;\n",
       "    }\n",
       "\n",
       "    .dataframe thead th {\n",
       "        text-align: right;\n",
       "    }\n",
       "</style>\n",
       "<table border=\"1\" class=\"dataframe\">\n",
       "  <thead>\n",
       "    <tr style=\"text-align: right;\">\n",
       "      <th></th>\n",
       "      <th>cases_per_M</th>\n",
       "      <th>deaths_per_M</th>\n",
       "      <th>stringency_index</th>\n",
       "      <th>population_density</th>\n",
       "      <th>median_age</th>\n",
       "      <th>aged_65_older</th>\n",
       "      <th>aged_70_older</th>\n",
       "      <th>gdp_per_capita</th>\n",
       "      <th>life_expectancy</th>\n",
       "      <th>human_development_index</th>\n",
       "      <th>med_R</th>\n",
       "      <th>max_R</th>\n",
       "    </tr>\n",
       "  </thead>\n",
       "  <tbody>\n",
       "    <tr>\n",
       "      <th>count</th>\n",
       "      <td>525.000000</td>\n",
       "      <td>525.000000</td>\n",
       "      <td>525.000000</td>\n",
       "      <td>525.000000</td>\n",
       "      <td>525.000000</td>\n",
       "      <td>525.000000</td>\n",
       "      <td>525.000000</td>\n",
       "      <td>525.000000</td>\n",
       "      <td>525.000000</td>\n",
       "      <td>525.000000</td>\n",
       "      <td>525.000000</td>\n",
       "      <td>525.000000</td>\n",
       "    </tr>\n",
       "    <tr>\n",
       "      <th>mean</th>\n",
       "      <td>7117.880067</td>\n",
       "      <td>134.289072</td>\n",
       "      <td>61.992114</td>\n",
       "      <td>209.748581</td>\n",
       "      <td>31.866286</td>\n",
       "      <td>9.621537</td>\n",
       "      <td>6.172638</td>\n",
       "      <td>21522.861310</td>\n",
       "      <td>74.123848</td>\n",
       "      <td>0.750067</td>\n",
       "      <td>1.039219</td>\n",
       "      <td>1.443829</td>\n",
       "    </tr>\n",
       "    <tr>\n",
       "      <th>std</th>\n",
       "      <td>11393.095144</td>\n",
       "      <td>227.239874</td>\n",
       "      <td>18.444780</td>\n",
       "      <td>720.683293</td>\n",
       "      <td>8.933426</td>\n",
       "      <td>6.490335</td>\n",
       "      <td>4.477462</td>\n",
       "      <td>20755.375754</td>\n",
       "      <td>6.828642</td>\n",
       "      <td>0.147850</td>\n",
       "      <td>0.220853</td>\n",
       "      <td>0.579495</td>\n",
       "    </tr>\n",
       "    <tr>\n",
       "      <th>min</th>\n",
       "      <td>2.076000</td>\n",
       "      <td>0.011000</td>\n",
       "      <td>8.330000</td>\n",
       "      <td>1.980000</td>\n",
       "      <td>15.100000</td>\n",
       "      <td>1.144000</td>\n",
       "      <td>0.526000</td>\n",
       "      <td>661.240000</td>\n",
       "      <td>53.280000</td>\n",
       "      <td>0.394000</td>\n",
       "      <td>0.000000</td>\n",
       "      <td>0.010000</td>\n",
       "    </tr>\n",
       "    <tr>\n",
       "      <th>25%</th>\n",
       "      <td>322.346000</td>\n",
       "      <td>5.510000</td>\n",
       "      <td>50.000000</td>\n",
       "      <td>36.253000</td>\n",
       "      <td>25.200000</td>\n",
       "      <td>3.941000</td>\n",
       "      <td>2.361000</td>\n",
       "      <td>6171.884000</td>\n",
       "      <td>70.780000</td>\n",
       "      <td>0.665000</td>\n",
       "      <td>0.950000</td>\n",
       "      <td>1.160000</td>\n",
       "    </tr>\n",
       "    <tr>\n",
       "      <th>50%</th>\n",
       "      <td>1943.832000</td>\n",
       "      <td>28.204000</td>\n",
       "      <td>64.350000</td>\n",
       "      <td>81.721000</td>\n",
       "      <td>31.600000</td>\n",
       "      <td>7.104000</td>\n",
       "      <td>4.455000</td>\n",
       "      <td>15524.995000</td>\n",
       "      <td>75.270000</td>\n",
       "      <td>0.777000</td>\n",
       "      <td>1.050000</td>\n",
       "      <td>1.300000</td>\n",
       "    </tr>\n",
       "    <tr>\n",
       "      <th>75%</th>\n",
       "      <td>8856.786000</td>\n",
       "      <td>153.240000</td>\n",
       "      <td>76.850000</td>\n",
       "      <td>147.674000</td>\n",
       "      <td>40.300000</td>\n",
       "      <td>15.070000</td>\n",
       "      <td>10.129000</td>\n",
       "      <td>32415.132000</td>\n",
       "      <td>78.860000</td>\n",
       "      <td>0.866000</td>\n",
       "      <td>1.150000</td>\n",
       "      <td>1.550000</td>\n",
       "    </tr>\n",
       "    <tr>\n",
       "      <th>max</th>\n",
       "      <td>83076.430000</td>\n",
       "      <td>1434.497000</td>\n",
       "      <td>100.000000</td>\n",
       "      <td>7915.731000</td>\n",
       "      <td>48.200000</td>\n",
       "      <td>27.049000</td>\n",
       "      <td>18.493000</td>\n",
       "      <td>116935.600000</td>\n",
       "      <td>84.630000</td>\n",
       "      <td>0.957000</td>\n",
       "      <td>1.800000</td>\n",
       "      <td>6.150000</td>\n",
       "    </tr>\n",
       "  </tbody>\n",
       "</table>\n",
       "</div>"
      ],
      "text/plain": [
       "        cases_per_M  deaths_per_M  stringency_index  population_density  \\\n",
       "count    525.000000    525.000000        525.000000          525.000000   \n",
       "mean    7117.880067    134.289072         61.992114          209.748581   \n",
       "std    11393.095144    227.239874         18.444780          720.683293   \n",
       "min        2.076000      0.011000          8.330000            1.980000   \n",
       "25%      322.346000      5.510000         50.000000           36.253000   \n",
       "50%     1943.832000     28.204000         64.350000           81.721000   \n",
       "75%     8856.786000    153.240000         76.850000          147.674000   \n",
       "max    83076.430000   1434.497000        100.000000         7915.731000   \n",
       "\n",
       "       median_age  aged_65_older  aged_70_older  gdp_per_capita  \\\n",
       "count  525.000000     525.000000     525.000000      525.000000   \n",
       "mean    31.866286       9.621537       6.172638    21522.861310   \n",
       "std      8.933426       6.490335       4.477462    20755.375754   \n",
       "min     15.100000       1.144000       0.526000      661.240000   \n",
       "25%     25.200000       3.941000       2.361000     6171.884000   \n",
       "50%     31.600000       7.104000       4.455000    15524.995000   \n",
       "75%     40.300000      15.070000      10.129000    32415.132000   \n",
       "max     48.200000      27.049000      18.493000   116935.600000   \n",
       "\n",
       "       life_expectancy  human_development_index       med_R       max_R  \n",
       "count       525.000000               525.000000  525.000000  525.000000  \n",
       "mean         74.123848                 0.750067    1.039219    1.443829  \n",
       "std           6.828642                 0.147850    0.220853    0.579495  \n",
       "min          53.280000                 0.394000    0.000000    0.010000  \n",
       "25%          70.780000                 0.665000    0.950000    1.160000  \n",
       "50%          75.270000                 0.777000    1.050000    1.300000  \n",
       "75%          78.860000                 0.866000    1.150000    1.550000  \n",
       "max          84.630000                 0.957000    1.800000    6.150000  "
      ]
     },
     "execution_count": 5,
     "metadata": {},
     "output_type": "execute_result"
    }
   ],
   "source": [
    "# Summary stats of all numeric columns. Below are the statitics of quantitative(numerical) data in the dataset.\n",
    "covid.describe()\n"
   ]
  },
  {
   "cell_type": "markdown",
   "metadata": {},
   "source": [
    "# Statistics of individual variables:\n",
    "\n",
    "    1.\n",
    "    "
   ]
  },
  {
   "cell_type": "code",
   "execution_count": 2,
   "metadata": {},
   "outputs": [
    {
     "data": {
      "text/html": [
       "<div>\n",
       "<style scoped>\n",
       "    .dataframe tbody tr th:only-of-type {\n",
       "        vertical-align: middle;\n",
       "    }\n",
       "\n",
       "    .dataframe tbody tr th {\n",
       "        vertical-align: top;\n",
       "    }\n",
       "\n",
       "    .dataframe thead th {\n",
       "        text-align: right;\n",
       "    }\n",
       "</style>\n",
       "<table border=\"1\" class=\"dataframe\">\n",
       "  <thead>\n",
       "    <tr style=\"text-align: right;\">\n",
       "      <th></th>\n",
       "      <th>cases_per_M</th>\n",
       "    </tr>\n",
       "  </thead>\n",
       "  <tbody>\n",
       "    <tr>\n",
       "      <th>count</th>\n",
       "      <td>525.000000</td>\n",
       "    </tr>\n",
       "    <tr>\n",
       "      <th>mean</th>\n",
       "      <td>7117.880067</td>\n",
       "    </tr>\n",
       "    <tr>\n",
       "      <th>std</th>\n",
       "      <td>11393.095144</td>\n",
       "    </tr>\n",
       "    <tr>\n",
       "      <th>min</th>\n",
       "      <td>2.076000</td>\n",
       "    </tr>\n",
       "    <tr>\n",
       "      <th>25%</th>\n",
       "      <td>322.346000</td>\n",
       "    </tr>\n",
       "    <tr>\n",
       "      <th>50%</th>\n",
       "      <td>1943.832000</td>\n",
       "    </tr>\n",
       "    <tr>\n",
       "      <th>75%</th>\n",
       "      <td>8856.786000</td>\n",
       "    </tr>\n",
       "    <tr>\n",
       "      <th>max</th>\n",
       "      <td>83076.430000</td>\n",
       "    </tr>\n",
       "  </tbody>\n",
       "</table>\n",
       "</div>"
      ],
      "text/plain": [
       "        cases_per_M\n",
       "count    525.000000\n",
       "mean    7117.880067\n",
       "std    11393.095144\n",
       "min        2.076000\n",
       "25%      322.346000\n",
       "50%     1943.832000\n",
       "75%     8856.786000\n",
       "max    83076.430000"
      ]
     },
     "execution_count": 2,
     "metadata": {},
     "output_type": "execute_result"
    }
   ],
   "source": [
    "#  I can use the 'describe' function to calculate the statistic of 'cases_per_M' column of the dataset.\n",
    "covid[['cases_per_M']].describe()"
   ]
  },
  {
   "cell_type": "code",
   "execution_count": 9,
   "metadata": {},
   "outputs": [
    {
     "name": "stdout",
     "output_type": "stream",
     "text": [
      "Using pandas module functions\n",
      "  n =  525\n",
      "Measures of central location\n",
      "Mean =  7117.880066666669\n",
      "Median =  1943.832\n",
      "Measures of spread\n",
      "range =  83074.35399999999\n",
      "quartiles =  0.25     322.346\n",
      "0.50    1943.832\n",
      "0.75    8856.786\n",
      "Name: cases_per_M, dtype: float64\n",
      "IQR =  8534.44\n",
      "stdev =  11393.095143653863\n",
      "pop stdev =  11382.239404987053\n",
      "Skewness =  2.4961269965529684\n",
      "Excess kurtosis =  7.527139760950313\n"
     ]
    },
    {
     "data": {
      "image/png": "[encoded data removed]",
      "text/plain": [
       "<Figure size 432x288 with 1 Axes>"
      ]
     },
     "metadata": {
      "needs_background": "light"
     },
     "output_type": "display_data"
    },
    {
     "data": {
      "image/png": "[encoded data removed]",
      "text/plain": [
       "<Figure size 432x288 with 1 Axes>"
      ]
     },
     "metadata": {
      "needs_background": "light"
     },
     "output_type": "display_data"
    },
    {
     "data": {
      "image/png": "[encoded data removed]",
      "text/plain": [
       "<Figure size 432x288 with 1 Axes>"
      ]
     },
     "metadata": {
      "needs_background": "light"
     },
     "output_type": "display_data"
    },
    {
     "data": {
      "image/png": "[encoded data removed]",
      "text/plain": [
       "<Figure size 432x288 with 1 Axes>"
      ]
     },
     "metadata": {
      "needs_background": "light"
     },
     "output_type": "display_data"
    },
    {
     "name": "stdout",
     "output_type": "stream",
     "text": [
      "When it comes to showing details, Histogram is not very effective, so instead density plot is tried.\n"
     ]
    },
    {
     "data": {
      "image/png": "[encoded data removed]",
      "text/plain": [
       "<Figure size 432x288 with 1 Axes>"
      ]
     },
     "metadata": {
      "needs_background": "light"
     },
     "output_type": "display_data"
    },
    {
     "name": "stdout",
     "output_type": "stream",
     "text": [
      "Distribution by cases_per_M is Right-Skewed. As we can see the mean = 7117.88, Median = 1943.83 against Max = 83076.43. \n",
      "I can say that most countries has low cases of the desease.\n",
      "\n",
      "\n",
      "I will further use log-scale graph to further examin the data, as the histogram and boxplot show most data squashed to one end\n"
     ]
    }
   ],
   "source": [
    "# As it is usual in programming there is multiple means to achieve set goals. Below are another way to calculate the \n",
    "# statistics of column 'cases_per_M' of the dataset.\n",
    "\n",
    "print(\"Using pandas module functions\")\n",
    "print(\"  n = \", covid['cases_per_M'].count())\n",
    "print(\"Measures of central location\")\n",
    "print(\"Mean = \", covid['cases_per_M'].mean())\n",
    "print(\"Median = \", covid['cases_per_M'].median())\n",
    "\n",
    "print(\"Measures of spread\")\n",
    "print(\"range = \", covid['cases_per_M'].max()-covid['cases_per_M'].min())\n",
    "q = covid['cases_per_M'].quantile([0.25,0.5,0.75])\n",
    "print(\"quartiles = \", q)\n",
    "print(\"IQR = \", covid['cases_per_M'].quantile(0.75) - covid['cases_per_M'].quantile(0.25))\n",
    "print(\"stdev = \", covid['cases_per_M'].std())\n",
    "print(\"pop stdev = \", covid['cases_per_M'].std(ddof = 0))\n",
    "\n",
    "# print(\"Measures of shape\")\n",
    "print(\"Skewness = \", covid['cases_per_M'].skew())\n",
    "print(\"Excess kurtosis = \", covid['cases_per_M'].kurt())\n",
    "\n",
    "covid['cases_per_M'].hist(bins = 50) ## setting number bin to range of data to get one bar per possible value\n",
    "plt.show()\n",
    "covid['cases_per_M'].plot.box()\n",
    "plt.show()\n",
    "\n",
    "covid['cases_per_M'].plot.hist(bins = 150).set_xscale(\"log\")\n",
    "plt.show()\n",
    "covid['cases_per_M'].plot.box().set_yscale(\"log\")\n",
    "plt.show()\n",
    "print(\"When it comes to showing details, Histogram is not very effective, so instead density plot is tried.\")\n",
    "covid['cases_per_M'].plot.density().set_xscale(\"log\")\n",
    "plt.show()\n",
    "print(\"Distribution by cases_per_M is Right-Skewed. As we can see the mean = 7117.88, Median = 1943.83 against Max = 83076.43. \\nI can say that most countries has low cases of the desease.\")\n",
    "print(\"\\n\\nI will further use log-scale graph to further examin the data, as the histogram and boxplot show most data squashed to one end\")\n",
    "\n"
   ]
  },
  {
   "cell_type": "markdown",
   "metadata": {},
   "source": [
    "# 2. The med_R"
   ]
  },
  {
   "cell_type": "code",
   "execution_count": 13,
   "metadata": {},
   "outputs": [
    {
     "data": {
      "text/html": [
       "<div>\n",
       "<style scoped>\n",
       "    .dataframe tbody tr th:only-of-type {\n",
       "        vertical-align: middle;\n",
       "    }\n",
       "\n",
       "    .dataframe tbody tr th {\n",
       "        vertical-align: top;\n",
       "    }\n",
       "\n",
       "    .dataframe thead th {\n",
       "        text-align: right;\n",
       "    }\n",
       "</style>\n",
       "<table border=\"1\" class=\"dataframe\">\n",
       "  <thead>\n",
       "    <tr style=\"text-align: right;\">\n",
       "      <th></th>\n",
       "      <th>med_R</th>\n",
       "    </tr>\n",
       "  </thead>\n",
       "  <tbody>\n",
       "    <tr>\n",
       "      <th>count</th>\n",
       "      <td>525.000000</td>\n",
       "    </tr>\n",
       "    <tr>\n",
       "      <th>mean</th>\n",
       "      <td>1.039219</td>\n",
       "    </tr>\n",
       "    <tr>\n",
       "      <th>std</th>\n",
       "      <td>0.220853</td>\n",
       "    </tr>\n",
       "    <tr>\n",
       "      <th>min</th>\n",
       "      <td>0.000000</td>\n",
       "    </tr>\n",
       "    <tr>\n",
       "      <th>25%</th>\n",
       "      <td>0.950000</td>\n",
       "    </tr>\n",
       "    <tr>\n",
       "      <th>50%</th>\n",
       "      <td>1.050000</td>\n",
       "    </tr>\n",
       "    <tr>\n",
       "      <th>75%</th>\n",
       "      <td>1.150000</td>\n",
       "    </tr>\n",
       "    <tr>\n",
       "      <th>max</th>\n",
       "      <td>1.800000</td>\n",
       "    </tr>\n",
       "  </tbody>\n",
       "</table>\n",
       "</div>"
      ],
      "text/plain": [
       "            med_R\n",
       "count  525.000000\n",
       "mean     1.039219\n",
       "std      0.220853\n",
       "min      0.000000\n",
       "25%      0.950000\n",
       "50%      1.050000\n",
       "75%      1.150000\n",
       "max      1.800000"
      ]
     },
     "execution_count": 13,
     "metadata": {},
     "output_type": "execute_result"
    }
   ],
   "source": [
    "#  I can use the 'describe' function to calculate the statistic of 'med_R' column of the dataset.\n",
    "covid[['med_R']].describe()"
   ]
  },
  {
   "cell_type": "code",
   "execution_count": 14,
   "metadata": {},
   "outputs": [
    {
     "name": "stdout",
     "output_type": "stream",
     "text": [
      "Using pandas module functions\n",
      "  n =  525\n",
      "Measures of central location\n",
      "Mean =  1.0392190476190468\n",
      "Median =  1.05\n",
      "Measures of spread\n",
      "range =  1.8\n",
      "quartiles =  0.25    0.95\n",
      "0.50    1.05\n",
      "0.75    1.15\n",
      "Name: med_R, dtype: float64\n",
      "IQR =  0.19999999999999996\n",
      "stdev =  0.22085270128986442\n",
      "pop stdev =  0.2206422651284147\n",
      "Skewness =  -1.316562912322257\n",
      "Excess kurtosis =  5.021591227384064\n"
     ]
    },
    {
     "data": {
      "image/png": "[encoded data removed]",
      "text/plain": [
       "<Figure size 432x288 with 1 Axes>"
      ]
     },
     "metadata": {
      "needs_background": "light"
     },
     "output_type": "display_data"
    },
    {
     "data": {
      "image/png": "[encoded data removed]",
      "text/plain": [
       "<Figure size 432x288 with 1 Axes>"
      ]
     },
     "metadata": {
      "needs_background": "light"
     },
     "output_type": "display_data"
    }
   ],
   "source": [
    "# statistics,  hIstogram and boxplot  of column 'med_R' of the dataset.\n",
    "import matplotlib.pyplot as plt\n",
    "print(\"Using pandas module functions\")\n",
    "print(\"  n = \", covid['med_R'].count())\n",
    "print(\"Measures of central location\")\n",
    "print(\"Mean = \", covid['med_R'].mean())\n",
    "print(\"Median = \", covid['med_R'].median())\n",
    "\n",
    "print(\"Measures of spread\")\n",
    "print(\"range = \", covid['med_R'].max()-covid['med_R'].min())\n",
    "q = covid['med_R'].quantile([0.25,0.5,0.75])\n",
    "print(\"quartiles = \", q)\n",
    "print(\"IQR = \", covid['med_R'].quantile(0.75) - covid['med_R'].quantile(0.25))\n",
    "print(\"stdev = \", covid['med_R'].std())\n",
    "print(\"pop stdev = \", covid['med_R'].std(ddof = 0))\n",
    "\n",
    "# print(\"Measures of shape\")\n",
    "print(\"Skewness = \", covid['med_R'].skew())\n",
    "print(\"Excess kurtosis = \", covid['med_R'].kurt())\n",
    "\n",
    "# Visualisations of 'med_R'\n",
    "covid['med_R'].hist(bins = 20) \n",
    "plt.show() \n",
    "\n",
    "# Plot of location against 'med_R'\n",
    "covid.boxplot('med_R') \n",
    "plt.show()"
   ]
  },
  {
   "cell_type": "markdown",
   "metadata": {},
   "source": [
    "The visualisations (histogram and boxplot) show the distribution is fairly. The Mean = 1.04 and Median = 1.05 are close the middle of the distribution, with regards to the max = 1.80 and min = 0.00. However, we can see outliers at both ends of the distribution, even when most of the data are concentrated in the middle - normal distribution, with stdev = 0.22, pop stdev = 0.22, Skewness = -1.31 and Excess kurtosis = 5.02.\n",
    "\n",
    "The median of R-number (med_R) is fairly uniform distributed, with slight skew to the left."
   ]
  },
  {
   "cell_type": "markdown",
   "metadata": {},
   "source": [
    "# 3. The mortality"
   ]
  },
  {
   "cell_type": "code",
   "execution_count": 15,
   "metadata": {},
   "outputs": [
    {
     "name": "stdout",
     "output_type": "stream",
     "text": [
      "  n =  525\n",
      "Low     304\n",
      "High    221\n",
      "Name: mortality, dtype: int64\n",
      "Measures of central location\n",
      "mode =  0    Low\n",
      "dtype: object\n"
     ]
    },
    {
     "data": {
      "image/png": "[encoded data removed]",
      "text/plain": [
       "<Figure size 432x288 with 1 Axes>"
      ]
     },
     "metadata": {},
     "output_type": "display_data"
    },
    {
     "data": {
      "image/png": "[encoded data removed]",
      "text/plain": [
       "<Figure size 432x288 with 1 Axes>"
      ]
     },
     "metadata": {
      "needs_background": "light"
     },
     "output_type": "display_data"
    }
   ],
   "source": [
    "# Statistics and distribution  analysis by mortality using bar cahrt and pie chart\n",
    "\n",
    "print(\"  n = \", covid['mortality'].count())\n",
    "\n",
    "# we can count the number of occurences in each category\n",
    "counts = covid['mortality'].value_counts()\n",
    "print(counts)\n",
    "print(\"Measures of central location\")\n",
    "print(\"mode = \", covid['mortality'].mode())\n",
    "\n",
    "covid['mortality'].value_counts().plot.pie(autopct = '%1.1f')\n",
    "plt.show()\n",
    "covid['mortality'].value_counts().plot.bar()\n",
    "plt.show()\n"
   ]
  },
  {
   "cell_type": "markdown",
   "metadata": {},
   "source": [
    "Distribution by mortality is lower by 15.8 and stands at 57.9, with more than half of the location with lower mortality"
   ]
  },
  {
   "cell_type": "code",
   "execution_count": 16,
   "metadata": {},
   "outputs": [
    {
     "data": {
      "text/html": [
       "<div>\n",
       "<style scoped>\n",
       "    .dataframe tbody tr th:only-of-type {\n",
       "        vertical-align: middle;\n",
       "    }\n",
       "\n",
       "    .dataframe tbody tr th {\n",
       "        vertical-align: top;\n",
       "    }\n",
       "\n",
       "    .dataframe thead th {\n",
       "        text-align: right;\n",
       "    }\n",
       "</style>\n",
       "<table border=\"1\" class=\"dataframe\">\n",
       "  <thead>\n",
       "    <tr style=\"text-align: right;\">\n",
       "      <th></th>\n",
       "      <th>mortality</th>\n",
       "    </tr>\n",
       "  </thead>\n",
       "  <tbody>\n",
       "    <tr>\n",
       "      <th>count</th>\n",
       "      <td>525</td>\n",
       "    </tr>\n",
       "    <tr>\n",
       "      <th>unique</th>\n",
       "      <td>2</td>\n",
       "    </tr>\n",
       "    <tr>\n",
       "      <th>top</th>\n",
       "      <td>Low</td>\n",
       "    </tr>\n",
       "    <tr>\n",
       "      <th>freq</th>\n",
       "      <td>304</td>\n",
       "    </tr>\n",
       "  </tbody>\n",
       "</table>\n",
       "</div>"
      ],
      "text/plain": [
       "       mortality\n",
       "count        525\n",
       "unique         2\n",
       "top          Low\n",
       "freq         304"
      ]
     },
     "execution_count": 16,
     "metadata": {},
     "output_type": "execute_result"
    }
   ],
   "source": [
    "# Getting the statistics of qualitative data like 'mortality'\n",
    "covid[['mortality']].describe()"
   ]
  },
  {
   "cell_type": "markdown",
   "metadata": {},
   "source": [
    "As a qualitative data 'mortality' has very few basic statistics as shown above."
   ]
  },
  {
   "cell_type": "markdown",
   "metadata": {},
   "source": [
    "# 4. The international_travel_controls"
   ]
  },
  {
   "cell_type": "code",
   "execution_count": 17,
   "metadata": {},
   "outputs": [
    {
     "name": "stdout",
     "output_type": "stream",
     "text": [
      "n =  525\n",
      "Ban              264\n",
      "Quarantine       152\n",
      "BorderClosure     54\n",
      "Screening         51\n",
      "None               4\n",
      "Name: international_travel_controls, dtype: int64\n",
      "Measures of central category\n",
      "mode =  0    Ban\n",
      "dtype: object\n"
     ]
    },
    {
     "data": {
      "image/png": "[encoded data removed]",
      "text/plain": [
       "<Figure size 432x288 with 1 Axes>"
      ]
     },
     "metadata": {},
     "output_type": "display_data"
    },
    {
     "data": {
      "image/png": "[encoded data removed]",
      "text/plain": [
       "<Figure size 432x288 with 1 Axes>"
      ]
     },
     "metadata": {
      "needs_background": "light"
     },
     "output_type": "display_data"
    }
   ],
   "source": [
    "## statistics, histogram and boxplot of the 'international_travel_controls' attribute of the covid prevention\n",
    "print(\"n = \", covid['international_travel_controls'].count())\n",
    "\n",
    "# we can count the number of occurences in each category \n",
    "counts = covid['international_travel_controls'].value_counts()\n",
    "print(counts)\n",
    "print(\"Measures of central category\")\n",
    "print(\"mode = \", covid['international_travel_controls'].mode())\n",
    "\n",
    "# distribution analysis by international_travel_controls\n",
    "covid['international_travel_controls'].value_counts().plot.pie(autopct = '%1.1f')\n",
    "plt.show()\n",
    "covid['international_travel_controls'].value_counts().plot.bar()\n",
    "plt.show()"
   ]
  },
  {
   "cell_type": "markdown",
   "metadata": {},
   "source": [
    "Distribution by international_travel_controls is imbalanced, as more than 50% of the locations are on the banned list. The government is using ban as the most tool to control spread of covid from other countries."
   ]
  },
  {
   "cell_type": "code",
   "execution_count": 18,
   "metadata": {},
   "outputs": [
    {
     "data": {
      "text/html": [
       "<div>\n",
       "<style scoped>\n",
       "    .dataframe tbody tr th:only-of-type {\n",
       "        vertical-align: middle;\n",
       "    }\n",
       "\n",
       "    .dataframe tbody tr th {\n",
       "        vertical-align: top;\n",
       "    }\n",
       "\n",
       "    .dataframe thead th {\n",
       "        text-align: right;\n",
       "    }\n",
       "</style>\n",
       "<table border=\"1\" class=\"dataframe\">\n",
       "  <thead>\n",
       "    <tr style=\"text-align: right;\">\n",
       "      <th></th>\n",
       "      <th>international_travel_controls</th>\n",
       "    </tr>\n",
       "  </thead>\n",
       "  <tbody>\n",
       "    <tr>\n",
       "      <th>count</th>\n",
       "      <td>525</td>\n",
       "    </tr>\n",
       "    <tr>\n",
       "      <th>unique</th>\n",
       "      <td>5</td>\n",
       "    </tr>\n",
       "    <tr>\n",
       "      <th>top</th>\n",
       "      <td>Ban</td>\n",
       "    </tr>\n",
       "    <tr>\n",
       "      <th>freq</th>\n",
       "      <td>264</td>\n",
       "    </tr>\n",
       "  </tbody>\n",
       "</table>\n",
       "</div>"
      ],
      "text/plain": [
       "       international_travel_controls\n",
       "count                            525\n",
       "unique                             5\n",
       "top                              Ban\n",
       "freq                             264"
      ]
     },
     "execution_count": 18,
     "metadata": {},
     "output_type": "execute_result"
    }
   ],
   "source": [
    "# Getting the statistics of qualitative data like 'international_travel_controls'\n",
    "covid[['international_travel_controls']].describe()"
   ]
  },
  {
   "cell_type": "markdown",
   "metadata": {},
   "source": [
    "As a qualitative data 'international_travel_controls' has very few basic statistics as shown above."
   ]
  },
  {
   "cell_type": "markdown",
   "metadata": {},
   "source": [
    "# 5 The Cancel_public_events\n"
   ]
  },
  {
   "cell_type": "code",
   "execution_count": 19,
   "metadata": {},
   "outputs": [
    {
     "name": "stdout",
     "output_type": "stream",
     "text": [
      "n =  525\n",
      "Ban           391\n",
      "Avoid          89\n",
      "NoMeasures     45\n",
      "Name: cancel_public_events, dtype: int64\n",
      "Measures of central category\n",
      "mode =  0    Ban\n",
      "dtype: object\n"
     ]
    },
    {
     "data": {
      "image/png": "[encoded data removed]",
      "text/plain": [
       "<Figure size 432x288 with 1 Axes>"
      ]
     },
     "metadata": {
      "needs_background": "light"
     },
     "output_type": "display_data"
    },
    {
     "data": {
      "image/png": "[encoded data removed]",
      "text/plain": [
       "<Figure size 432x288 with 1 Axes>"
      ]
     },
     "metadata": {},
     "output_type": "display_data"
    },
    {
     "data": {
      "image/png": "[encoded data removed]",
      "text/plain": [
       "<Figure size 432x288 with 1 Axes>"
      ]
     },
     "metadata": {
      "needs_background": "light"
     },
     "output_type": "display_data"
    },
    {
     "name": "stdout",
     "output_type": "stream",
     "text": [
      "High percentatage (74.5%) of public events were banned, so this is an imbalanced distribution,\n",
      "with most of the country favouring the ban of public events, as a way to minimise spread of the virus.\n",
      "However, there are still plenty of data available to indicate that most people choose to avoid public events.\n"
     ]
    }
   ],
   "source": [
    "## statistics, histogram and boxplot of the 'cancel_public_events' attribute of the covid prevention\n",
    "print(\"n = \", covid['cancel_public_events'].count())\n",
    "\n",
    "# we can count the number of occurences in each category \n",
    "counts = covid['cancel_public_events'].value_counts()\n",
    "print(counts)\n",
    "print(\"Measures of central category\")\n",
    "print(\"mode = \", covid['cancel_public_events'].mode())\n",
    "\n",
    "covid['cancel_public_events'].value_counts().plot.bar()\n",
    "plt.show()\n",
    "covid['cancel_public_events'].value_counts().plot.pie(autopct = '%1.1f')\n",
    "plt.show()\n",
    "covid['cancel_public_events'].value_counts().plot.bar().set_yscale(\"log\")\n",
    "plt.show()\n",
    "print(\"High percentatage (74.5%) of public events were banned, so this is an imbalanced distribution,\")\n",
    "print(\"with most of the country favouring the ban of public events, as a way to minimise spread of the virus.\")\n",
    "print(\"However, there are still plenty of data available to indicate that most people choose to avoid public events.\")"
   ]
  },
  {
   "cell_type": "code",
   "execution_count": 20,
   "metadata": {},
   "outputs": [
    {
     "data": {
      "text/html": [
       "<div>\n",
       "<style scoped>\n",
       "    .dataframe tbody tr th:only-of-type {\n",
       "        vertical-align: middle;\n",
       "    }\n",
       "\n",
       "    .dataframe tbody tr th {\n",
       "        vertical-align: top;\n",
       "    }\n",
       "\n",
       "    .dataframe thead th {\n",
       "        text-align: right;\n",
       "    }\n",
       "</style>\n",
       "<table border=\"1\" class=\"dataframe\">\n",
       "  <thead>\n",
       "    <tr style=\"text-align: right;\">\n",
       "      <th></th>\n",
       "      <th>cancel_public_events</th>\n",
       "    </tr>\n",
       "  </thead>\n",
       "  <tbody>\n",
       "    <tr>\n",
       "      <th>count</th>\n",
       "      <td>525</td>\n",
       "    </tr>\n",
       "    <tr>\n",
       "      <th>unique</th>\n",
       "      <td>3</td>\n",
       "    </tr>\n",
       "    <tr>\n",
       "      <th>top</th>\n",
       "      <td>Ban</td>\n",
       "    </tr>\n",
       "    <tr>\n",
       "      <th>freq</th>\n",
       "      <td>391</td>\n",
       "    </tr>\n",
       "  </tbody>\n",
       "</table>\n",
       "</div>"
      ],
      "text/plain": [
       "       cancel_public_events\n",
       "count                   525\n",
       "unique                    3\n",
       "top                     Ban\n",
       "freq                    391"
      ]
     },
     "execution_count": 20,
     "metadata": {},
     "output_type": "execute_result"
    }
   ],
   "source": [
    "# Getting the statistics of qualitative data like 'cancel_public_events'\n",
    "covid[['cancel_public_events']].describe()"
   ]
  },
  {
   "cell_type": "markdown",
   "metadata": {},
   "source": [
    "# Filtering data:\n"
   ]
  },
  {
   "cell_type": "markdown",
   "metadata": {},
   "source": [
    "# 6. How the distribution of the cases_per_M varies with the value of continent\n",
    "\n"
   ]
  },
  {
   "cell_type": "code",
   "execution_count": 21,
   "metadata": {},
   "outputs": [
    {
     "data": {
      "image/png": "[encoded data removed]",
      "text/plain": [
       "<Figure size 1080x360 with 6 Axes>"
      ]
     },
     "metadata": {
      "needs_background": "light"
     },
     "output_type": "display_data"
    },
    {
     "name": "stdout",
     "output_type": "stream",
     "text": [
      "\n"
     ]
    },
    {
     "data": {
      "image/png": "[encoded data removed]",
      "text/plain": [
       "<Figure size 1080x360 with 1 Axes>"
      ]
     },
     "metadata": {
      "needs_background": "light"
     },
     "output_type": "display_data"
    },
    {
     "data": {
      "image/png": "[encoded data removed]",
      "text/plain": [
       "<Figure size 432x288 with 1 Axes>"
      ]
     },
     "metadata": {
      "needs_background": "light"
     },
     "output_type": "display_data"
    },
    {
     "name": "stdout",
     "output_type": "stream",
     "text": [
      "The distribution of infection cases by continent follows same pattern, but Europe has largerest cases followed by South America\n",
      "The distribution also, shows that countries in the Oceania have least cases_per_M, followed by countries of Africa. \n"
     ]
    }
   ],
   "source": [
    "# distribution analysis of cases_per_M by continent\n",
    "covid.hist('cases_per_M', by =  'continent', alpha = 0.9, edgecolor = \"black\", bins = 30, figsize = (15,5))\n",
    "plt.show()\n",
    "print()\n",
    "covid.groupby('continent')['cases_per_M'].hist(alpha = 0.9, edgecolor = \"black\", bins = 30, figsize = (15,5))\n",
    "plt.show()\n",
    "covid.boxplot('cases_per_M', by = 'continent')\n",
    "plt.show()\n",
    "print(\"The distribution of infection cases by continent follows same pattern, but Europe has largerest cases followed by South America\")\n",
    "print(\"The distribution also, shows that countries in the Oceania have least cases_per_M, followed by countries of Africa. \")"
   ]
  },
  {
   "cell_type": "markdown",
   "metadata": {},
   "source": [
    "# 7. The statistics of the cases_per_M variable of the countries from Europe over the four 3-month periods ending May-20, Aug-20, Nov-20 and Feb-21"
   ]
  },
  {
   "cell_type": "markdown",
   "metadata": {},
   "source": [
    "# 8. Creating cross-tabulations in the form of two-way tables using Mortality versus date"
   ]
  },
  {
   "cell_type": "code",
   "execution_count": 22,
   "metadata": {},
   "outputs": [
    {
     "data": {
      "text/html": [
       "<div>\n",
       "<style scoped>\n",
       "    .dataframe tbody tr th:only-of-type {\n",
       "        vertical-align: middle;\n",
       "    }\n",
       "\n",
       "    .dataframe tbody tr th {\n",
       "        vertical-align: top;\n",
       "    }\n",
       "\n",
       "    .dataframe thead th {\n",
       "        text-align: right;\n",
       "    }\n",
       "</style>\n",
       "<table border=\"1\" class=\"dataframe\">\n",
       "  <thead>\n",
       "    <tr style=\"text-align: right;\">\n",
       "      <th>date</th>\n",
       "      <th>Aug-20</th>\n",
       "      <th>Feb-21</th>\n",
       "      <th>May-20</th>\n",
       "      <th>Nov-20</th>\n",
       "    </tr>\n",
       "    <tr>\n",
       "      <th>mortality</th>\n",
       "      <th></th>\n",
       "      <th></th>\n",
       "      <th></th>\n",
       "      <th></th>\n",
       "    </tr>\n",
       "  </thead>\n",
       "  <tbody>\n",
       "    <tr>\n",
       "      <th>High</th>\n",
       "      <td>38</td>\n",
       "      <td>82</td>\n",
       "      <td>30</td>\n",
       "      <td>71</td>\n",
       "    </tr>\n",
       "    <tr>\n",
       "      <th>Low</th>\n",
       "      <td>92</td>\n",
       "      <td>53</td>\n",
       "      <td>99</td>\n",
       "      <td>60</td>\n",
       "    </tr>\n",
       "  </tbody>\n",
       "</table>\n",
       "</div>"
      ],
      "text/plain": [
       "date       Aug-20  Feb-21  May-20  Nov-20\n",
       "mortality                                \n",
       "High           38      82      30      71\n",
       "Low            92      53      99      60"
      ]
     },
     "execution_count": 22,
     "metadata": {},
     "output_type": "execute_result"
    }
   ],
   "source": [
    "# cross-tabulate Mortality Versus Date\n",
    "ct2 = pd.crosstab(covid['mortality'], covid['date'])\n",
    "ct2"
   ]
  },
  {
   "cell_type": "code",
   "execution_count": 23,
   "metadata": {},
   "outputs": [
    {
     "data": {
      "text/plain": [
       "<AxesSubplot:xlabel='mortality'>"
      ]
     },
     "execution_count": 23,
     "metadata": {},
     "output_type": "execute_result"
    },
    {
     "data": {
      "image/png": "[encoded data removed]",
      "text/plain": [
       "<Figure size 720x288 with 2 Axes>"
      ]
     },
     "metadata": {
      "needs_background": "light"
     },
     "output_type": "display_data"
    }
   ],
   "source": [
    "# Using cross-tabulate Mortality Versus Date to create informative bar charts\n",
    "\n",
    "ct2 = pd.crosstab(covid['mortality'], covid['date'])\n",
    "fig,ax = plt.subplots(1,2,figsize = (10, 4))\n",
    "ct2.plot.bar (ax=ax[0])\n",
    "ct2.plot.bar(stacked = True, ax=ax[1])\n"
   ]
  },
  {
   "cell_type": "code",
   "execution_count": 26,
   "metadata": {},
   "outputs": [
    {
     "data": {
      "image/png": "[encoded data removed]",
      "text/plain": [
       "<Figure size 720x288 with 2 Axes>"
      ]
     },
     "metadata": {
      "needs_background": "light"
     },
     "output_type": "display_data"
    },
    {
     "data": {
      "text/html": [
       "<div>\n",
       "<style scoped>\n",
       "    .dataframe tbody tr th:only-of-type {\n",
       "        vertical-align: middle;\n",
       "    }\n",
       "\n",
       "    .dataframe tbody tr th {\n",
       "        vertical-align: top;\n",
       "    }\n",
       "\n",
       "    .dataframe thead th {\n",
       "        text-align: right;\n",
       "    }\n",
       "</style>\n",
       "<table border=\"1\" class=\"dataframe\">\n",
       "  <thead>\n",
       "    <tr style=\"text-align: right;\">\n",
       "      <th>date</th>\n",
       "      <th>Aug-20</th>\n",
       "      <th>Feb-21</th>\n",
       "      <th>May-20</th>\n",
       "      <th>Nov-20</th>\n",
       "    </tr>\n",
       "    <tr>\n",
       "      <th>mortality</th>\n",
       "      <th></th>\n",
       "      <th></th>\n",
       "      <th></th>\n",
       "      <th></th>\n",
       "    </tr>\n",
       "  </thead>\n",
       "  <tbody>\n",
       "    <tr>\n",
       "      <th>High</th>\n",
       "      <td>0.171946</td>\n",
       "      <td>0.371041</td>\n",
       "      <td>0.135747</td>\n",
       "      <td>0.321267</td>\n",
       "    </tr>\n",
       "    <tr>\n",
       "      <th>Low</th>\n",
       "      <td>0.302632</td>\n",
       "      <td>0.174342</td>\n",
       "      <td>0.325658</td>\n",
       "      <td>0.197368</td>\n",
       "    </tr>\n",
       "  </tbody>\n",
       "</table>\n",
       "</div>"
      ],
      "text/plain": [
       "date         Aug-20    Feb-21    May-20    Nov-20\n",
       "mortality                                        \n",
       "High       0.171946  0.371041  0.135747  0.321267\n",
       "Low        0.302632  0.174342  0.325658  0.197368"
      ]
     },
     "execution_count": 26,
     "metadata": {},
     "output_type": "execute_result"
    }
   ],
   "source": [
    "# same data shown as proportions within each reputation\n",
    "ct3 = pd.crosstab(covid['mortality'],covid['date'], normalize = \"index\")\n",
    "fig, ax = plt.subplots(1, 2, figsize=(10, 4))\n",
    "ct3.plot.bar(ax = ax[0])\n",
    "ct3.plot.bar(stacked = True, ax = ax[1])\n",
    "plt.show()\n",
    "ct3"
   ]
  },
  {
   "cell_type": "markdown",
   "metadata": {},
   "source": [
    "# 9. any other pair of categorical variables that you think show interesting behaviour."
   ]
  },
  {
   "cell_type": "code",
   "execution_count": 29,
   "metadata": {},
   "outputs": [
    {
     "data": {
      "text/html": [
       "<div>\n",
       "<style scoped>\n",
       "    .dataframe tbody tr th:only-of-type {\n",
       "        vertical-align: middle;\n",
       "    }\n",
       "\n",
       "    .dataframe tbody tr th {\n",
       "        vertical-align: top;\n",
       "    }\n",
       "\n",
       "    .dataframe thead th {\n",
       "        text-align: right;\n",
       "    }\n",
       "</style>\n",
       "<table border=\"1\" class=\"dataframe\">\n",
       "  <thead>\n",
       "    <tr style=\"text-align: right;\">\n",
       "      <th>date</th>\n",
       "      <th>Aug-20</th>\n",
       "      <th>Feb-21</th>\n",
       "      <th>May-20</th>\n",
       "      <th>Nov-20</th>\n",
       "    </tr>\n",
       "    <tr>\n",
       "      <th>school_closures</th>\n",
       "      <th></th>\n",
       "      <th></th>\n",
       "      <th></th>\n",
       "      <th></th>\n",
       "    </tr>\n",
       "  </thead>\n",
       "  <tbody>\n",
       "    <tr>\n",
       "      <th>Minimal</th>\n",
       "      <td>29</td>\n",
       "      <td>31</td>\n",
       "      <td>32</td>\n",
       "      <td>30</td>\n",
       "    </tr>\n",
       "    <tr>\n",
       "      <th>Required</th>\n",
       "      <td>46</td>\n",
       "      <td>47</td>\n",
       "      <td>44</td>\n",
       "      <td>46</td>\n",
       "    </tr>\n",
       "    <tr>\n",
       "      <th>Some</th>\n",
       "      <td>55</td>\n",
       "      <td>57</td>\n",
       "      <td>53</td>\n",
       "      <td>55</td>\n",
       "    </tr>\n",
       "  </tbody>\n",
       "</table>\n",
       "</div>"
      ],
      "text/plain": [
       "date             Aug-20  Feb-21  May-20  Nov-20\n",
       "school_closures                                \n",
       "Minimal              29      31      32      30\n",
       "Required             46      47      44      46\n",
       "Some                 55      57      53      55"
      ]
     },
     "execution_count": 29,
     "metadata": {},
     "output_type": "execute_result"
    }
   ],
   "source": [
    "# cross-tabulate School_closures Versus Date\n",
    "ct5 = pd.crosstab(covid['school_closures'], covid['date'])\n",
    "ct5"
   ]
  },
  {
   "cell_type": "code",
   "execution_count": 35,
   "metadata": {},
   "outputs": [
    {
     "data": {
      "image/png": "[encoded data removed]",
      "text/plain": [
       "<Figure size 720x288 with 2 Axes>"
      ]
     },
     "metadata": {
      "needs_background": "light"
     },
     "output_type": "display_data"
    },
    {
     "name": "stdout",
     "output_type": "stream",
     "text": [
      " This shows that, as the date goes futher the higher the number of infected people increases and this resulted the close of schools\n",
      "And the Some school_closures has the highest number of infected people and the minimal school closures decreased in Aug-20 and raised from Nov-20 to Fbe-21\n"
     ]
    }
   ],
   "source": [
    "# Using cross-tabulateschool_closures Versus Date to create informative bar charts\n",
    "\n",
    "ct5 = pd.crosstab(covid['school_closures'], covid['date'])\n",
    "fig,ax = plt.subplots(1,2,figsize = (10, 4))\n",
    "ct5.plot.bar (ax=ax[0])\n",
    "ct5.plot.bar(stacked = True, ax=ax[1])\n",
    "plt.show()\n",
    "print(\" This shows that, as the date goes futher the higher the number of infected people increases and this resulted the close of schools\")\n",
    "print(\"And the Some school_closures has the highest number of infected people and the minimal school closures decreased in Aug-20 and raised from Nov-20 to Fbe-21\")\n"
   ]
  },
  {
   "cell_type": "code",
   "execution_count": 37,
   "metadata": {},
   "outputs": [
    {
     "data": {
      "image/png": "[encoded data removed]",
      "text/plain": [
       "<Figure size 720x288 with 2 Axes>"
      ]
     },
     "metadata": {
      "needs_background": "light"
     },
     "output_type": "display_data"
    },
    {
     "name": "stdout",
     "output_type": "stream",
     "text": [
      " This shows that, as the date goes futher the higher the number of infected people increases and this resulted the close of schools\n",
      "And the Some school_closures has the highest number of infected people and the minimal school closures decreased in Aug-20 and raised from Nov-20 to Fbe-21\n"
     ]
    }
   ],
   "source": [
    "# same data shown as proportions within each reputation\n",
    "ct5 = pd.crosstab(covid['school_closures'],covid['date'], normalize = \"index\")\n",
    "fig, ax = plt.subplots(1, 2, figsize=(10, 4))\n",
    "ct5.plot.bar(ax = ax[0])\n",
    "ct5.plot.bar(stacked = True, ax = ax[1])\n",
    "plt.show()\n",
    "ct5\n",
    "print(\" This shows that, as the date goes futher the higher the number of infected people increases and this resulted the close of schools\")\n",
    "print(\"And the Some school_closures has the highest number of infected people and the minimal school closures decreased in Aug-20 and raised from Nov-20 to Fbe-21\")\n"
   ]
  },
  {
   "cell_type": "code",
   "execution_count": null,
   "metadata": {},
   "outputs": [],
   "source": []
  }
 ],
 "metadata": {
  "kernelspec": {
   "display_name": "Python 3",
   "language": "python",
   "name": "python3"
  },
  "language_info": {
   "codemirror_mode": {
    "name": "ipython",
    "version": 3
   },
   "file_extension": ".py",
   "mimetype": "text/x-python",
   "name": "python",
   "nbconvert_exporter": "python",
   "pygments_lexer": "ipython3",
   "version": "3.8.5"
  }
 },
 "nbformat": 4,
 "nbformat_minor": 4
}
