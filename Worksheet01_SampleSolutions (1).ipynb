{
 "cells": [
  {
   "cell_type": "markdown",
   "metadata": {},
   "source": [
    "## CM3400 Introduction to Data Science with Python\n",
    "## Sample Solutions to Worksheet 1\n",
    "\n",
    "## Task 3a Using Python as a calculator\n",
    "Code blocks will simply display the result of the final line of code, so remember that to display everything we want, we can include content in a print statement.\n",
    "\n",
    "The first few examples are simply illustrating the use of arithmetic operators for addition, subtraction, multiplication, division and powers."
   ]
  },
  {
   "cell_type": "code",
   "execution_count": 40,
   "metadata": {},
   "outputs": [
    {
     "name": "stdout",
     "output_type": "stream",
     "text": [
      "Addition operator is +\n",
      "4\n",
      "2 + 2 = 4\n"
     ]
    }
   ],
   "source": [
    "print(\"Addition operator is +\")\n",
    "print(2+2)\n",
    "# or fancier, we can print a mixture of text and numerical output ...\n",
    "print(\"2 + 2 =\", 2+2)"
   ]
  },
  {
   "cell_type": "code",
   "execution_count": 1,
   "metadata": {},
   "outputs": [
    {
     "data": {
      "text/plain": [
       "21"
      ]
     },
     "execution_count": 1,
     "metadata": {},
     "output_type": "execute_result"
    }
   ],
   "source": [
    "2+2\n",
    "3*7"
   ]
  },
  {
   "cell_type": "markdown",
   "metadata": {},
   "source": [
    "That just gave us 21, what about the result from 2+2"
   ]
  },
  {
   "cell_type": "code",
   "execution_count": 2,
   "metadata": {},
   "outputs": [
    {
     "name": "stdout",
     "output_type": "stream",
     "text": [
      "4\n",
      "21\n"
     ]
    }
   ],
   "source": [
    "print(2+2)\n",
    "print(3*7)"
   ]
  },
  {
   "cell_type": "code",
   "execution_count": 3,
   "metadata": {},
   "outputs": [
    {
     "data": {
      "text/plain": [
       "(4, 21)"
      ]
     },
     "execution_count": 3,
     "metadata": {},
     "output_type": "execute_result"
    }
   ],
   "source": [
    "## or\n",
    "2+2, 3*7"
   ]
  },
  {
   "cell_type": "code",
   "execution_count": 4,
   "metadata": {},
   "outputs": [
    {
     "name": "stdout",
     "output_type": "stream",
     "text": [
      "Addition operator is +\n",
      "4\n",
      "Multiplication operator is *\n",
      "42\n",
      "6 x 7 = 42\n",
      "Power operator is **\n",
      "128\n",
      "2 to power of 7 = 128\n",
      "Division operator is /\n",
      "9.5\n",
      "19 divided by 2 = 9.5\n"
     ]
    }
   ],
   "source": [
    "print(\"Addition operator is +\")\n",
    "print(2+2)\n",
    "print(\"Multiplication operator is *\")\n",
    "print(6*7)\n",
    "print(\"6 x 7 =\", 6*7)\n",
    "print(\"Power operator is **\")\n",
    "print(2**7)\n",
    "print(\"2 to power of 7 =\", 2**7)\n",
    "print(\"Division operator is /\")\n",
    "print(19/2)\n",
    "print(\"19 divided by 2 =\", 19/2)"
   ]
  },
  {
   "cell_type": "markdown",
   "metadata": {},
   "source": [
    "Python adopts standard interpretation of brackets (i.e. BOMDAS or BOMDAS) \n",
    "in that brackets are done first, then and multiply/division, and then addition/subtraction"
   ]
  },
  {
   "cell_type": "code",
   "execution_count": 42,
   "metadata": {},
   "outputs": [
    {
     "name": "stdout",
     "output_type": "stream",
     "text": [
      "23 + 3 * 2 = 29\n",
      "3 * 5 ** 3 - 1 = 374\n",
      "whereas\n",
      "(23 + 3) * 2 = 52\n",
      "(3 * 5) ** (3 - 1) = 225\n"
     ]
    }
   ],
   "source": [
    "print(\"23 + 3 * 2 =\", 23 + 3 * 2)\n",
    "print(\"3 * 5 ** 3 - 1 =\", 3 * 5 ** 3 - 1)\n",
    "print(\"whereas\")\n",
    "print(\"(23 + 3) * 2 =\", (23 + 3) * 2)\n",
    "print(\"(3 * 5) ** (3 - 1) =\", (3 * 5) ** (3 - 1))"
   ]
  },
  {
   "cell_type": "markdown",
   "metadata": {},
   "source": [
    "A function is a named bit of code that does a job or action for us. Here are some examples, using functions thare are built into \"core\" Python"
   ]
  },
  {
   "cell_type": "code",
   "execution_count": 5,
   "metadata": {},
   "outputs": [
    {
     "data": {
      "text/plain": [
       "4"
      ]
     },
     "execution_count": 5,
     "metadata": {},
     "output_type": "execute_result"
    }
   ],
   "source": [
    "max(2, 4) ## Calculates the maximum of the values in the brackets"
   ]
  },
  {
   "cell_type": "code",
   "execution_count": 6,
   "metadata": {},
   "outputs": [
    {
     "data": {
      "text/plain": [
       "4"
      ]
     },
     "execution_count": 6,
     "metadata": {},
     "output_type": "execute_result"
    }
   ],
   "source": [
    "max(2, 4) ## Calculates the maximum of the values in the brackets"
   ]
  },
  {
   "cell_type": "code",
   "execution_count": 7,
   "metadata": {},
   "outputs": [
    {
     "data": {
      "text/plain": [
       "2"
      ]
     },
     "execution_count": 7,
     "metadata": {},
     "output_type": "execute_result"
    }
   ],
   "source": [
    "min(2, 4) ## Calculates the minimum of the values in the brackets"
   ]
  },
  {
   "cell_type": "code",
   "execution_count": 8,
   "metadata": {},
   "outputs": [
    {
     "data": {
      "text/plain": [
       "2"
      ]
     },
     "execution_count": 8,
     "metadata": {},
     "output_type": "execute_result"
    }
   ],
   "source": [
    "abs(2) ## Calculates the absolute value, for positive numbers it's just the number"
   ]
  },
  {
   "cell_type": "code",
   "execution_count": 9,
   "metadata": {},
   "outputs": [
    {
     "data": {
      "text/plain": [
       "2"
      ]
     },
     "execution_count": 9,
     "metadata": {},
     "output_type": "execute_result"
    }
   ],
   "source": [
    "abs(-2) ## Calculates the absolute value, for negative numbers it ignores the sign"
   ]
  },
  {
   "cell_type": "code",
   "execution_count": 10,
   "metadata": {},
   "outputs": [
    {
     "data": {
      "text/plain": [
       "24.12"
      ]
     },
     "execution_count": 10,
     "metadata": {},
     "output_type": "execute_result"
    }
   ],
   "source": [
    "round(24.124563, 2) ## rounds the number to number of decimal places specified"
   ]
  },
  {
   "cell_type": "code",
   "execution_count": 12,
   "metadata": {},
   "outputs": [
    {
     "name": "stdout",
     "output_type": "stream",
     "text": [
      "24.0\n",
      "24.1\n",
      "24.12\n",
      "24.125\n",
      "24.1246\n",
      "24.12456\n",
      "20.0\n"
     ]
    }
   ],
   "source": [
    "print(round(24.124563, 0)) ## varying the second parameter changes the number of decimal places\n",
    "print(round(24.124563, 1))\n",
    "print(round(24.124563, 2))\n",
    "print(round(24.124563, 3))\n",
    "print(round(24.124563, 4))\n",
    "print(round(24.124563, 5))\n",
    "print(round(24.124563, -1))"
   ]
  },
  {
   "cell_type": "code",
   "execution_count": 13,
   "metadata": {},
   "outputs": [
    {
     "name": "stdout",
     "output_type": "stream",
     "text": [
      "[1.1, 3.2, 0.9, 2.7, 4.5]\n"
     ]
    }
   ],
   "source": [
    "y = [1.1, 3.2, 0.9, 2.7, 4.5] \n",
    "# this creates a list of values, saved under the name y \n",
    "print(y)"
   ]
  },
  {
   "cell_type": "code",
   "execution_count": 14,
   "metadata": {},
   "outputs": [
    {
     "data": {
      "text/plain": [
       "list"
      ]
     },
     "execution_count": 14,
     "metadata": {},
     "output_type": "execute_result"
    }
   ],
   "source": [
    "type(y) ## tells us the data type of the stuff in y"
   ]
  },
  {
   "cell_type": "code",
   "execution_count": 15,
   "metadata": {},
   "outputs": [
    {
     "data": {
      "text/plain": [
       "4.5"
      ]
     },
     "execution_count": 15,
     "metadata": {},
     "output_type": "execute_result"
    }
   ],
   "source": [
    "max(y) ## tells us the maximum value in y"
   ]
  },
  {
   "cell_type": "code",
   "execution_count": 16,
   "metadata": {},
   "outputs": [
    {
     "data": {
      "text/plain": [
       "12.400000000000002"
      ]
     },
     "execution_count": 16,
     "metadata": {},
     "output_type": "execute_result"
    }
   ],
   "source": [
    "sum(y) ## adds up all the values in y, notice that Python has a finite precision\n",
    "## so there may be rounding errors appear at 15th decimal place !!"
   ]
  },
  {
   "cell_type": "code",
   "execution_count": 17,
   "metadata": {},
   "outputs": [
    {
     "ename": "TypeError",
     "evalue": "type list doesn't define __round__ method",
     "output_type": "error",
     "traceback": [
      "\u001b[1;31m---------------------------------------------------------------------------\u001b[0m",
      "\u001b[1;31mTypeError\u001b[0m                                 Traceback (most recent call last)",
      "\u001b[1;32m<ipython-input-17-2b85898f1784>\u001b[0m in \u001b[0;36m<module>\u001b[1;34m\u001b[0m\n\u001b[1;32m----> 1\u001b[1;33m \u001b[0mround\u001b[0m\u001b[1;33m(\u001b[0m\u001b[0my\u001b[0m\u001b[1;33m)\u001b[0m\u001b[1;33m\u001b[0m\u001b[1;33m\u001b[0m\u001b[0m\n\u001b[0m",
      "\u001b[1;31mTypeError\u001b[0m: type list doesn't define __round__ method"
     ]
    }
   ],
   "source": [
    "round(y) ## some functions can handle lists, some can't. The round method can't hence the error"
   ]
  },
  {
   "cell_type": "markdown",
   "metadata": {},
   "source": [
    "Python has many built in maths functions. Don't worry if maths has not been your thing in the past. The examples here are just to illustrate how to use a \"package\""
   ]
  },
  {
   "cell_type": "code",
   "execution_count": 43,
   "metadata": {},
   "outputs": [
    {
     "ename": "NameError",
     "evalue": "name 'sin' is not defined",
     "output_type": "error",
     "traceback": [
      "\u001b[1;31m---------------------------------------------------------------------------\u001b[0m",
      "\u001b[1;31mNameError\u001b[0m                                 Traceback (most recent call last)",
      "\u001b[1;32m<ipython-input-43-2b9459f171b9>\u001b[0m in \u001b[0;36m<module>\u001b[1;34m\u001b[0m\n\u001b[1;32m----> 1\u001b[1;33m \u001b[0msin\u001b[0m\u001b[1;33m(\u001b[0m\u001b[1;36m30\u001b[0m\u001b[1;33m)\u001b[0m\u001b[1;33m\u001b[0m\u001b[1;33m\u001b[0m\u001b[0m\n\u001b[0m\u001b[0;32m      2\u001b[0m \u001b[1;31m# without telling Python where to find the sin(() function it will generate an error ...)\u001b[0m\u001b[1;33m\u001b[0m\u001b[1;33m\u001b[0m\u001b[1;33m\u001b[0m\u001b[0m\n",
      "\u001b[1;31mNameError\u001b[0m: name 'sin' is not defined"
     ]
    }
   ],
   "source": [
    "sin(30)\n",
    "# without telling Python where to find the sin(() function it will generate an error ...) "
   ]
  },
  {
   "cell_type": "code",
   "execution_count": 1,
   "metadata": {},
   "outputs": [
    {
     "name": "stdout",
     "output_type": "stream",
     "text": [
      "-0.9880316240928618\n"
     ]
    }
   ],
   "source": [
    "# to use maths functions, we must import the math package (or module) and access the function via the module name, e.g.\n",
    "import math\n",
    "print(math.sin(30))"
   ]
  },
  {
   "cell_type": "code",
   "execution_count": null,
   "metadata": {},
   "outputs": [],
   "source": [
    "# Similarly, for other maths functions ..."
   ]
  },
  {
   "cell_type": "code",
   "execution_count": 2,
   "metadata": {},
   "outputs": [
    {
     "name": "stdout",
     "output_type": "stream",
     "text": [
      "4.605170185988092\n",
      "2.0\n",
      "6.0\n",
      "2.718281828459045\n",
      "3.141592653589793\n"
     ]
    }
   ],
   "source": [
    "print(math.log(100)) # log() is log to base e\n",
    "print(math.log10(100)) # log10() is log to base 10\n",
    "print(math.sqrt(36)) # square root is done by the sqrt() function\n",
    "print(math.exp(1)) # exp is the exponential function\n",
    "print(math.pi) # pi is not a \"function\" i.e. note there are no brackets, pi is a constant stored in the math package"
   ]
  },
  {
   "cell_type": "markdown",
   "metadata": {},
   "source": [
    "## Task 3b Saving data in Variables\n",
    "Often we want to save the results of a calculation for use later. \n",
    "We can save calculation in named variables . \n",
    "For example:"
   ]
  },
  {
   "cell_type": "code",
   "execution_count": 3,
   "metadata": {},
   "outputs": [
    {
     "name": "stdout",
     "output_type": "stream",
     "text": [
      "70\n"
     ]
    }
   ],
   "source": [
    "p = 14 * 5\n",
    "print(p)"
   ]
  },
  {
   "cell_type": "code",
   "execution_count": 4,
   "metadata": {},
   "outputs": [
    {
     "name": "stdout",
     "output_type": "stream",
     "text": [
      " square root of 10 was stored in q and is  3.1622776601683795\n",
      "11.16227766016838\n",
      "10.000000000000002\n",
      "221.35943621178657\n"
     ]
    }
   ],
   "source": [
    "# Similarly\n",
    "q=math.sqrt(10)\n",
    "print(\" square root of 10 was stored in q and is \", q)\n",
    "# variables can then be used in calculations\n",
    "r=8+q\n",
    "print(r)\n",
    "s=q**2\n",
    "print(s)\n",
    "t=p*q\n",
    "print(t)"
   ]
  },
  {
   "cell_type": "code",
   "execution_count": null,
   "metadata": {},
   "outputs": [],
   "source": [
    "# But note that Python is case sensitive, so A is different variable to a, etc.\n",
    "g = p+q\n",
    "G = p+q+1\n",
    "print(\"g = \", g, \" but G = \", G)"
   ]
  },
  {
   "cell_type": "markdown",
   "metadata": {},
   "source": [
    "## Task 3c Simple plots using matplotlib\n",
    "Often we want to save the results of a calculation for use later. \n",
    "We can save calculation in named variables . \n",
    "For example:"
   ]
  },
  {
   "cell_type": "code",
   "execution_count": 29,
   "metadata": {},
   "outputs": [
    {
     "data": {
      "image/png": "[encoded data removed]",
      "text/plain": [
       "<Figure size 432x288 with 1 Axes>"
      ]
     },
     "metadata": {
      "needs_background": "light"
     },
     "output_type": "display_data"
    }
   ],
   "source": [
    "## Task 3c Simple plots in python\n",
    "x= [0,1,2,3,4,5]\n",
    "y = [0,1,4,9,16,25]\n",
    "import matplotlib.pyplot as plt\n",
    "plt.xlabel(\"x\")\n",
    "plt.ylabel(\"y\")\n",
    "plt.plot(x, y)\t# using plot function\n",
    "plt.show()\n"
   ]
  },
  {
   "cell_type": "code",
   "execution_count": 44,
   "metadata": {},
   "outputs": [
    {
     "data": {
      "image/png": "[encoded data removed]",
      "text/plain": [
       "<Figure size 432x288 with 1 Axes>"
      ]
     },
     "metadata": {},
     "output_type": "display_data"
    }
   ],
   "source": [
    "year = [\"2016\", \"2017\", \"2018\", \"2019\"]\n",
    "sales = [350, 270, 40, 600]\n",
    "import matplotlib.pyplot as plt\n",
    "plt.xlabel(\"year\") , plt.ylabel(\"sales\")\n",
    "plt.pie(sales, labels=year)\t# using pie function\n",
    "plt.show()\n"
   ]
  },
  {
   "cell_type": "code",
   "execution_count": 30,
   "metadata": {},
   "outputs": [
    {
     "data": {
      "image/png": "[encoded data removed]",
      "text/plain": [
       "<Figure size 432x288 with 1 Axes>"
      ]
     },
     "metadata": {
      "needs_background": "light"
     },
     "output_type": "display_data"
    }
   ],
   "source": [
    "year = [\"2016\", \"2017\", \"2018\", \"2019\"]\n",
    "sales = [350, 270, 40, 600]\n",
    "import matplotlib.pyplot as plt\n",
    "plt.xlabel(\"year\") , p.ylabel(\"sales\")\n",
    "plt.bar(x = year, height = sales)\t# using bar function\n",
    "plt.show()"
   ]
  },
  {
   "cell_type": "code",
   "execution_count": 31,
   "metadata": {},
   "outputs": [
    {
     "data": {
      "image/png": "[encoded data removed]",
      "text/plain": [
       "<Figure size 432x288 with 1 Axes>"
      ]
     },
     "metadata": {},
     "output_type": "display_data"
    }
   ],
   "source": [
    "plt.pie(sales, labels=year, colors = ['green','lightgreen', 'lightblue','blue'])\n",
    "# using pie function with colours we choose\n",
    "plt.show()"
   ]
  },
  {
   "cell_type": "code",
   "execution_count": 21,
   "metadata": {},
   "outputs": [
    {
     "data": {
      "text/html": [
       "<div>\n",
       "<style scoped>\n",
       "    .dataframe tbody tr th:only-of-type {\n",
       "        vertical-align: middle;\n",
       "    }\n",
       "\n",
       "    .dataframe tbody tr th {\n",
       "        vertical-align: top;\n",
       "    }\n",
       "\n",
       "    .dataframe thead th {\n",
       "        text-align: right;\n",
       "    }\n",
       "</style>\n",
       "<table border=\"1\" class=\"dataframe\">\n",
       "  <thead>\n",
       "    <tr style=\"text-align: right;\">\n",
       "      <th></th>\n",
       "      <th>Year</th>\n",
       "      <th>Sales</th>\n",
       "    </tr>\n",
       "  </thead>\n",
       "  <tbody>\n",
       "    <tr>\n",
       "      <th>0</th>\n",
       "      <td>2016</td>\n",
       "      <td>350</td>\n",
       "    </tr>\n",
       "    <tr>\n",
       "      <th>1</th>\n",
       "      <td>2017</td>\n",
       "      <td>270</td>\n",
       "    </tr>\n",
       "    <tr>\n",
       "      <th>2</th>\n",
       "      <td>2018</td>\n",
       "      <td>40</td>\n",
       "    </tr>\n",
       "    <tr>\n",
       "      <th>3</th>\n",
       "      <td>2019</td>\n",
       "      <td>600</td>\n",
       "    </tr>\n",
       "  </tbody>\n",
       "</table>\n",
       "</div>"
      ],
      "text/plain": [
       "   Year  Sales\n",
       "0  2016    350\n",
       "1  2017    270\n",
       "2  2018     40\n",
       "3  2019    600"
      ]
     },
     "execution_count": 21,
     "metadata": {},
     "output_type": "execute_result"
    }
   ],
   "source": [
    "## As a little look ahead, lst's sture the two lists in a \"DataFrame\"\n",
    "import pandas as pd\n",
    "data = pd.DataFrame({'Year': year, \"Sales\": sales})\n",
    "data\n"
   ]
  },
  {
   "cell_type": "code",
   "execution_count": 22,
   "metadata": {},
   "outputs": [
    {
     "data": {
      "image/png": "[encoded data removed]",
      "text/plain": [
       "<Figure size 432x288 with 1 Axes>"
      ]
     },
     "metadata": {
      "needs_background": "light"
     },
     "output_type": "display_data"
    }
   ],
   "source": [
    "## We can then use the pandas plotting functions instad\n",
    "data = data.plot.bar('Year', 'Sales')"
   ]
  },
  {
   "cell_type": "markdown",
   "metadata": {},
   "source": [
    "We shall return with many more plots in later topics"
   ]
  },
  {
   "cell_type": "code",
   "execution_count": null,
   "metadata": {},
   "outputs": [],
   "source": []
  }
 ],
 "metadata": {
  "kernelspec": {
   "display_name": "Python 3",
   "language": "python",
   "name": "python3"
  },
  "language_info": {
   "codemirror_mode": {
    "name": "ipython",
    "version": 3
   },
   "file_extension": ".py",
   "mimetype": "text/x-python",
   "name": "python",
   "nbconvert_exporter": "python",
   "pygments_lexer": "ipython3",
   "version": "3.8.3"
  }
 },
 "nbformat": 4,
 "nbformat_minor": 2
}
